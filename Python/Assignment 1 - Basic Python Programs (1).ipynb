{
 "cells": [
  {
   "cell_type": "markdown",
   "id": "fd8a397e",
   "metadata": {
    "id": "fd8a397e"
   },
   "source": [
    "# Assessment - 1 Gradable\n",
    "\n",
    "- Each question carries 2 marks\n",
    "- Marks will be assigned in terms of:\n",
    "    \n",
    "    **1. Expected output**\n",
    "    \n",
    "    **2. Quality and Explainability of code**\n",
    "\n",
    "    ***Go back through the script and type a comment above each line explaining in English what it does.***\n",
    "\n",
    "    **3. Copied code, if found, will result in 0 marks for that question. To avoid this make as much comments in the code to explain the approach**"
   ]
  },
  {
   "cell_type": "markdown",
   "id": "b71e4d6e",
   "metadata": {
    "id": "b71e4d6e"
   },
   "source": [
    "### 1.\n",
    "\n",
    "Write a program to Find the Factorial of a given input Number"
   ]
  },
  {
   "cell_type": "code",
   "execution_count": 2,
   "id": "5fdfd2dd",
   "metadata": {
    "colab": {
     "base_uri": "https://localhost:8080/"
    },
    "executionInfo": {
     "elapsed": 6173,
     "status": "ok",
     "timestamp": 1674046314756,
     "user": {
      "displayName": "Priyanka Gaikwad",
      "userId": "08105019225656759200"
     },
     "user_tz": -330
    },
    "id": "5fdfd2dd",
    "outputId": "89741c7c-3902-4aed-edd4-ef79de5e19a0"
   },
   "outputs": [
    {
     "name": "stdout",
     "output_type": "stream",
     "text": [
      "enter number: 4\n",
      "24\n"
     ]
    }
   ],
   "source": [
    "import math\n",
    "n=int(input(\"enter number: \"))\n",
    "print(math.factorial(n))\n"
   ]
  },
  {
   "cell_type": "markdown",
   "id": "19219461",
   "metadata": {
    "id": "19219461"
   },
   "source": [
    "### 2. \n",
    "\n",
    "Write a program to check if the given year is a Leap Year or not"
   ]
  },
  {
   "cell_type": "code",
   "execution_count": 6,
   "id": "ea1f3f35",
   "metadata": {
    "colab": {
     "base_uri": "https://localhost:8080/"
    },
    "executionInfo": {
     "elapsed": 4381,
     "status": "ok",
     "timestamp": 1674048450503,
     "user": {
      "displayName": "Priyanka Gaikwad",
      "userId": "08105019225656759200"
     },
     "user_tz": -330
    },
    "id": "ea1f3f35",
    "outputId": "213af2db-bed9-4f01-d0bd-818c85f60eaf"
   },
   "outputs": [
    {
     "name": "stdout",
     "output_type": "stream",
     "text": [
      "enter year: 2024\n",
      " leap year\n"
     ]
    }
   ],
   "source": [
    "year=int(input(\"enter year: \"))\n",
    "if year%4==0:\n",
    "\n",
    "  if year%100==0:\n",
    "    if year%400==0:\n",
    "      print(\"leap year\")\n",
    "    else:\n",
    "      print(\"not leap year\")\n",
    "  else:\n",
    "    print(\" leap year\")\n",
    "else:\n",
    "  print(\"not leap year\")"
   ]
  },
  {
   "cell_type": "markdown",
   "id": "58bb969b",
   "metadata": {
    "id": "58bb969b"
   },
   "source": [
    "### 3.\n",
    "\n",
    "Write a program to convert from Celsius To Fahrenheit"
   ]
  },
  {
   "cell_type": "code",
   "execution_count": 7,
   "id": "d09b33c6",
   "metadata": {
    "colab": {
     "base_uri": "https://localhost:8080/"
    },
    "executionInfo": {
     "elapsed": 519,
     "status": "ok",
     "timestamp": 1674048593399,
     "user": {
      "displayName": "Priyanka Gaikwad",
      "userId": "08105019225656759200"
     },
     "user_tz": -330
    },
    "id": "d09b33c6",
    "outputId": "276e9438-3337-4225-962c-341d1eeb71d5"
   },
   "outputs": [
    {
     "name": "stdout",
     "output_type": "stream",
     "text": [
      "54 degree Celsius is equal to 129.2 degree Fahrenheit.\n"
     ]
    }
   ],
   "source": [
    "celsius = 54\n",
    "fahrenheit = (celsius * 1.8) + 32\n",
    "print(str(celsius )+ \" degree Celsius is equal to \" + str(fahrenheit )+ \" degree Fahrenheit.\")"
   ]
  },
  {
   "cell_type": "markdown",
   "id": "8658a415",
   "metadata": {
    "id": "8658a415"
   },
   "source": [
    "### 4.\n",
    "\n",
    "Write a program to check if the given number is a palindrome number.\n",
    "\n",
    "A palindrome number is a number that is same after reverse. For example, 121 is a palindrome number."
   ]
  },
  {
   "cell_type": "code",
   "execution_count": 9,
   "id": "a0974be7",
   "metadata": {
    "colab": {
     "base_uri": "https://localhost:8080/"
    },
    "executionInfo": {
     "elapsed": 13586,
     "status": "ok",
     "timestamp": 1674048913499,
     "user": {
      "displayName": "Priyanka Gaikwad",
      "userId": "08105019225656759200"
     },
     "user_tz": -330
    },
    "id": "a0974be7",
    "outputId": "fac21c8f-0453-431f-9e79-207619d6fe10"
   },
   "outputs": [
    {
     "name": "stdout",
     "output_type": "stream",
     "text": [
      "enter number: 1\n",
      "enter 2nd number2\n",
      "number are: 121\n"
     ]
    }
   ],
   "source": [
    "p=int(input(\"enter number: \"))\n",
    "b=int(input(\"enter 2nd number\"))\n",
    "\n",
    "print(f\"number are: {p}{b}{p}\")"
   ]
  },
  {
   "cell_type": "code",
   "execution_count": 10,
   "id": "n6X0KVHNGBt9",
   "metadata": {
    "colab": {
     "base_uri": "https://localhost:8080/"
    },
    "executionInfo": {
     "elapsed": 3741,
     "status": "ok",
     "timestamp": 1674048976629,
     "user": {
      "displayName": "Priyanka Gaikwad",
      "userId": "08105019225656759200"
     },
     "user_tz": -330
    },
    "id": "n6X0KVHNGBt9",
    "outputId": "68744058-a5ae-4d90-93d4-9469a3a616fb"
   },
   "outputs": [
    {
     "name": "stdout",
     "output_type": "stream",
     "text": [
      "Enter number:121\n",
      "The number is a palindrome!\n"
     ]
    }
   ],
   "source": [
    "n=int(input(\"Enter number:\"))\n",
    "temp=n\n",
    "rev=0\n",
    "while(n>0):\n",
    "    dig=n%10\n",
    "    rev=rev*10+dig\n",
    "    n=n//10\n",
    "if(temp==rev):\n",
    "    print(\"The number is a palindrome!\")\n",
    "else:\n",
    "    print(\"The number isn't a palindrome!\")"
   ]
  },
  {
   "cell_type": "markdown",
   "id": "0b487dc1",
   "metadata": {
    "id": "0b487dc1"
   },
   "source": [
    "### 5. \n",
    "\n",
    "Write a program to Generate a Random Number from 1 to 100 and check if it's even or odd number"
   ]
  },
  {
   "cell_type": "code",
   "execution_count": 1,
   "id": "32d2205e",
   "metadata": {
    "colab": {
     "base_uri": "https://localhost:8080/"
    },
    "executionInfo": {
     "elapsed": 21,
     "status": "ok",
     "timestamp": 1674045322626,
     "user": {
      "displayName": "Priyanka Gaikwad",
      "userId": "08105019225656759200"
     },
     "user_tz": -330
    },
    "id": "32d2205e",
    "outputId": "05ccaa9b-ed8e-47cd-d355-a75b9da1a817"
   },
   "outputs": [
    {
     "name": "stdout",
     "output_type": "stream",
     "text": [
      "odd no :  1\n",
      "even no : 2\n",
      "odd no :  3\n",
      "even no : 4\n",
      "odd no :  5\n",
      "even no : 6\n",
      "odd no :  7\n",
      "even no : 8\n",
      "odd no :  9\n",
      "even no : 10\n",
      "odd no :  11\n",
      "even no : 12\n",
      "odd no :  13\n",
      "even no : 14\n",
      "odd no :  15\n",
      "even no : 16\n",
      "odd no :  17\n",
      "even no : 18\n",
      "odd no :  19\n",
      "even no : 20\n",
      "odd no :  21\n",
      "even no : 22\n",
      "odd no :  23\n",
      "even no : 24\n",
      "odd no :  25\n",
      "even no : 26\n",
      "odd no :  27\n",
      "even no : 28\n",
      "odd no :  29\n",
      "even no : 30\n",
      "odd no :  31\n",
      "even no : 32\n",
      "odd no :  33\n",
      "even no : 34\n",
      "odd no :  35\n",
      "even no : 36\n",
      "odd no :  37\n",
      "even no : 38\n",
      "odd no :  39\n",
      "even no : 40\n",
      "odd no :  41\n",
      "even no : 42\n",
      "odd no :  43\n",
      "even no : 44\n",
      "odd no :  45\n",
      "even no : 46\n",
      "odd no :  47\n",
      "even no : 48\n",
      "odd no :  49\n",
      "even no : 50\n",
      "odd no :  51\n",
      "even no : 52\n",
      "odd no :  53\n",
      "even no : 54\n",
      "odd no :  55\n",
      "even no : 56\n",
      "odd no :  57\n",
      "even no : 58\n",
      "odd no :  59\n",
      "even no : 60\n",
      "odd no :  61\n",
      "even no : 62\n",
      "odd no :  63\n",
      "even no : 64\n",
      "odd no :  65\n",
      "even no : 66\n",
      "odd no :  67\n",
      "even no : 68\n",
      "odd no :  69\n",
      "even no : 70\n",
      "odd no :  71\n",
      "even no : 72\n",
      "odd no :  73\n",
      "even no : 74\n",
      "odd no :  75\n",
      "even no : 76\n",
      "odd no :  77\n",
      "even no : 78\n",
      "odd no :  79\n",
      "even no : 80\n",
      "odd no :  81\n",
      "even no : 82\n",
      "odd no :  83\n",
      "even no : 84\n",
      "odd no :  85\n",
      "even no : 86\n",
      "odd no :  87\n",
      "even no : 88\n",
      "odd no :  89\n",
      "even no : 90\n",
      "odd no :  91\n",
      "even no : 92\n",
      "odd no :  93\n",
      "even no : 94\n",
      "odd no :  95\n",
      "even no : 96\n",
      "odd no :  97\n",
      "even no : 98\n",
      "odd no :  99\n",
      "even no : 100\n"
     ]
    }
   ],
   "source": [
    "\n",
    "for i in range(1,101):\n",
    "  if i%2==0:\n",
    "    print(\"even no :\",i)\n",
    "  else:\n",
    "    print(\"odd no : \", i)"
   ]
  },
  {
   "cell_type": "code",
   "execution_count": null,
   "id": "3KG4EzUB4G4H",
   "metadata": {
    "id": "3KG4EzUB4G4H"
   },
   "outputs": [],
   "source": []
  }
 ],
 "metadata": {
  "colab": {
   "provenance": []
  },
  "kernelspec": {
   "display_name": "Python 3 (ipykernel)",
   "language": "python",
   "name": "python3"
  },
  "language_info": {
   "codemirror_mode": {
    "name": "ipython",
    "version": 3
   },
   "file_extension": ".py",
   "mimetype": "text/x-python",
   "name": "python",
   "nbconvert_exporter": "python",
   "pygments_lexer": "ipython3",
   "version": "3.10.9"
  }
 },
 "nbformat": 4,
 "nbformat_minor": 5
}
