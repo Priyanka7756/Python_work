{
 "cells": [
  {
   "cell_type": "markdown",
   "id": "eef4685e",
   "metadata": {},
   "source": [
    "### 1. Write a function called factorial that takes a positive integer as input and returns it factorial.\n"
   ]
  },
  {
   "cell_type": "code",
   "execution_count": 4,
   "id": "2379df77",
   "metadata": {},
   "outputs": [
    {
     "name": "stdout",
     "output_type": "stream",
     "text": [
      "enter number: 5\n",
      "120\n"
     ]
    }
   ],
   "source": [
    "def fac2(fac):                  # define function\n",
    "    if fac==0 or fac==1:\n",
    "        return 1\n",
    "    else:\n",
    "        return fac*fac2(fac-1)\n",
    "                                           # take input from user\n",
    "num =int(input('enter number: '))\n",
    "if num<0:\n",
    "    print('num is nagtive ')\n",
    "else:\n",
    "    result=fac2(num)\n",
    "print(result)\n"
   ]
  },
  {
   "cell_type": "markdown",
   "id": "1a5e9d65",
   "metadata": {},
   "source": [
    "### 2. Write a function called is_palindrome that takes a string as input and returns True if the string is a palindrome (reads the same forwards and backwards), and False otherwise.\n"
   ]
  },
  {
   "cell_type": "code",
   "execution_count": 8,
   "id": "e3034525",
   "metadata": {},
   "outputs": [
    {
     "name": "stdout",
     "output_type": "stream",
     "text": [
      "enter str: mmm\n",
      "True\n"
     ]
    }
   ],
   "source": [
    "new=input('enter str: ')   # take input from user \n",
    "def is_palidrom(st):         # define function\n",
    "    if st==st[::-1]:\n",
    "        return True\n",
    "    else:\n",
    "        return False\n",
    "result=is_palidrom(new)\n",
    "print(result)\n",
    "\n"
   ]
  },
  {
   "cell_type": "markdown",
   "id": "a76ad0d2",
   "metadata": {},
   "source": [
    "### 3. Write a function called remove_duplicates that takes a list as input and returns a new list with all the duplicate elements removed, while maintaining the original order of elements.\n"
   ]
  },
  {
   "cell_type": "code",
   "execution_count": 13,
   "id": "27bb4509",
   "metadata": {},
   "outputs": [
    {
     "name": "stdout",
     "output_type": "stream",
     "text": [
      "[12, 2, 23, 34, 5]\n"
     ]
    }
   ],
   "source": [
    "new=[12,2,23,12,34,5,5]\n",
    "def lst(l):\n",
    "    t=[]\n",
    "    n=set()\n",
    "    for i in l:\n",
    "        if i not in n:\n",
    "            t.append(i)\n",
    "            n.add(i)\n",
    "    return t\n",
    "result=lst(new)\n",
    "print(result)\n",
    "    \n"
   ]
  },
  {
   "cell_type": "markdown",
   "id": "7b6eb97f",
   "metadata": {},
   "source": [
    "### 4.Write a function called common_elements that takes two lists as input and returns a new list containing the common elements between the two lists.\n"
   ]
  },
  {
   "cell_type": "code",
   "execution_count": 17,
   "id": "d6d68a6a",
   "metadata": {},
   "outputs": [
    {
     "name": "stdout",
     "output_type": "stream",
     "text": [
      "[2, 3]\n"
     ]
    }
   ],
   "source": [
    "lst1=[2,3,4,5,6]                  # define 2 list\n",
    "lst2=[2,3,7,8,9]\n",
    "def uniqu(lst1,lst2):             # define function\n",
    "    lst3=[]\n",
    "    for i in lst1:\n",
    "        if i in lst2 and i  not in lst3:\n",
    "            lst3.append(i)\n",
    "    return lst3\n",
    "result=uniqu(lst1,lst2)\n",
    "print(result)\n",
    "    "
   ]
  },
  {
   "cell_type": "markdown",
   "id": "f13648ca",
   "metadata": {},
   "source": [
    "### 5.Write a function called binary_search that takes a sorted list and a target value as input and returns the index of the target value in the list, or -1 if the value is not found.\n"
   ]
  },
  {
   "cell_type": "code",
   "execution_count": 19,
   "id": "bbfe8490",
   "metadata": {},
   "outputs": [
    {
     "name": "stdout",
     "output_type": "stream",
     "text": [
      "2\n"
     ]
    }
   ],
   "source": [
    "def binary(sort, target):\n",
    "    low = 0\n",
    "    high = len(sort) - 1\n",
    "\n",
    "    while low <= high:\n",
    "        mid = (low + high) // 2\n",
    "        if sort[mid] == target:\n",
    "            return mid\n",
    "        elif sort[mid] < target:\n",
    "            low = mid + 1\n",
    "        else:\n",
    "            high = mid - 1\n",
    "\n",
    "    return -1\n",
    "lst3=[11,2,34,56,6]\n",
    "target=34\n",
    "result=binary(lst3,target)\n",
    "print(result)"
   ]
  },
  {
   "cell_type": "markdown",
   "id": "df8dbe6e",
   "metadata": {},
   "source": [
    "### 6.Write a function called matrix_transpose that takes a 2D matrix (a list of lists) as input and returns the transpose of the matrix.\n"
   ]
  },
  {
   "cell_type": "code",
   "execution_count": 23,
   "id": "adfa2b03",
   "metadata": {},
   "outputs": [
    {
     "name": "stdout",
     "output_type": "stream",
     "text": [
      "[1, 2, 3]\n",
      "[4, 5, 6]\n",
      "[7, 8, 9]\n",
      "\n",
      "[1, 4, 7]\n",
      "[2, 5, 8]\n",
      "[3, 6, 9]\n"
     ]
    }
   ],
   "source": [
    "def trans(matrix):\n",
    "    rows = len(matrix)\n",
    "    cols = len(matrix[0])\n",
    "\n",
    "    t_matrix = []\n",
    "    for i in range(cols):\n",
    "        row = []\n",
    "        for j in range(rows):\n",
    "            row.append(matrix[j][i])\n",
    "        t_matrix.append(row)\n",
    "\n",
    "    return t_matrix\n",
    "\n",
    "matrix = [[1, 2, 3],\n",
    "          [4, 5, 6],\n",
    "          [7, 8, 9]]\n",
    "t_matrix = trans(matrix)\n",
    "\n",
    "for row in matrix:\n",
    "    print(row)\n",
    "    \n",
    "print()\n",
    "for row in t_matrix:\n",
    "    print(row)"
   ]
  },
  {
   "cell_type": "markdown",
   "id": "76699500",
   "metadata": {},
   "source": [
    "### 7.Write a function called find_missing_number that takes a list of integers from 1 to N (inclusive) with one number missing, and returns the missing number.\n"
   ]
  },
  {
   "cell_type": "code",
   "execution_count": 26,
   "id": "fc6772c6",
   "metadata": {},
   "outputs": [
    {
     "name": "stdout",
     "output_type": "stream",
     "text": [
      "3\n"
     ]
    }
   ],
   "source": [
    "def find_missing_number(nums):\n",
    "    n = len(nums) + 1\n",
    "    total_sum = (n * (n + 1)) // 2\n",
    "    array_sum = sum(nums)\n",
    "    missing_number = total_sum - array_sum\n",
    "    return missing_number\n",
    "\n",
    "numbers = [1, 2, 4, 5, 6]\n",
    "missing_number = find_missing_number(numbers)\n",
    "print(missing_number)\n"
   ]
  },
  {
   "cell_type": "markdown",
   "id": "5bc5af01",
   "metadata": {},
   "source": [
    "### 8.Write a function called flatten_list that takes a nested list as input and returns a flattened version of the list.\n"
   ]
  },
  {
   "cell_type": "code",
   "execution_count": 28,
   "id": "59cc25a4",
   "metadata": {},
   "outputs": [
    {
     "name": "stdout",
     "output_type": "stream",
     "text": [
      "[1, 2, 3, 4, 5, 6, 7, 8]\n"
     ]
    }
   ],
   "source": [
    "def flatten(nested_list):   # define function\n",
    "    list1 = []               # define empty list\n",
    "\n",
    "    def flatten_help(lst):     \n",
    "        for item in lst:\n",
    "            if isinstance(item, list):  # using isinstance\n",
    "                flatten_help(item)\n",
    "            else:\n",
    "                list1.append(item)\n",
    "\n",
    "    flatten_help(nested_list)\n",
    "    return list1\n",
    "\n",
    "nested_list = [1, [2, [3, 4], 5], 6, [7, 8]]\n",
    "list1= flatten_list(nested_list)\n",
    "print(list1)"
   ]
  },
  {
   "cell_type": "markdown",
   "id": "db48cd0e",
   "metadata": {},
   "source": [
    "### 9.Write a function called capitalize_words that takes a sentence as input and returns a new sentence where the first letter of each word is capitalized.\n"
   ]
  },
  {
   "cell_type": "code",
   "execution_count": 32,
   "id": "42d66da1",
   "metadata": {},
   "outputs": [
    {
     "name": "stdout",
     "output_type": "stream",
     "text": [
      " My Name\n"
     ]
    }
   ],
   "source": [
    "def capitalize_words(str1):\n",
    "    new=str1.title()\n",
    "    return new\n",
    "str1=' my name'\n",
    "result=capitalize_words(str1)\n",
    "print(result)"
   ]
  },
  {
   "cell_type": "markdown",
   "id": "dc4ab6b8",
   "metadata": {},
   "source": [
    "### 10. Write a function called is_anagram that takes two strings as input and returns True if the two strings are anagrams (contain the same characters in any order), and False otherwise.\n"
   ]
  },
  {
   "cell_type": "code",
   "execution_count": 33,
   "id": "5e0d315c",
   "metadata": {},
   "outputs": [],
   "source": [
    "def is_anagram(str1, str2):\n",
    "    str1 = str1.lower()\n",
    "    str2 = str2.lower()\n",
    "\n",
    "    if len(str1) != len(str2):\n",
    "        return False\n",
    "\n",
    "    char_count = {}\n",
    "\n",
    "    for char in str1:\n",
    "        if char in char_count:\n",
    "            char_count[char] += 1\n",
    "        else:\n",
    "            char_count[char] = 1\n",
    "\n",
    "    for char in str2:\n",
    "        if char in char_count:\n",
    "            char_count[char] -= 1\n",
    "        else:\n",
    "            return False\n",
    "\n",
    "    return all(value == 0 for value in char_count.values())"
   ]
  },
  {
   "cell_type": "code",
   "execution_count": 34,
   "id": "38c79d55",
   "metadata": {},
   "outputs": [
    {
     "name": "stdout",
     "output_type": "stream",
     "text": [
      "False\n"
     ]
    }
   ],
   "source": [
    "string1 = \"programming\"\n",
    "string2 = \"python\"\n",
    "print(is_anagram(string1, string2))"
   ]
  },
  {
   "cell_type": "code",
   "execution_count": null,
   "id": "e0490dbe",
   "metadata": {},
   "outputs": [],
   "source": []
  },
  {
   "cell_type": "code",
   "execution_count": 43,
   "id": "95b72fd2",
   "metadata": {},
   "outputs": [
    {
     "data": {
      "text/plain": [
       "[10, 20, 30, 40, 50]"
      ]
     },
     "execution_count": 43,
     "metadata": {},
     "output_type": "execute_result"
    }
   ],
   "source": [
    "my_list = [10, 20, 30, 40, 50]\n",
    "my_list[::]"
   ]
  },
  {
   "cell_type": "code",
   "execution_count": null,
   "id": "89f81d29",
   "metadata": {},
   "outputs": [],
   "source": []
  },
  {
   "cell_type": "code",
   "execution_count": null,
   "id": "d0c310f1",
   "metadata": {},
   "outputs": [],
   "source": []
  },
  {
   "cell_type": "code",
   "execution_count": null,
   "id": "0f4e8bb9",
   "metadata": {},
   "outputs": [],
   "source": []
  },
  {
   "cell_type": "code",
   "execution_count": null,
   "id": "ada7561c",
   "metadata": {},
   "outputs": [],
   "source": []
  },
  {
   "cell_type": "code",
   "execution_count": null,
   "id": "4cd87afa",
   "metadata": {},
   "outputs": [],
   "source": []
  },
  {
   "cell_type": "code",
   "execution_count": null,
   "id": "f83c1728",
   "metadata": {},
   "outputs": [],
   "source": []
  },
  {
   "cell_type": "code",
   "execution_count": null,
   "id": "63eb1a9e",
   "metadata": {},
   "outputs": [],
   "source": []
  },
  {
   "cell_type": "code",
   "execution_count": null,
   "id": "b2e3ec69",
   "metadata": {},
   "outputs": [],
   "source": []
  },
  {
   "cell_type": "code",
   "execution_count": null,
   "id": "cae24103",
   "metadata": {},
   "outputs": [],
   "source": []
  },
  {
   "cell_type": "code",
   "execution_count": null,
   "id": "2f17aea9",
   "metadata": {},
   "outputs": [],
   "source": []
  }
 ],
 "metadata": {
  "kernelspec": {
   "display_name": "Python 3 (ipykernel)",
   "language": "python",
   "name": "python3"
  },
  "language_info": {
   "codemirror_mode": {
    "name": "ipython",
    "version": 3
   },
   "file_extension": ".py",
   "mimetype": "text/x-python",
   "name": "python",
   "nbconvert_exporter": "python",
   "pygments_lexer": "ipython3",
   "version": "3.10.9"
  }
 },
 "nbformat": 4,
 "nbformat_minor": 5
}
