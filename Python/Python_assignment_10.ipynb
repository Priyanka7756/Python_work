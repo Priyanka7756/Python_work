{
 "cells": [
  {
   "cell_type": "markdown",
   "id": "299af164",
   "metadata": {},
   "source": [
    "### 1.  Write a Python program to check a dictionary is empty or not\n"
   ]
  },
  {
   "cell_type": "code",
   "execution_count": 1,
   "id": "d7f7fd3b",
   "metadata": {},
   "outputs": [
    {
     "name": "stdout",
     "output_type": "stream",
     "text": [
      "empty\n"
     ]
    }
   ],
   "source": [
    "dict1={}  # create dict\n",
    "if len(dict1)==0:  # check length if lenght =0 then empty or else not empty\n",
    "    print('empty')\n",
    "else:\n",
    "    print('not empty')"
   ]
  },
  {
   "cell_type": "code",
   "execution_count": 4,
   "id": "0b0fd460",
   "metadata": {},
   "outputs": [
    {
     "name": "stdout",
     "output_type": "stream",
     "text": [
      "not empty\n"
     ]
    }
   ],
   "source": [
    "def dict_empty(dict1):\n",
    "    return not bool(dict1)\n",
    "dict1={'a':12,'b':23}\n",
    "if dict_empty(dict1):\n",
    "    print('dict is empty ')\n",
    "else:\n",
    "    print('not empty')"
   ]
  },
  {
   "cell_type": "markdown",
   "id": "b1f45b79",
   "metadata": {},
   "source": [
    "### 2. Write a Python program to remove duplicates from Dictionary.\n"
   ]
  },
  {
   "cell_type": "code",
   "execution_count": 11,
   "id": "2a7f8023",
   "metadata": {},
   "outputs": [
    {
     "data": {
      "text/plain": [
       "{'a', 'b', 'c'}"
      ]
     },
     "execution_count": 11,
     "metadata": {},
     "output_type": "execute_result"
    }
   ],
   "source": [
    "dict1={'a':12,'b':23,'c':45,'a':12}\n",
    "dict2=set(dict1)\n",
    "dict2\n"
   ]
  },
  {
   "cell_type": "code",
   "execution_count": 13,
   "id": "a8f01216",
   "metadata": {},
   "outputs": [
    {
     "name": "stdout",
     "output_type": "stream",
     "text": [
      "{'a': 12, 'b': 23, 'c': 45}\n"
     ]
    }
   ],
   "source": [
    "dict1={'a':12,'b':23,'c':45,'a':12}\n",
    "dict3={}\n",
    "for key,value in dict1.items():\n",
    "    if value not in dict3.values():\n",
    "        dict3[key]=value\n",
    "print(dict3)"
   ]
  },
  {
   "cell_type": "markdown",
   "id": "2223fcad",
   "metadata": {},
   "source": [
    "### 3. Write a Python program to get a dictionary from an object's fields.\n"
   ]
  },
  {
   "cell_type": "code",
   "execution_count": 14,
   "id": "8f260039",
   "metadata": {},
   "outputs": [
    {
     "name": "stdout",
     "output_type": "stream",
     "text": [
      "{'x': 'red', 'y': 'Yellow', 'z': 'Green'}\n"
     ]
    }
   ],
   "source": [
    "class obj1(object):\n",
    "    def __init__(self):\n",
    "        self.x = 'red'\n",
    "        self.y = 'Yellow'\n",
    "        self.z = 'Green'\n",
    "    def dict2(self):\n",
    "         pass\n",
    "test = obj1()\n",
    "print(test.__dict__)"
   ]
  },
  {
   "cell_type": "markdown",
   "id": "86d0b4a1",
   "metadata": {},
   "source": [
    "### 4. Write a Python program to get the maximum and minimum value in a dictionary.\n"
   ]
  },
  {
   "cell_type": "code",
   "execution_count": 24,
   "id": "9f3f9cc8",
   "metadata": {},
   "outputs": [
    {
     "name": "stdout",
     "output_type": "stream",
     "text": [
      "min value:  ('a', 12)\n",
      "max value:  ('d', 89)\n"
     ]
    }
   ],
   "source": [
    "dict1={'a':12,'b':34,'c':67,'d':89}\n",
    "print('min value: ',min(dict1.items()))\n",
    "print('max value: ',max(dict1.items()))"
   ]
  },
  {
   "cell_type": "markdown",
   "id": "955d13ee",
   "metadata": {},
   "source": [
    "### 5.  Write a Python script to sort (ascending and descending) a dictionary by Values\n"
   ]
  },
  {
   "cell_type": "code",
   "execution_count": 28,
   "id": "5e5f9dd6",
   "metadata": {},
   "outputs": [
    {
     "name": "stdout",
     "output_type": "stream",
     "text": [
      "{'b': 12, 'a': 35, 'c': 67, 'd': 89}\n",
      "{'d': 89, 'c': 67, 'a': 35, 'b': 12}\n"
     ]
    }
   ],
   "source": [
    "dict1={'a':35,'b':12,'c':67,'d':89}   # create dictionary\n",
    "dict2=list(dict1.items())                # convert list into desc\n",
    "def new(item):                          # define function\n",
    "    return item[1]\n",
    "sort_asc=sorted(dict2,key=new)          # sort list in ascending\n",
    "dict_asc=dict(sort_asc)        \n",
    "print(dict_asc)\n",
    "\n",
    "sort_desc=sorted(dict2,key=new,reverse=True)  # sort in descending\n",
    "dict_desc=dict(sort_desc)\n",
    "print(dict_desc)\n"
   ]
  },
  {
   "cell_type": "code",
   "execution_count": 8,
   "id": "46909938",
   "metadata": {},
   "outputs": [
    {
     "name": "stdout",
     "output_type": "stream",
     "text": [
      "{'c': 67, 'b': 12, 'a': 35}\n"
     ]
    }
   ],
   "source": [
    "dict1={'a':35,'b':12,'c':67} \n",
    "dict2=dict(sorted(dict1.items(), reverse=True))\n",
    "print(dict2)"
   ]
  },
  {
   "cell_type": "code",
   "execution_count": 6,
   "id": "e724ca75",
   "metadata": {},
   "outputs": [
    {
     "name": "stdout",
     "output_type": "stream",
     "text": [
      "{'c': 3, 'b': 2, 'a': 1}\n"
     ]
    }
   ],
   "source": [
    "d = {'b': 2, 'a': 1, 'c': 3}\n",
    "sorted_d = dict(sorted(d.items(), reverse=True))\n",
    "print(sorted_d)"
   ]
  },
  {
   "cell_type": "markdown",
   "id": "6601c71a",
   "metadata": {},
   "source": [
    "### 6.  Write a Python script to add a key to a dictionary.\n"
   ]
  },
  {
   "cell_type": "code",
   "execution_count": 31,
   "id": "bb849c5d",
   "metadata": {},
   "outputs": [
    {
     "data": {
      "text/plain": [
       "{'a': 12, 'b': 34, 'c': 34, 'd': 56, 'e': 23}"
      ]
     },
     "execution_count": 31,
     "metadata": {},
     "output_type": "execute_result"
    }
   ],
   "source": [
    "dict1={'a':12,'b':34,'c':34,'d':56}\n",
    "dict1.update({'e':23})      # using update \n",
    "dict1"
   ]
  },
  {
   "cell_type": "markdown",
   "id": "00c231d8",
   "metadata": {},
   "source": [
    "### 7. Write a Python script to concatenate following dictionaries to create a new one.\n"
   ]
  },
  {
   "cell_type": "code",
   "execution_count": 35,
   "id": "76aa9790",
   "metadata": {},
   "outputs": [
    {
     "name": "stdout",
     "output_type": "stream",
     "text": [
      "{'a': 12, 'b': 34, 'c': 23, 'd': 55}\n"
     ]
    }
   ],
   "source": [
    "dict1={'a':12,'b':34}  # create dictionay\n",
    "dict2={'c':23,'d':55}\n",
    "new={}                   # create empty new dictionay\n",
    "new.update(dict1)         # update empty dict from dict1\n",
    "new.update(dict2)\n",
    "print(new)\n"
   ]
  },
  {
   "cell_type": "code",
   "execution_count": 36,
   "id": "d7c2c155",
   "metadata": {},
   "outputs": [
    {
     "name": "stdout",
     "output_type": "stream",
     "text": [
      "{'a': 12, 'b': 34} {'c': 23, 'd': 55}\n"
     ]
    }
   ],
   "source": [
    "dict1={'a':12,'b':34}\n",
    "dict2={'c':23,'d':55}\n",
    "print(dict1,dict2)"
   ]
  },
  {
   "cell_type": "code",
   "execution_count": null,
   "id": "70bbd6f4",
   "metadata": {},
   "outputs": [],
   "source": []
  }
 ],
 "metadata": {
  "kernelspec": {
   "display_name": "Python 3 (ipykernel)",
   "language": "python",
   "name": "python3"
  },
  "language_info": {
   "codemirror_mode": {
    "name": "ipython",
    "version": 3
   },
   "file_extension": ".py",
   "mimetype": "text/x-python",
   "name": "python",
   "nbconvert_exporter": "python",
   "pygments_lexer": "ipython3",
   "version": "3.10.9"
  }
 },
 "nbformat": 4,
 "nbformat_minor": 5
}
