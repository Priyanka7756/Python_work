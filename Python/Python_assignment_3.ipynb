{
 "cells": [
  {
   "cell_type": "code",
   "execution_count": null,
   "metadata": {
    "id": "VdHZ4CdtPnC-"
   },
   "outputs": [],
   "source": []
  },
  {
   "cell_type": "markdown",
   "metadata": {
    "id": "trFaWpLiPwuN"
   },
   "source": [
    "1. Write a python program to print your respective names 10 times using for loop and while\n",
    "loop"
   ]
  },
  {
   "cell_type": "code",
   "execution_count": null,
   "metadata": {
    "colab": {
     "base_uri": "https://localhost:8080/"
    },
    "id": "zflbxkPmPn5j",
    "outputId": "c6414592-fa8e-4f81-c147-0a4840d1661e"
   },
   "outputs": [
    {
     "name": "stdout",
     "output_type": "stream",
     "text": [
      "priya\n",
      "priya\n",
      "priya\n",
      "priya\n",
      "priya\n",
      "priya\n",
      "priya\n",
      "priya\n",
      "priya\n",
      "priya\n"
     ]
    }
   ],
   "source": [
    "# using for loop\n",
    "str1='priya'            \n",
    "for i in range(10):\n",
    "  print(str1)\n",
    "\n"
   ]
  },
  {
   "cell_type": "code",
   "execution_count": null,
   "metadata": {
    "colab": {
     "base_uri": "https://localhost:8080/"
    },
    "id": "8ko87lTNWhI2",
    "outputId": "ba22d255-882f-46d6-ea94-13dad6b2750e"
   },
   "outputs": [
    {
     "name": "stdout",
     "output_type": "stream",
     "text": [
      "priya\n",
      "priya\n",
      "priya\n",
      "priya\n",
      "priya\n",
      "priya\n",
      "priya\n",
      "priya\n",
      "priya\n",
      "priya\n"
     ]
    }
   ],
   "source": [
    "# using while loop\n",
    "str1='priya'\n",
    "j=0\n",
    "while j<10:\n",
    "  print(str1)\n",
    "  j+=1"
   ]
  },
  {
   "cell_type": "markdown",
   "metadata": {
    "id": "LIgcIEs6W-V7"
   },
   "source": [
    "Take user input for a natural number, calculate the sum of all number from 1 to user given\n",
    "number\n"
   ]
  },
  {
   "cell_type": "code",
   "execution_count": null,
   "metadata": {
    "id": "DEpwDgXRbKXd"
   },
   "outputs": [],
   "source": []
  },
  {
   "cell_type": "code",
   "execution_count": null,
   "metadata": {
    "colab": {
     "base_uri": "https://localhost:8080/"
    },
    "id": "Xued3DxFbKaT",
    "outputId": "9b74f1d1-f389-445f-e534-a62a7d1a66ec"
   },
   "outputs": [
    {
     "name": "stdout",
     "output_type": "stream",
     "text": [
      "enter number: 10\n"
     ]
    }
   ],
   "source": [
    "# Sum of natural numbers up to num\n",
    "\n",
    "num = int(input('enter number: '))\n",
    "\n",
    "if num < 0:\n",
    "   print(\"Enter  positive number\")\n",
    "else:\n",
    "   sum = 0\n",
    "   # use while loop to iterate until zero\n",
    "   while(num > 0):\n",
    "       sum += num\n",
    "       num += 1\n",
    "   print(\"The sum is\", sum)"
   ]
  },
  {
   "cell_type": "markdown",
   "metadata": {
    "id": "FDY5jyIJB5fc"
   },
   "source": [
    "# 3.Take user input and display the reverse range of that number, the program should stop if we\n",
    "enter any even number. Display the messages accordingly"
   ]
  },
  {
   "cell_type": "code",
   "execution_count": null,
   "metadata": {
    "colab": {
     "base_uri": "https://localhost:8080/"
    },
    "id": "xAo-6x7SNeUU",
    "outputId": "62f574fe-3047-4cbb-fd44-8d8bf5b9e15d"
   },
   "outputs": [
    {
     "name": "stdout",
     "output_type": "stream",
     "text": [
      "Enter a number : 13\n",
      "13 12 11 10 9 8 7 6 5 4 3 2 1 Enter a number : 12\n",
      "number is even, enter valid number\n"
     ]
    }
   ],
   "source": [
    "while True:                                  # using while loop \n",
    "  num=int(input(\"Enter a number : \"))         # take user input\n",
    "  if num%2==0:                                        # check number is even then show error massage\n",
    "    print(\"number is even, enter valid number\")\n",
    "    break                                             # break the loop \n",
    "  else:\n",
    "    for i in range(num,0,-1):                        # revesee the range of using for loop     \n",
    "      print(i,end=\" \")                                "
   ]
  },
  {
   "cell_type": "markdown",
   "metadata": {
    "id": "i3myoJeGP7Om"
   },
   "source": [
    "4.Take input from the user for grocery shopping and divide the items into 3 buckets -> Fresh\n",
    "Items (vegetables, fruits, dairy), home essentials and others\n"
   ]
  },
  {
   "cell_type": "code",
   "execution_count": null,
   "metadata": {
    "colab": {
     "base_uri": "https://localhost:8080/"
    },
    "id": "AQ1MWISXDaZ3",
    "outputId": "927f3819-a984-4934-ea4a-69f6735a1557"
   },
   "outputs": [
    {
     "name": "stdout",
     "output_type": "stream",
     "text": [
      "Enter grocery item (or 'done' to finish): fruits\n",
      "Enter grocery item (or 'done' to finish): dairy\n",
      "Enter grocery item (or 'done' to finish): vegetables\n",
      "Enter grocery item (or 'done' to finish): fresh items\n",
      "Enter grocery item (or 'done' to finish): home essentials\n",
      "Enter grocery item (or 'done' to finish): toilettries\n",
      "Enter grocery item (or 'done' to finish): paper products\n",
      "Enter grocery item (or 'done' to finish): done\n",
      "Fresh Items:\n",
      "['fruits', 'dairy', 'vegetables']\n",
      "Home Essentials:\n",
      "['paper products']\n",
      "Others:\n",
      "['fresh items', 'home essentials', 'toilettries']\n"
     ]
    }
   ],
   "source": [
    "fresh_items = []    # define list\n",
    "home_essentials = []\n",
    "others = []\n",
    "\n",
    "# Take input from the user for  items\n",
    "while True:\n",
    "    item = input(\"Enter  item or 'done' ): \")\n",
    "    if item.lower() == 'done':\n",
    "        break\n",
    "\n",
    "    # e item into the as per list\n",
    "    if item.lower() in ['vegetables', 'fruits', 'dairy']:\n",
    "        fresh_items.append(item)\n",
    "    elif item.lower() in ['cleaning supplies', 'toiletries', 'paper products']:\n",
    "        home_essentials.append(item)\n",
    "    else:\n",
    "        others.append(item)\n",
    "\n",
    "# show the items each \n",
    "print(\"Fresh Items:\")\n",
    "print(fresh_items)\n",
    "print(\"Home Essentials:\")\n",
    "print(home_essentials)\n",
    "print(\"Others:\")\n",
    "print(others)"
   ]
  },
  {
   "cell_type": "markdown",
   "metadata": {
    "id": "3OY8EuPWVSxF"
   },
   "source": [
    "5.5. Write a program to check if the number entered by the user is a *Prime number or not\n"
   ]
  },
  {
   "cell_type": "code",
   "execution_count": null,
   "metadata": {
    "colab": {
     "base_uri": "https://localhost:8080/"
    },
    "id": "xr54b74-VTq2",
    "outputId": "811243cf-84c6-46cb-9409-574b308b0bb9"
   },
   "outputs": [
    {
     "name": "stdout",
     "output_type": "stream",
     "text": [
      "Enter a positive integer: 12\n",
      "12 not prime number.\n"
     ]
    }
   ],
   "source": [
    "# Take input from the user\n",
    "num = int(input(\"Enter a positive integer: \"))\n",
    "\n",
    "# Check  number is prime\n",
    "if num > 1:\n",
    "    for i in range(2, num):\n",
    "        if num % i == 0:\n",
    "            print(num, \"not prime number.\")\n",
    "            break                                # break \n",
    "    else:\n",
    "        print(num, \" prime number.\")\n",
    "else:\n",
    "    print(num, \" not a prime number.\")\n",
    "\n",
    "\n"
   ]
  },
  {
   "cell_type": "markdown",
   "metadata": {
    "id": "_CMF83oIYEq4"
   },
   "source": [
    "Write a program to check if the number entered by the user is an *Armstrong number or not"
   ]
  },
  {
   "cell_type": "code",
   "execution_count": 1,
   "metadata": {
    "colab": {
     "base_uri": "https://localhost:8080/"
    },
    "id": "AHrgt0gyXe-D",
    "outputId": "46ef4546-7718-467f-edc8-4a86f08ce25c"
   },
   "outputs": [
    {
     "name": "stdout",
     "output_type": "stream",
     "text": [
      "Enter a number: 111\n",
      "111 not Armstrong number.\n"
     ]
    }
   ],
   "source": [
    "def armstrong(number):      # define function\n",
    "    num = str(number)      # Convert the number to a string \n",
    "    power = len(num)          # Calculate the power to which each digit\n",
    "    sum = 0\n",
    "    for a in num:\n",
    "        digit = int(a)          # Loop each digit in the number\n",
    "        sum += digit ** power\n",
    "    return sum == number\n",
    "\n",
    "number = int(input(\"Enter a number: \"))      # Return True if the sum is equal \n",
    "if armstrong(number):\n",
    "    print(number, \"yes,Armstrong number.\")\n",
    "else:\n",
    "    print(number, \"not Armstrong number.\")"
   ]
  },
  {
   "cell_type": "code",
   "execution_count": 4,
   "metadata": {},
   "outputs": [
    {
     "data": {
      "text/plain": [
       "3"
      ]
     },
     "execution_count": 4,
     "metadata": {},
     "output_type": "execute_result"
    }
   ],
   "source": [
    "n=123\n",
    "p=str(n)\n",
    "      \n",
    "c=len(p)\n",
    "c"
   ]
  },
  {
   "cell_type": "markdown",
   "metadata": {
    "id": "9S5KTewtY4QU"
   },
   "source": [
    "7. Write a program to check if the number entered by the user is *Palindrome number or not\n"
   ]
  },
  {
   "cell_type": "code",
   "execution_count": null,
   "metadata": {
    "colab": {
     "base_uri": "https://localhost:8080/"
    },
    "id": "mXZr58r4Y49_",
    "outputId": "ebdd76b1-81e1-4f19-8bff-b328eafd162f"
   },
   "outputs": [
    {
     "name": "stdout",
     "output_type": "stream",
     "text": [
      "no\n"
     ]
    }
   ],
   "source": [
    "str1='priya'            # define string\n",
    "if str1==str1[::-1]:     # conditional if else statement\n",
    "  print('yes')            \n",
    "else:\n",
    "  print('no')"
   ]
  },
  {
   "cell_type": "code",
   "execution_count": 7,
   "metadata": {},
   "outputs": [
    {
     "name": "stdout",
     "output_type": "stream",
     "text": [
      "yes\n"
     ]
    }
   ],
   "source": [
    "str1=111\n",
    "p=str(str1)\n",
    "if p==p[::-1]:\n",
    "    print('yes')\n",
    "else:\n",
    "    print('no')"
   ]
  },
  {
   "cell_type": "markdown",
   "metadata": {
    "id": "8AdY6Z3sZ30G"
   },
   "source": [
    "8. Write a program to calculate factorial of the number entered by the user, program should\n",
    "stop if the user enters a Palindrome number\n"
   ]
  },
  {
   "cell_type": "code",
   "execution_count": null,
   "metadata": {
    "colab": {
     "base_uri": "https://localhost:8080/"
    },
    "id": "bi-USsp2atcy",
    "outputId": "ecda4549-1476-4c40-8489-3c36efc1f3b5"
   },
   "outputs": [
    {
     "name": "stdout",
     "output_type": "stream",
     "text": [
      "Enter number: 12\n",
      "Factorial is 479001600\n"
     ]
    }
   ],
   "source": [
    "# useing math library import factorial\n",
    "from math import factorial\n",
    "\n",
    "# Function to check if a number is palindrome\n",
    "def palindrome(num):\n",
    "    num_str = str(num)\n",
    "    num_reverse = num_str[::-1]       # for reverse \n",
    "    return num_str == num_reverse\n",
    "\n",
    "# Take input from the user\n",
    "num = int(input(\"Enter number: \"))\n",
    "\n",
    "# Check if the number  palindrome\n",
    "if palindrome(num):\n",
    "    print(num, \" no ,this is  palindrome number...\")\n",
    "else:\n",
    "# Calculate and print factorial\n",
    "    fac = factorial(num)\n",
    "    print(\"Factorial \",  fac)"
   ]
  },
  {
   "cell_type": "code",
   "execution_count": 2,
   "metadata": {},
   "outputs": [
    {
     "name": "stdout",
     "output_type": "stream",
     "text": [
      "Reversed Number: 4321\n"
     ]
    }
   ],
   "source": [
    "num = 1234\n",
    "reversed_num = 0\n",
    "\n",
    "while num != 0:\n",
    "    digit = num % 10\n",
    "    reversed_num = reversed_num * 10 + digit\n",
    "    num //= 10\n",
    "\n",
    "print(\"Reversed Number: \" + str(reversed_num))"
   ]
  },
  {
   "cell_type": "code",
   "execution_count": 7,
   "metadata": {},
   "outputs": [
    {
     "name": "stdout",
     "output_type": "stream",
     "text": [
      "4321\n"
     ]
    }
   ],
   "source": [
    "num=1234\n",
    "rev=0\n",
    "while num!=0:\n",
    "    digit=num%10\n",
    "    rev=rev*10+digit\n",
    "    num=num//10\n",
    "print(rev)"
   ]
  },
  {
   "cell_type": "code",
   "execution_count": 8,
   "metadata": {},
   "outputs": [
    {
     "data": {
      "text/plain": [
       "12"
      ]
     },
     "execution_count": 8,
     "metadata": {},
     "output_type": "execute_result"
    }
   ],
   "source": [
    "123//10"
   ]
  },
  {
   "cell_type": "code",
   "execution_count": 5,
   "metadata": {},
   "outputs": [
    {
     "data": {
      "text/plain": [
       "'321'"
      ]
     },
     "execution_count": 5,
     "metadata": {},
     "output_type": "execute_result"
    }
   ],
   "source": [
    "n=123\n",
    "s=str(n)\n",
    "t=s[::-1]\n",
    "t"
   ]
  },
  {
   "cell_type": "markdown",
   "metadata": {
    "id": "RTcEC0Xqd05j"
   },
   "source": [
    "9. Write a program to display the *Fibonacci series for the first 10 natural numbers\n"
   ]
  },
  {
   "cell_type": "code",
   "execution_count": null,
   "metadata": {
    "colab": {
     "base_uri": "https://localhost:8080/"
    },
    "id": "vFUUGGNwd1ap",
    "outputId": "30bfac8b-9912-4480-9e58-ef0f6c8ec59f"
   },
   "outputs": [
    {
     "name": "stdout",
     "output_type": "stream",
     "text": [
      "0\n",
      "1\n",
      "1\n",
      "2\n",
      "3\n",
      "5\n",
      "8\n",
      "13\n",
      "21\n",
      "34\n"
     ]
    }
   ],
   "source": [
    "# define variable\n",
    "a, b = 0, 1               # 1,1,2,3,5\n",
    "\n",
    "for i in range(10):     # using for loop define range\n",
    "    print(a)\n",
    "    a, b = b, a + b"
   ]
  },
  {
   "cell_type": "markdown",
   "metadata": {
    "id": "1ou3UmTbeKLl"
   },
   "source": [
    "10. Write a program to display the below pattern\n",
    "*       \n",
    "**         \n",
    "*** \n"
   ]
  },
  {
   "cell_type": "code",
   "execution_count": null,
   "metadata": {
    "colab": {
     "base_uri": "https://localhost:8080/"
    },
    "id": "AC0aDewueK1-",
    "outputId": "2907a96b-db67-4998-f830-69e123ff6703"
   },
   "outputs": [
    {
     "name": "stdout",
     "output_type": "stream",
     "text": [
      "\n",
      "* \n",
      "* * \n",
      "* * * \n"
     ]
    }
   ],
   "source": [
    "for i in range(4):               # Loop to iterate over the rows\n",
    "  for j in range(i):\n",
    "    print(\"*\",end=\" \")           # Loop to print stars in each row\n",
    "  print()                        # end=\"\" argument in the print() function is used to avoid printing a new line "
   ]
  },
  {
   "cell_type": "markdown",
   "metadata": {
    "id": "igxP51pxfiX_"
   },
   "source": [
    "Write a program to display the below pattern\n",
    "a\n",
    "b c\n",
    "d e f\n",
    "g h i j\n",
    "k l m n o\n"
   ]
  },
  {
   "cell_type": "code",
   "execution_count": null,
   "metadata": {
    "id": "uS3UpDfNetgr"
   },
   "outputs": [],
   "source": []
  },
  {
   "cell_type": "code",
   "execution_count": null,
   "metadata": {
    "colab": {
     "base_uri": "https://localhost:8080/"
    },
    "id": "icD0YD6VhT2c",
    "outputId": "97f5b1eb-a4ab-469c-aaa3-fb8e7d6f14a5"
   },
   "outputs": [
    {
     "name": "stdout",
     "output_type": "stream",
     "text": [
      "Enter the number of rows: 5\n",
      "a \n",
      "b c \n",
      "d e f \n",
      "g h i j \n",
      "k l m n o \n"
     ]
    }
   ],
   "source": [
    "# Take input from the user \n",
    "num_rows = int(input(\"Enter the number of rows: \"))    # how many row want\n",
    "\n",
    "# Initialize a variable to keep  of the current character\n",
    "# ASCII\n",
    "k = ord('a')\n",
    "\n",
    "# Loop to iterate over the rows\n",
    "for i in range(1, num_rows + 1):\n",
    "    # Loop to print characters in each row\n",
    "    for j in range(i):\n",
    "        print(chr(k), end=\" \")\n",
    "        k += 1\n",
    "    print()  # Print a new line after each row"
   ]
  },
  {
   "cell_type": "code",
   "execution_count": null,
   "metadata": {
    "id": "jH4cLi3EASHk"
   },
   "outputs": [],
   "source": [
    "current_char = 'a'\n",
    "counter = 1\n",
    "\n",
    "# Loop to display the pattern\n",
    "for i in range(1, 6):  # Rows 1 to 5\n",
    "    for j in range(i):  # Number of characters in each row\n",
    "        print(current_char, end=' ')\n",
    "        current_char = chr(ord(current_char) + counter)  # Update the character\n",
    "        counter += 1  # Increment the counter\n",
    "    print() "
   ]
  },
  {
   "cell_type": "code",
   "execution_count": null,
   "metadata": {
    "id": "HMrj0i3lh6Ra"
   },
   "outputs": [],
   "source": [
    "def pattern1():\n",
    "    num = 1\n",
    "    for i in range(1, 6):\n",
    "        for j in range(i):\n",
    "            print(num, end=' ')\n",
    "            num += 1\n",
    "        print()"
   ]
  },
  {
   "cell_type": "code",
   "execution_count": null,
   "metadata": {
    "colab": {
     "base_uri": "https://localhost:8080/"
    },
    "id": "d39Ib5eehUaF",
    "outputId": "1bb3b349-8200-4c2a-aadd-1181828e07ec"
   },
   "outputs": [
    {
     "name": "stdout",
     "output_type": "stream",
     "text": [
      "1 \n",
      "2 3 \n",
      "4 5 6 \n",
      "7 8 9 10 \n",
      "11 12 13 14 15 \n"
     ]
    }
   ],
   "source": [
    "pattern1()"
   ]
  },
  {
   "cell_type": "code",
   "execution_count": null,
   "metadata": {
    "id": "9MS5BtsClFpB"
   },
   "outputs": [],
   "source": []
  },
  {
   "cell_type": "markdown",
   "metadata": {
    "id": "SdXHJ9SglOLl"
   },
   "source": [
    "12. Write a program to convert a time converter,\n",
    "• if the user enters 12-hour format for a time convert it to 24-format\n",
    "• If user enters 24-hour format for a time convert it to 12-hour format\n",
    "Example -> 7:00PM (12-hour format) => 19:00 (24-hour format)\n",
    "18:30 (24-hour format) => 6:30PM (12-hour format)\n",
    "2:00 (24-hour format) => 2:00 AM (12-hour format)\n"
   ]
  },
  {
   "cell_type": "code",
   "execution_count": null,
   "metadata": {
    "colab": {
     "base_uri": "https://localhost:8080/"
    },
    "id": "3N-fp-wmlUEi",
    "outputId": "b445fc60-a3bd-4153-b320-adc5fce7509f"
   },
   "outputs": [
    {
     "name": "stdout",
     "output_type": "stream",
     "text": [
      "enter tine to convert 12 to 24: 12.00\n",
      "24.0\n"
     ]
    }
   ],
   "source": [
    "num=float(input('enter tine to convert 12 to 24: '))  # take user input\n",
    "if num<=12.00:                              # if user input less then equal to 12 then add and print\n",
    "  time_24=num+12.00\n",
    "  print(time_24)\n",
    "else:\n",
    "  time_12=num\n",
    "  print(time_12)"
   ]
  },
  {
   "cell_type": "markdown",
   "metadata": {
    "id": "BGYjH4P2nF9h"
   },
   "source": [
    "13. Write a program to convert temperature from Celsius to Fahrenheit or vice-versa"
   ]
  },
  {
   "cell_type": "code",
   "execution_count": null,
   "metadata": {
    "colab": {
     "base_uri": "https://localhost:8080/"
    },
    "id": "PH39gg_nb1mP",
    "outputId": "0189084e-74e9-4080-ffb4-11f8d152f15e"
   },
   "outputs": [
    {
     "name": "stdout",
     "output_type": "stream",
     "text": [
      "enter temp: 45\n",
      "enter converter charecter C : F\n",
      "enter converter charecter F : C\n",
      "7.222222222222222\n"
     ]
    }
   ],
   "source": [
    "def convert_temperature(temp,C_unit, F_unit):  # define function \n",
    "    if C_unit == \"C\" and F_unit == \"F\":           # using if else  conditional  write formula for temp convert celsius to fahrenheit\n",
    "        return (temp * 9/5) + 32\n",
    "    elif C_unit == \"F\" and F_unit == \"C\":\n",
    "        return (temp - 32) * 5/9\n",
    "    else:\n",
    "        print(\"Invalid temp units\")\n",
    "temp=int(input('enter temp: '))\n",
    "C_unit=input('enter converter char C or F : ')            # take user input \n",
    "F_unit=input('enter converter char F OR C : ')\n",
    "\n",
    "A=convert_temperature(temp,C_unit, F_unit)\n",
    "print(A)"
   ]
  },
  {
   "cell_type": "code",
   "execution_count": null,
   "metadata": {
    "id": "6v0RpEmsnGsB"
   },
   "outputs": [],
   "source": [
    "c=int(input('enter temp: '))\n",
    "f=(c*9/5)+32                         #9/5  1.8 , c=celsius\n",
    "print('temp in Fahrenheit: ')"
   ]
  },
  {
   "cell_type": "markdown",
   "metadata": {
    "id": "dVXFowf-naFW"
   },
   "source": [
    "14. Write a program to take a string input from user, calculates the number of digits, letters and\n",
    "special characters"
   ]
  },
  {
   "cell_type": "code",
   "execution_count": null,
   "metadata": {
    "id": "Esw5lqVknaiK"
   },
   "outputs": [],
   "source": []
  },
  {
   "cell_type": "markdown",
   "metadata": {
    "id": "Jjc7MOiCnfic"
   },
   "source": [
    "15. Write a program to create strong password, with following conditions\n",
    "• At least 1 letter between [a-z] and 1 letter between [A-Z].\n",
    "• At least 1 number between [0-9].\n",
    "• At least 1 character from [$#@].\n",
    "• Minimum length 6 characters.\n",
    "• Maximum length 16 character"
   ]
  },
  {
   "cell_type": "code",
   "execution_count": null,
   "metadata": {
    "colab": {
     "base_uri": "https://localhost:8080/"
    },
    "id": "Yn9LpFIQlPfp",
    "outputId": "132a5c76-6325-4bd6-b14b-b17cd59c55dc"
   },
   "outputs": [
    {
     "name": "stdout",
     "output_type": "stream",
     "text": [
      "At least 1 letter between [a-z] and 1 letter between [A-Z]: a\n",
      "At least 1 number between [0-9]: 8\n",
      "At least 1 character from [$#@]: #\n",
      " password: a8#a8#a8#a8#a8#a8#a8#a8#\n"
     ]
    }
   ],
   "source": [
    "a=input('At least 1 letter between [a-z] and 1 letter between [A-Z]: ')\n",
    "b=input('At least 1 number between [0-9]: ')\n",
    "c=input('At least 1 character from [$#@]: ')\n",
    "\n",
    "all=a+b+c\n",
    "def password1(length=8):\n",
    "  all=a+b+c\n",
    "  password = ''.join((all) for _ in range(length))\n",
    "  return password\n",
    "password = password1()\n",
    "print(\" password:\", password)\n"
   ]
  },
  {
   "cell_type": "code",
   "execution_count": null,
   "metadata": {
    "colab": {
     "base_uri": "https://localhost:8080/"
    },
    "id": "qXpCGOvP-_TF",
    "outputId": "6531dab6-a913-4077-e6c2-fef2bbf33923"
   },
   "outputs": [
    {
     "name": "stdout",
     "output_type": "stream",
     "text": [
      "At least 1 letter between [a-z] and 1 letter between [A-Z]: a\n",
      "At least 1 number between [0-9]: 8\n",
      "At least 1 character from [$#@]: #\n",
      " password: a8#\n"
     ]
    }
   ],
   "source": [
    "a=input('At least 1 letter between [a-z] and 1 letter between [A-Z]: ')\n",
    "b=input('At least 1 number between [0-9]: ')\n",
    "c=input('At least 1 character from [$#@]: ')\n",
    "\n",
    "all=a+b+c\n",
    "def password1(length=8):\n",
    "  all=a+b+c\n",
    "  \n",
    "  return all\n",
    "all = password1()\n",
    "print(\" password:\", all)"
   ]
  },
  {
   "cell_type": "code",
   "execution_count": null,
   "metadata": {
    "colab": {
     "base_uri": "https://localhost:8080/",
     "height": 35
    },
    "id": "f0w1iTSHkCyh",
    "outputId": "13724c83-acbe-4788-d2ad-502526dee313"
   },
   "outputs": [
    {
     "data": {
      "application/vnd.google.colaboratory.intrinsic+json": {
       "type": "string"
      },
      "text/plain": [
       "'/content'"
      ]
     },
     "execution_count": 23,
     "metadata": {},
     "output_type": "execute_result"
    }
   ],
   "source": [
    "pwd"
   ]
  },
  {
   "cell_type": "code",
   "execution_count": null,
   "metadata": {
    "id": "kQ3bh0owCKv0"
   },
   "outputs": [],
   "source": []
  }
 ],
 "metadata": {
  "colab": {
   "provenance": []
  },
  "kernelspec": {
   "display_name": "Python 3 (ipykernel)",
   "language": "python",
   "name": "python3"
  },
  "language_info": {
   "codemirror_mode": {
    "name": "ipython",
    "version": 3
   },
   "file_extension": ".py",
   "mimetype": "text/x-python",
   "name": "python",
   "nbconvert_exporter": "python",
   "pygments_lexer": "ipython3",
   "version": "3.10.9"
  }
 },
 "nbformat": 4,
 "nbformat_minor": 1
}
