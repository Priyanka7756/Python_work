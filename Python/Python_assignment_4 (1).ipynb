{
 "cells": [
  {
   "cell_type": "markdown",
   "id": "d8344b03",
   "metadata": {},
   "source": [
    "### 1.Explain with an example each when to use a for loop and a while loop."
   ]
  },
  {
   "cell_type": "code",
   "execution_count": 9,
   "id": "ba854e57",
   "metadata": {},
   "outputs": [
    {
     "name": "stdout",
     "output_type": "stream",
     "text": [
      "1\n",
      "2\n",
      "3\n",
      "4\n",
      "5\n"
     ]
    }
   ],
   "source": [
    "# for loop use when have iteration of specific range .\n",
    "#example:\n",
    "\n",
    "# print the number between 1 to 5\n",
    "for i in range(1,6):\n",
    "    print(i)\n",
    "    \n",
    "\n"
   ]
  },
  {
   "cell_type": "code",
   "execution_count": 7,
   "id": "45007e9b",
   "metadata": {},
   "outputs": [
    {
     "name": "stdout",
     "output_type": "stream",
     "text": [
      "1\n",
      "2\n",
      "3\n",
      "4\n",
      "5\n"
     ]
    }
   ],
   "source": [
    "# while loop is use when want to repeate block of code using certain condition:\n",
    "#example:\n",
    "a=1\n",
    "while a<=5:\n",
    "    print(a)\n",
    "    a+=1"
   ]
  },
  {
   "cell_type": "markdown",
   "id": "2a6d44d2",
   "metadata": {},
   "source": [
    "### 2.Write a python program to print the sum and product of the first 10 natural numbers using for and while loop."
   ]
  },
  {
   "cell_type": "code",
   "execution_count": 39,
   "id": "f12e95a8",
   "metadata": {},
   "outputs": [
    {
     "name": "stdout",
     "output_type": "stream",
     "text": [
      "sum:  55\n",
      "product:  3628800\n"
     ]
    }
   ],
   "source": [
    "n=10            # define n variable\n",
    "sum1=0\n",
    "product1=1\n",
    "i=1\n",
    "while i<=n:      # calculate sum and product using while loop\n",
    "    sum1+=i\n",
    "    product1*=i\n",
    "    i+=1\n",
    "print('sum: ',sum1)\n",
    "print('product: ',product1)"
   ]
  },
  {
   "cell_type": "markdown",
   "id": "3397d9bc",
   "metadata": {},
   "source": [
    "### 3.Create a list of numbers from 1 to 100. Use for loop and while loop to calculate the cube of each number and if the cube of that number is divisible by 4 or 5 then append that number in a list and print that list."
   ]
  },
  {
   "cell_type": "code",
   "execution_count": 40,
   "id": "619eccc9",
   "metadata": {},
   "outputs": [
    {
     "name": "stdout",
     "output_type": "stream",
     "text": [
      "ans:  [2, 4, 5, 6, 8, 10, 12, 14, 15, 16, 18, 20, 22, 24, 25, 26, 28, 30, 32, 34, 35, 36, 38, 40, 42, 44, 45, 46, 48, 50, 52, 54, 55, 56, 58, 60, 62, 64, 65, 66, 68, 70, 72, 74, 75, 76, 78, 80, 82, 84, 85, 86, 88, 90, 92, 94, 95, 96, 98]\n"
     ]
    }
   ],
   "source": [
    "cube_div_4_5=[]     #create empty list\n",
    "for i in range(1,100):   # define range 1 to 100\n",
    "    cube=i**3             # cube formula\n",
    "    if cube%4==0 or cube%5==0:  # if condtion to check divisible for 4 or 5\n",
    "        cube_div_4_5.append(i)\n",
    "print('ans: ',cube_div_4_5)"
   ]
  },
  {
   "cell_type": "code",
   "execution_count": 21,
   "id": "a0d7e332",
   "metadata": {},
   "outputs": [
    {
     "name": "stdout",
     "output_type": "stream",
     "text": [
      "ans: [2, 4, 5, 6, 8, 10, 12, 14, 15, 16, 18, 20, 22, 24, 25, 26, 28, 30, 32, 34, 35, 36, 38, 40, 42, 44, 45, 46, 48, 50, 52, 54, 55, 56, 58, 60, 62, 64, 65, 66, 68, 70, 72, 74, 75, 76, 78, 80, 82, 84, 85, 86, 88, 90, 92, 94, 95, 96, 98, 100]\n"
     ]
    }
   ],
   "source": [
    "# Using while loop  \n",
    "a= list(range(1, 101))  # Create a list of numbers from 1 to 100\n",
    "cubes_div_4_5 = []  # List to store numbers whose cubes are divisible by 4 or 5\n",
    "\n",
    "i = 0              # Calculate cubes and  if divisible by 4 or 5 using while loop\n",
    "while i < len(a):\n",
    "    num = a[i]\n",
    "    cube = num ** 3\n",
    "    if cube % 4 == 0 or cube % 5 == 0:\n",
    "        cubes_div_4_5.append(num)  # append to list\n",
    "    i += 1\n",
    "\n",
    "\n",
    "print(\"ans:\", cubes_div_4_5)\n"
   ]
  },
  {
   "cell_type": "markdown",
   "id": "737ef3ef",
   "metadata": {},
   "source": [
    "### 4.Write a program to filter count vowels in the below-given string. string = \"I want to become a data analyst\""
   ]
  },
  {
   "cell_type": "code",
   "execution_count": 24,
   "id": "038284c1",
   "metadata": {},
   "outputs": [
    {
     "name": "stdout",
     "output_type": "stream",
     "text": [
      "ans: 11\n"
     ]
    }
   ],
   "source": [
    "string = \"I want to become a data analyst\"\n",
    "vowel=['a','e','i','o','u']     # list of vowel\n",
    "count=0\n",
    "string=string.lower()          # convert it into lower beacuse some of charector in upper case\n",
    "for i in string:\n",
    "    if i in vowel:            \n",
    "        count+=1\n",
    "print('ans:',count)"
   ]
  },
  {
   "cell_type": "markdown",
   "id": "c3f6ca75",
   "metadata": {},
   "source": [
    "### 5.Which keyword is used to create a function? Create a function to return a list of odd numbers in the range of 1 to 25."
   ]
  },
  {
   "cell_type": "code",
   "execution_count": 34,
   "id": "8a01876b",
   "metadata": {},
   "outputs": [
    {
     "name": "stdout",
     "output_type": "stream",
     "text": [
      "[1, 3, 5, 7, 9, 11, 13, 15, 17, 19, 21, 23, 25]\n"
     ]
    }
   ],
   "source": [
    "# def is keyword to use create function.\n",
    "\n",
    "def odd_num():                # define a function\n",
    "    odd=[]\n",
    "    for i in range(1,26):        # define range of numbers\n",
    "        if i%2!=0:\n",
    "            odd.append(i)        # append to odd empty list\n",
    "    return odd\n",
    "b=odd_num()                       # call function and store into the varible\n",
    "print(b)\n",
    "    "
   ]
  },
  {
   "cell_type": "markdown",
   "id": "2aa04fd7",
   "metadata": {},
   "source": [
    "### 6.Why *args and **kwargs is used in some functions? Create a function each for *args and **kwargs to demonstrate their use."
   ]
  },
  {
   "cell_type": "code",
   "execution_count": 37,
   "id": "c2e0232a",
   "metadata": {},
   "outputs": [
    {
     "name": "stdout",
     "output_type": "stream",
     "text": [
      "60\n",
      "33\n"
     ]
    }
   ],
   "source": [
    "# *args and **kwargs is to allow a variable number of arguments to be passed to a function.\n",
    "# *args allows a function to accept a variable number without specifying in function\n",
    "# example:\n",
    "def add(*a):\n",
    "    result=0\n",
    "    for i in a:\n",
    "        result=result+i\n",
    "    print(result)  \n",
    " \n",
    "# we can pass multiple values \n",
    "add(46,8,6) \n",
    "add(3,4,5,6,7,8)\n",
    "    "
   ]
  },
  {
   "cell_type": "code",
   "execution_count": 38,
   "id": "fffdc570",
   "metadata": {},
   "outputs": [
    {
     "name": "stdout",
     "output_type": "stream",
     "text": [
      "{'hello': 90, 'apple': 78, 'banana': 34, 'kiwi': 516}\n",
      "dict_keys(['hello', 'apple', 'banana', 'kiwi'])\n",
      "dict_values([90, 78, 34, 516])\n",
      "718\n",
      "None\n"
     ]
    }
   ],
   "source": [
    "# **kwargs -its work like dictiory-llows a function to accept a variable number of keyword arguments,\n",
    "# which are passed as a dictionary to the function.without specidying \n",
    "def di(**aa):\n",
    "    print(aa)\n",
    "    print(aa.keys())\n",
    "    print(aa.values())\n",
    "\n",
    "    total=0\n",
    "    for i in aa.values():\n",
    "        total+=i\n",
    "    print(total)\n",
    "\n",
    "\n",
    "print(di(hello=90,apple=78, banana=34, kiwi=516) ) "
   ]
  },
  {
   "cell_type": "markdown",
   "id": "1d4f57e8",
   "metadata": {},
   "source": [
    "### 7.What is an iterator in python? Name the method used to initialise the iterator object and the method used for iteration. Use these methods to print the first five elements of the given list [2, 4, 6, 8, 10, 12, 14, 16, 18, 20]."
   ]
  },
  {
   "cell_type": "code",
   "execution_count": null,
   "id": "e51f5ca7",
   "metadata": {},
   "outputs": [],
   "source": [
    "#iterator: iter(), used to initialize the iterator object. It should return the iterator object itself.\n",
    "#next(),__next__()- next() method is then used inside a for loop to get the next value from the iterator and print it.\n",
    "num=[2,4,1,2]  #iterable\n",
    "#for i in num:\n",
    "  #print(i)\n",
    "\n",
    "it=iter(num)\n",
    "print(next(it))\n",
    "print(next(it))\n",
    "print(it.__next__())\n",
    "print(it.__next__())"
   ]
  },
  {
   "cell_type": "markdown",
   "id": "b483ae69",
   "metadata": {},
   "source": [
    "### 8.What is a generator function in python? Why yield keyword is used? Give an example of a generator function."
   ]
  },
  {
   "cell_type": "code",
   "execution_count": null,
   "id": "c72d27f9",
   "metadata": {},
   "outputs": [],
   "source": [
    "# generator function in Python is a special type of function that uses the 'yield' keyword to produce a sequence of values,\n",
    "#one at a time, regular functions that execute completely and return a single value, \n",
    "#generator functions can produce a series of values over time"
   ]
  },
  {
   "cell_type": "code",
   "execution_count": 42,
   "id": "e3191858",
   "metadata": {},
   "outputs": [
    {
     "name": "stdout",
     "output_type": "stream",
     "text": [
      "146\n",
      "66\n",
      "560\n",
      "5.6\n"
     ]
    },
    {
     "ename": "StopIteration",
     "evalue": "",
     "output_type": "error",
     "traceback": [
      "\u001b[1;31m---------------------------------------------------------------------------\u001b[0m",
      "\u001b[1;31mStopIteration\u001b[0m                             Traceback (most recent call last)",
      "Cell \u001b[1;32mIn[42], line 14\u001b[0m\n\u001b[0;32m     12\u001b[0m \u001b[38;5;28mprint\u001b[39m(\u001b[38;5;28mnext\u001b[39m(aa))\n\u001b[0;32m     13\u001b[0m \u001b[38;5;28mprint\u001b[39m(\u001b[38;5;28mnext\u001b[39m(aa))\n\u001b[1;32m---> 14\u001b[0m \u001b[38;5;28mprint\u001b[39m(\u001b[38;5;28;43mnext\u001b[39;49m\u001b[43m(\u001b[49m\u001b[43maa\u001b[49m\u001b[43m)\u001b[49m)\n",
      "\u001b[1;31mStopIteration\u001b[0m: "
     ]
    }
   ],
   "source": [
    "# #generator: function, yield , next()\n",
    "def gen(a,b):  # define fucntion\n",
    "    yield a-b   # mention yeild with condtion \n",
    "    yield a+b\n",
    "    yield a*b\n",
    "    yield a/b\n",
    "\n",
    "aa = gen(56,10)     # store in another varible\n",
    "b=next(aa)\n",
    "print(100+b)\n",
    "print(next(aa))\n",
    "print(next(aa))\n",
    "print(next(aa))\n",
    "print(next(aa))"
   ]
  },
  {
   "cell_type": "code",
   "execution_count": 43,
   "id": "dc516329",
   "metadata": {},
   "outputs": [
    {
     "name": "stdout",
     "output_type": "stream",
     "text": [
      "0\n",
      "1\n",
      "1\n",
      "2\n",
      "3\n"
     ]
    },
    {
     "ename": "StopIteration",
     "evalue": "",
     "output_type": "error",
     "traceback": [
      "\u001b[1;31m---------------------------------------------------------------------------\u001b[0m",
      "\u001b[1;31mStopIteration\u001b[0m                             Traceback (most recent call last)",
      "Cell \u001b[1;32mIn[43], line 13\u001b[0m\n\u001b[0;32m     11\u001b[0m \u001b[38;5;28mprint\u001b[39m(\u001b[38;5;28mnext\u001b[39m(s))\n\u001b[0;32m     12\u001b[0m \u001b[38;5;28mprint\u001b[39m(\u001b[38;5;28mnext\u001b[39m(s))\n\u001b[1;32m---> 13\u001b[0m \u001b[38;5;28mprint\u001b[39m(\u001b[38;5;28;43mnext\u001b[39;49m\u001b[43m(\u001b[49m\u001b[43ms\u001b[49m\u001b[43m)\u001b[49m)\n",
      "\u001b[1;31mStopIteration\u001b[0m: "
     ]
    }
   ],
   "source": [
    "def fibbo(h):\n",
    "    a,b=0,1 \n",
    "    while a<h:\n",
    "        yield a\n",
    "        a,b=b,a+b\n",
    "\n",
    "s=fibbo(5)    \n",
    "print(next(s))\n",
    "print(next(s))\n",
    "print(next(s))\n",
    "print(next(s))\n",
    "print(next(s))\n",
    "print(next(s))"
   ]
  },
  {
   "cell_type": "code",
   "execution_count": 47,
   "id": "ea589c80",
   "metadata": {},
   "outputs": [
    {
     "name": "stdout",
     "output_type": "stream",
     "text": [
      "1\n",
      "4\n",
      "9\n",
      "16\n",
      "25\n"
     ]
    }
   ],
   "source": [
    "def sq_num(n):\n",
    "   \n",
    "    i = 1\n",
    "    while i <= n:\n",
    "        yield i * i\n",
    "        i += 1\n",
    "\n",
    "# Usage of the generator function\n",
    "gen = sq_num(5)\n",
    "for num in gen:\n",
    "    print(num)"
   ]
  },
  {
   "cell_type": "markdown",
   "id": "35232e92",
   "metadata": {},
   "source": [
    "### 9.Create a generator function for prime numbers less than 1000. Use the next() method to print the first 20 prime numbers."
   ]
  },
  {
   "cell_type": "code",
   "execution_count": null,
   "id": "212dee21",
   "metadata": {},
   "outputs": [],
   "source": []
  },
  {
   "cell_type": "code",
   "execution_count": null,
   "id": "b7c5f3b9",
   "metadata": {},
   "outputs": [],
   "source": []
  },
  {
   "cell_type": "markdown",
   "id": "3ac7a845",
   "metadata": {},
   "source": [
    "### 10. Write a code to print odd numbers from 1 to 100 using list comprehension.Note: Use a list comprehension to create a list from 1 to 100 and use another List comprehension to filter out odd numbers"
   ]
  },
  {
   "cell_type": "code",
   "execution_count": 46,
   "id": "347a49c2",
   "metadata": {},
   "outputs": [
    {
     "name": "stdout",
     "output_type": "stream",
     "text": [
      "odd_num:  [1, 3, 5, 7, 9, 11, 13, 15, 17, 19, 21, 23, 25, 27, 29, 31, 33, 35, 37, 39, 41, 43, 45, 47, 49, 51, 53, 55, 57, 59, 61, 63, 65, 67, 69, 71, 73, 75, 77, 79, 81, 83, 85, 87, 89, 91, 93, 95, 97, 99]\n"
     ]
    }
   ],
   "source": [
    "a = list(range(1, 101))\n",
    "\n",
    "# Use list comprehension tofind out odd numbers\n",
    "odd_num = [i for i in a if i % 2 != 0]\n",
    "\n",
    "# Print the odd numbers\n",
    "\n",
    "print('odd_num: ',odd_num)"
   ]
  },
  {
   "cell_type": "code",
   "execution_count": 1,
   "id": "e53e1eba",
   "metadata": {},
   "outputs": [],
   "source": [
    "import pandas as pd\n"
   ]
  },
  {
   "cell_type": "code",
   "execution_count": 2,
   "id": "8875bed0",
   "metadata": {},
   "outputs": [],
   "source": [
    "df = pd.DataFrame({'A': [1, 2, 3],\n",
    "                   'B': [4, 5, 6],\n",
    "                   'C': [7, 8, 9]},\n",
    "                  index=['row1', 'row2', 'row3'])"
   ]
  },
  {
   "cell_type": "code",
   "execution_count": 4,
   "id": "804c04fe",
   "metadata": {},
   "outputs": [
    {
     "name": "stdout",
     "output_type": "stream",
     "text": [
      "      A  B  C\n",
      "row1  1  4  7\n",
      "row2  2  5  8\n",
      "row3  3  6  9\n"
     ]
    }
   ],
   "source": [
    "print(df)"
   ]
  },
  {
   "cell_type": "code",
   "execution_count": 3,
   "id": "5c1e4f26",
   "metadata": {},
   "outputs": [
    {
     "name": "stdout",
     "output_type": "stream",
     "text": [
      "5\n"
     ]
    }
   ],
   "source": [
    "# Access a single element\n",
    "print(df.loc['row2', 'B'])"
   ]
  },
  {
   "cell_type": "code",
   "execution_count": 14,
   "id": "e7723e71",
   "metadata": {},
   "outputs": [
    {
     "name": "stdout",
     "output_type": "stream",
     "text": [
      "row2    8\n",
      "row3    9\n",
      "Name: C, dtype: int64\n"
     ]
    }
   ],
   "source": [
    "print(df.iloc[1:,-1])"
   ]
  },
  {
   "cell_type": "code",
   "execution_count": null,
   "id": "c108ca0a",
   "metadata": {},
   "outputs": [],
   "source": []
  }
 ],
 "metadata": {
  "kernelspec": {
   "display_name": "Python 3 (ipykernel)",
   "language": "python",
   "name": "python3"
  },
  "language_info": {
   "codemirror_mode": {
    "name": "ipython",
    "version": 3
   },
   "file_extension": ".py",
   "mimetype": "text/x-python",
   "name": "python",
   "nbconvert_exporter": "python",
   "pygments_lexer": "ipython3",
   "version": "3.10.9"
  }
 },
 "nbformat": 4,
 "nbformat_minor": 5
}
