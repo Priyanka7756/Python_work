{
 "cells": [
  {
   "cell_type": "code",
   "execution_count": 1,
   "id": "1a5c9575",
   "metadata": {},
   "outputs": [],
   "source": [
    "import numpy as np\n",
    "import pandas as pd"
   ]
  },
  {
   "cell_type": "markdown",
   "id": "5689aadd",
   "metadata": {},
   "source": [
    "### 1. How to create a series from a list, numpy array and dict?"
   ]
  },
  {
   "cell_type": "code",
   "execution_count": 8,
   "id": "5db0716a",
   "metadata": {},
   "outputs": [
    {
     "name": "stdout",
     "output_type": "stream",
     "text": [
      "0    1\n",
      "1    2\n",
      "2    3\n",
      "3    4\n",
      "4    5\n",
      "dtype: int64\n",
      "0    1\n",
      "1    2\n",
      "2    3\n",
      "3    4\n",
      "4    5\n",
      "dtype: int32\n",
      "a    1\n",
      "b    2\n",
      "c    3\n",
      "d    4\n",
      "dtype: int64\n"
     ]
    }
   ],
   "source": [
    "\n",
    "# create series from list\n",
    "list1=[1,2,3,4,5]\n",
    "seris=pd.Series(list1)\n",
    "print(seris)\n",
    "\n",
    "# create  series from array \n",
    "arr=np.array([1,2,3,4,5])\n",
    "s2=pd.Series(arr)\n",
    "print(s2)\n",
    "\n",
    "\n",
    "# create series from dict\n",
    "dict1={'a':1,'b':2,'c':3,'d':4}\n",
    "s3=pd.Series(dict1)\n",
    "print(s3)\n",
    "\n"
   ]
  },
  {
   "cell_type": "markdown",
   "id": "0fa0e084",
   "metadata": {},
   "source": [
    "###  2. How to convert the index of a series into a column of a dataframe?"
   ]
  },
  {
   "cell_type": "code",
   "execution_count": 9,
   "id": "c927014f",
   "metadata": {},
   "outputs": [
    {
     "data": {
      "text/html": [
       "<div>\n",
       "<style scoped>\n",
       "    .dataframe tbody tr th:only-of-type {\n",
       "        vertical-align: middle;\n",
       "    }\n",
       "\n",
       "    .dataframe tbody tr th {\n",
       "        vertical-align: top;\n",
       "    }\n",
       "\n",
       "    .dataframe thead th {\n",
       "        text-align: right;\n",
       "    }\n",
       "</style>\n",
       "<table border=\"1\" class=\"dataframe\">\n",
       "  <thead>\n",
       "    <tr style=\"text-align: right;\">\n",
       "      <th></th>\n",
       "      <th>index</th>\n",
       "      <th>0</th>\n",
       "    </tr>\n",
       "  </thead>\n",
       "  <tbody>\n",
       "    <tr>\n",
       "      <th>0</th>\n",
       "      <td>a</td>\n",
       "      <td>1</td>\n",
       "    </tr>\n",
       "    <tr>\n",
       "      <th>1</th>\n",
       "      <td>b</td>\n",
       "      <td>2</td>\n",
       "    </tr>\n",
       "    <tr>\n",
       "      <th>2</th>\n",
       "      <td>c</td>\n",
       "      <td>3</td>\n",
       "    </tr>\n",
       "    <tr>\n",
       "      <th>3</th>\n",
       "      <td>d</td>\n",
       "      <td>4</td>\n",
       "    </tr>\n",
       "  </tbody>\n",
       "</table>\n",
       "</div>"
      ],
      "text/plain": [
       "  index  0\n",
       "0     a  1\n",
       "1     b  2\n",
       "2     c  3\n",
       "3     d  4"
      ]
     },
     "execution_count": 9,
     "metadata": {},
     "output_type": "execute_result"
    }
   ],
   "source": [
    "\n",
    "index1=s3.reset_index()\n",
    "index1\n"
   ]
  },
  {
   "cell_type": "markdown",
   "id": "0ed23a9b",
   "metadata": {},
   "source": [
    "### 3.How to combine many series to form a dataframe?"
   ]
  },
  {
   "cell_type": "code",
   "execution_count": 11,
   "id": "3242cb72",
   "metadata": {},
   "outputs": [
    {
     "name": "stdout",
     "output_type": "stream",
     "text": [
      "   series1  series2\n",
      "0        1        6\n",
      "1        2        7\n",
      "2        3        8\n",
      "3        4        9\n",
      "4        5       10\n"
     ]
    }
   ],
   "source": [
    "\n",
    "seri1=pd.Series([1,2,3,4,5])  # create series and convert into datafream\n",
    "seri2=pd.Series([6,7,8,9,10])\n",
    "df=pd.DataFrame({'series1':seri1,'series2':seri2})\n",
    "print(df)"
   ]
  },
  {
   "cell_type": "code",
   "execution_count": 14,
   "id": "608bf638",
   "metadata": {},
   "outputs": [
    {
     "data": {
      "text/plain": [
       "new name\n",
       "a    1\n",
       "b    2\n",
       "c    3\n",
       "d    4\n",
       "dtype: int64"
      ]
     },
     "execution_count": 14,
     "metadata": {},
     "output_type": "execute_result"
    }
   ],
   "source": [
    "# 4.How to assign name to the series’ index?\n",
    "s3.index.name='new name'\n",
    "s3"
   ]
  },
  {
   "cell_type": "markdown",
   "id": "a74bd9cb",
   "metadata": {},
   "source": [
    "### 5.How to get the items of series A not present in series B?"
   ]
  },
  {
   "cell_type": "code",
   "execution_count": 20,
   "id": "dbac3222",
   "metadata": {},
   "outputs": [
    {
     "data": {
      "text/plain": [
       "0    1\n",
       "1    2\n",
       "2    3\n",
       "3    4\n",
       "dtype: int64"
      ]
     },
     "execution_count": 20,
     "metadata": {},
     "output_type": "execute_result"
    }
   ],
   "source": [
    "\n",
    "s1=pd.Series([1,2,3,4,5])   # create series and use isin\n",
    "s2=pd.Series([5,6,7,8,9])\n",
    "not_in=s1[~s1.isin(s2)]\n",
    "not_in"
   ]
  },
  {
   "cell_type": "markdown",
   "id": "17c93256",
   "metadata": {},
   "source": [
    "###  6. How to get the items not common to both series A and series B?"
   ]
  },
  {
   "cell_type": "code",
   "execution_count": 21,
   "id": "1df7e23e",
   "metadata": {},
   "outputs": [
    {
     "data": {
      "text/plain": [
       "0     NaN\n",
       "1     8.0\n",
       "2    10.0\n",
       "3    12.0\n",
       "4     NaN\n",
       "dtype: float64"
      ]
     },
     "execution_count": 21,
     "metadata": {},
     "output_type": "execute_result"
    }
   ],
   "source": [
    "\n",
    "not_com=s1[~s1.isin(s2)]+s2[~s2.isin(s1)] \n",
    "# use the isin() function with the negation operator (~) on both Series\n",
    "not_com\n"
   ]
  },
  {
   "cell_type": "code",
   "execution_count": 31,
   "id": "53189750",
   "metadata": {},
   "outputs": [
    {
     "name": "stdout",
     "output_type": "stream",
     "text": [
      "2.75\n",
      "1.0\n",
      "4.5\n",
      "6.25\n",
      "8.0\n"
     ]
    }
   ],
   "source": [
    "# 7.How to get the minimum, 25th percentile, median, 75th, and max of a numeric series?\n",
    "series=pd.Series([1,2,3,4,5,6,7,8])\n",
    "stats=series.describe()\n",
    "perc_25=stats['25%']\n",
    "print(perc_25)\n",
    "min1=stats['min']\n",
    "print(min1)\n",
    "med1=stats['50%']\n",
    "print(med1)\n",
    "per_75=stats['75%']\n",
    "print(per_75)\n",
    "max1=stats['max']\n",
    "print(max1)\n",
    "\n"
   ]
  },
  {
   "cell_type": "code",
   "execution_count": 29,
   "id": "7bf2daa9",
   "metadata": {},
   "outputs": [
    {
     "name": "stdout",
     "output_type": "stream",
     "text": [
      "[1.   2.5  5.   7.25 8.  ]\n"
     ]
    }
   ],
   "source": [
    "num=pd.Series([1,3,7,8])\n",
    "n=np.percentile(num,q=[0,25,50,75,100])\n",
    "print(n)"
   ]
  },
  {
   "cell_type": "code",
   "execution_count": 32,
   "id": "340bdd0d",
   "metadata": {},
   "outputs": [
    {
     "data": {
      "text/plain": [
       "1    1\n",
       "3    1\n",
       "7    1\n",
       "8    1\n",
       "dtype: int64"
      ]
     },
     "execution_count": 32,
     "metadata": {},
     "output_type": "execute_result"
    }
   ],
   "source": [
    "# 8. How to get frequency counts of unique items of a series?\n",
    "frq_c=num.value_counts()\n",
    "frq_c"
   ]
  },
  {
   "cell_type": "code",
   "execution_count": 34,
   "id": "510ade9d",
   "metadata": {},
   "outputs": [
    {
     "ename": "ValueError",
     "evalue": "Series.replace cannot use dict-like to_replace and non-None value",
     "output_type": "error",
     "traceback": [
      "\u001b[1;31m---------------------------------------------------------------------------\u001b[0m",
      "\u001b[1;31mValueError\u001b[0m                                Traceback (most recent call last)",
      "Cell \u001b[1;32mIn[34], line 4\u001b[0m\n\u001b[0;32m      2\u001b[0m num1\u001b[38;5;241m=\u001b[39mpd\u001b[38;5;241m.\u001b[39mSeries([\u001b[38;5;241m1\u001b[39m,\u001b[38;5;241m1\u001b[39m,\u001b[38;5;241m3\u001b[39m,\u001b[38;5;241m4\u001b[39m,\u001b[38;5;241m5\u001b[39m,\u001b[38;5;241m6\u001b[39m,\u001b[38;5;241m6\u001b[39m,\u001b[38;5;241m7\u001b[39m])\n\u001b[0;32m      3\u001b[0m freq\u001b[38;5;241m=\u001b[39mnum1\u001b[38;5;241m.\u001b[39mvalue_counts()\u001b[38;5;241m.\u001b[39mindex[:\u001b[38;5;241m2\u001b[39m]\n\u001b[1;32m----> 4\u001b[0m replace\u001b[38;5;241m=\u001b[39m\u001b[43mnum1\u001b[49m\u001b[38;5;241;43m.\u001b[39;49m\u001b[43mreplace\u001b[49m\u001b[43m(\u001b[49m\u001b[38;5;241;43m~\u001b[39;49m\u001b[43mnum1\u001b[49m\u001b[38;5;241;43m.\u001b[39;49m\u001b[43misin\u001b[49m\u001b[43m(\u001b[49m\u001b[43mfreq\u001b[49m\u001b[43m)\u001b[49m\u001b[43m,\u001b[49m\u001b[38;5;124;43m'\u001b[39;49m\u001b[38;5;124;43mOther\u001b[39;49m\u001b[38;5;124;43m'\u001b[39;49m\u001b[43m)\u001b[49m\n\u001b[0;32m      5\u001b[0m \u001b[38;5;28mprint\u001b[39m(replace)\n",
      "File \u001b[1;32m~\\anaconda3\\lib\\site-packages\\pandas\\util\\_decorators.py:331\u001b[0m, in \u001b[0;36mdeprecate_nonkeyword_arguments.<locals>.decorate.<locals>.wrapper\u001b[1;34m(*args, **kwargs)\u001b[0m\n\u001b[0;32m    325\u001b[0m \u001b[38;5;28;01mif\u001b[39;00m \u001b[38;5;28mlen\u001b[39m(args) \u001b[38;5;241m>\u001b[39m num_allow_args:\n\u001b[0;32m    326\u001b[0m     warnings\u001b[38;5;241m.\u001b[39mwarn(\n\u001b[0;32m    327\u001b[0m         msg\u001b[38;5;241m.\u001b[39mformat(arguments\u001b[38;5;241m=\u001b[39m_format_argument_list(allow_args)),\n\u001b[0;32m    328\u001b[0m         \u001b[38;5;167;01mFutureWarning\u001b[39;00m,\n\u001b[0;32m    329\u001b[0m         stacklevel\u001b[38;5;241m=\u001b[39mfind_stack_level(),\n\u001b[0;32m    330\u001b[0m     )\n\u001b[1;32m--> 331\u001b[0m \u001b[38;5;28;01mreturn\u001b[39;00m func(\u001b[38;5;241m*\u001b[39margs, \u001b[38;5;241m*\u001b[39m\u001b[38;5;241m*\u001b[39mkwargs)\n",
      "File \u001b[1;32m~\\anaconda3\\lib\\site-packages\\pandas\\core\\series.py:5380\u001b[0m, in \u001b[0;36mSeries.replace\u001b[1;34m(self, to_replace, value, inplace, limit, regex, method)\u001b[0m\n\u001b[0;32m   5362\u001b[0m \u001b[38;5;129m@deprecate_nonkeyword_arguments\u001b[39m(\n\u001b[0;32m   5363\u001b[0m     version\u001b[38;5;241m=\u001b[39m\u001b[38;5;28;01mNone\u001b[39;00m, allowed_args\u001b[38;5;241m=\u001b[39m[\u001b[38;5;124m\"\u001b[39m\u001b[38;5;124mself\u001b[39m\u001b[38;5;124m\"\u001b[39m, \u001b[38;5;124m\"\u001b[39m\u001b[38;5;124mto_replace\u001b[39m\u001b[38;5;124m\"\u001b[39m, \u001b[38;5;124m\"\u001b[39m\u001b[38;5;124mvalue\u001b[39m\u001b[38;5;124m\"\u001b[39m]\n\u001b[0;32m   5364\u001b[0m )\n\u001b[1;32m   (...)\u001b[0m\n\u001b[0;32m   5378\u001b[0m     method: Literal[\u001b[38;5;124m\"\u001b[39m\u001b[38;5;124mpad\u001b[39m\u001b[38;5;124m\"\u001b[39m, \u001b[38;5;124m\"\u001b[39m\u001b[38;5;124mffill\u001b[39m\u001b[38;5;124m\"\u001b[39m, \u001b[38;5;124m\"\u001b[39m\u001b[38;5;124mbfill\u001b[39m\u001b[38;5;124m\"\u001b[39m] \u001b[38;5;241m|\u001b[39m lib\u001b[38;5;241m.\u001b[39mNoDefault \u001b[38;5;241m=\u001b[39m lib\u001b[38;5;241m.\u001b[39mno_default,\n\u001b[0;32m   5379\u001b[0m ) \u001b[38;5;241m-\u001b[39m\u001b[38;5;241m>\u001b[39m Series \u001b[38;5;241m|\u001b[39m \u001b[38;5;28;01mNone\u001b[39;00m:\n\u001b[1;32m-> 5380\u001b[0m     \u001b[38;5;28;01mreturn\u001b[39;00m \u001b[38;5;28;43msuper\u001b[39;49m\u001b[43m(\u001b[49m\u001b[43m)\u001b[49m\u001b[38;5;241;43m.\u001b[39;49m\u001b[43mreplace\u001b[49m\u001b[43m(\u001b[49m\n\u001b[0;32m   5381\u001b[0m \u001b[43m        \u001b[49m\u001b[43mto_replace\u001b[49m\u001b[38;5;241;43m=\u001b[39;49m\u001b[43mto_replace\u001b[49m\u001b[43m,\u001b[49m\n\u001b[0;32m   5382\u001b[0m \u001b[43m        \u001b[49m\u001b[43mvalue\u001b[49m\u001b[38;5;241;43m=\u001b[39;49m\u001b[43mvalue\u001b[49m\u001b[43m,\u001b[49m\n\u001b[0;32m   5383\u001b[0m \u001b[43m        \u001b[49m\u001b[43minplace\u001b[49m\u001b[38;5;241;43m=\u001b[39;49m\u001b[43minplace\u001b[49m\u001b[43m,\u001b[49m\n\u001b[0;32m   5384\u001b[0m \u001b[43m        \u001b[49m\u001b[43mlimit\u001b[49m\u001b[38;5;241;43m=\u001b[39;49m\u001b[43mlimit\u001b[49m\u001b[43m,\u001b[49m\n\u001b[0;32m   5385\u001b[0m \u001b[43m        \u001b[49m\u001b[43mregex\u001b[49m\u001b[38;5;241;43m=\u001b[39;49m\u001b[43mregex\u001b[49m\u001b[43m,\u001b[49m\n\u001b[0;32m   5386\u001b[0m \u001b[43m        \u001b[49m\u001b[43mmethod\u001b[49m\u001b[38;5;241;43m=\u001b[39;49m\u001b[43mmethod\u001b[49m\u001b[43m,\u001b[49m\n\u001b[0;32m   5387\u001b[0m \u001b[43m    \u001b[49m\u001b[43m)\u001b[49m\n",
      "File \u001b[1;32m~\\anaconda3\\lib\\site-packages\\pandas\\util\\_decorators.py:331\u001b[0m, in \u001b[0;36mdeprecate_nonkeyword_arguments.<locals>.decorate.<locals>.wrapper\u001b[1;34m(*args, **kwargs)\u001b[0m\n\u001b[0;32m    325\u001b[0m \u001b[38;5;28;01mif\u001b[39;00m \u001b[38;5;28mlen\u001b[39m(args) \u001b[38;5;241m>\u001b[39m num_allow_args:\n\u001b[0;32m    326\u001b[0m     warnings\u001b[38;5;241m.\u001b[39mwarn(\n\u001b[0;32m    327\u001b[0m         msg\u001b[38;5;241m.\u001b[39mformat(arguments\u001b[38;5;241m=\u001b[39m_format_argument_list(allow_args)),\n\u001b[0;32m    328\u001b[0m         \u001b[38;5;167;01mFutureWarning\u001b[39;00m,\n\u001b[0;32m    329\u001b[0m         stacklevel\u001b[38;5;241m=\u001b[39mfind_stack_level(),\n\u001b[0;32m    330\u001b[0m     )\n\u001b[1;32m--> 331\u001b[0m \u001b[38;5;28;01mreturn\u001b[39;00m func(\u001b[38;5;241m*\u001b[39margs, \u001b[38;5;241m*\u001b[39m\u001b[38;5;241m*\u001b[39mkwargs)\n",
      "File \u001b[1;32m~\\anaconda3\\lib\\site-packages\\pandas\\core\\generic.py:7214\u001b[0m, in \u001b[0;36mNDFrame.replace\u001b[1;34m(self, to_replace, value, inplace, limit, regex, method)\u001b[0m\n\u001b[0;32m   7211\u001b[0m \u001b[38;5;28;01melif\u001b[39;00m \u001b[38;5;129;01mnot\u001b[39;00m is_list_like(value):\n\u001b[0;32m   7212\u001b[0m     \u001b[38;5;66;03m# Operate column-wise\u001b[39;00m\n\u001b[0;32m   7213\u001b[0m     \u001b[38;5;28;01mif\u001b[39;00m \u001b[38;5;28mself\u001b[39m\u001b[38;5;241m.\u001b[39mndim \u001b[38;5;241m==\u001b[39m \u001b[38;5;241m1\u001b[39m:\n\u001b[1;32m-> 7214\u001b[0m         \u001b[38;5;28;01mraise\u001b[39;00m \u001b[38;5;167;01mValueError\u001b[39;00m(\n\u001b[0;32m   7215\u001b[0m             \u001b[38;5;124m\"\u001b[39m\u001b[38;5;124mSeries.replace cannot use dict-like to_replace \u001b[39m\u001b[38;5;124m\"\u001b[39m\n\u001b[0;32m   7216\u001b[0m             \u001b[38;5;124m\"\u001b[39m\u001b[38;5;124mand non-None value\u001b[39m\u001b[38;5;124m\"\u001b[39m\n\u001b[0;32m   7217\u001b[0m         )\n\u001b[0;32m   7218\u001b[0m     mapping \u001b[38;5;241m=\u001b[39m {\n\u001b[0;32m   7219\u001b[0m         col: (to_rep, value) \u001b[38;5;28;01mfor\u001b[39;00m col, to_rep \u001b[38;5;129;01min\u001b[39;00m to_replace\u001b[38;5;241m.\u001b[39mitems()\n\u001b[0;32m   7220\u001b[0m     }\n\u001b[0;32m   7221\u001b[0m     \u001b[38;5;28;01mreturn\u001b[39;00m \u001b[38;5;28mself\u001b[39m\u001b[38;5;241m.\u001b[39m_replace_columnwise(mapping, inplace, regex)\n",
      "\u001b[1;31mValueError\u001b[0m: Series.replace cannot use dict-like to_replace and non-None value"
     ]
    }
   ],
   "source": [
    "#9.How to keep only top 2 most frequent values as it is and replace everything else as ‘Other’?\n",
    "num1=pd.Series([1,1,3,4,5,6,6,7])\n",
    "freq=num1.value_counts().index[:2]\n",
    "replace=num1.replace(~num1.isin(freq),'Other')\n",
    "print(replace)"
   ]
  },
  {
   "cell_type": "code",
   "execution_count": 37,
   "id": "382ac4f1",
   "metadata": {},
   "outputs": [
    {
     "name": "stdout",
     "output_type": "stream",
     "text": [
      "0     1\n",
      "1     2\n",
      "2     4\n",
      "3     4\n",
      "4     4\n",
      "5     1\n",
      "6     1\n",
      "7     2\n",
      "8     1\n",
      "9     2\n",
      "10    1\n",
      "11    3\n",
      "12    2\n",
      "13    1\n",
      "14    1\n",
      "dtype: int32\n",
      "Top 2 Freq: 1    7\n",
      "2    4\n",
      "4    3\n",
      "3    1\n",
      "dtype: int64\n",
      "0         1\n",
      "1     Other\n",
      "2     Other\n",
      "3     Other\n",
      "4     Other\n",
      "5         1\n",
      "6         1\n",
      "7     Other\n",
      "8         1\n",
      "9     Other\n",
      "10        1\n",
      "11    Other\n",
      "12    Other\n",
      "13        1\n",
      "14        1\n",
      "dtype: object\n"
     ]
    }
   ],
   "source": [
    "num_series = pd.Series(np.random.randint(1, 5, [15]))\n",
    "\n",
    "print(num_series)\n",
    "print(\"Top 2 Freq:\", num_series.value_counts())\n",
    "result = num_series[~num_series.isin(num_series.value_counts().index[:1])] = 'Other'\n",
    "print(num_series)"
   ]
  },
  {
   "cell_type": "code",
   "execution_count": 39,
   "id": "26f5b7ff",
   "metadata": {},
   "outputs": [
    {
     "name": "stdout",
     "output_type": "stream",
     "text": [
      "0    (0.991, 1.9]\n",
      "1      (1.9, 2.8]\n",
      "2      (2.8, 3.7]\n",
      "3      (3.7, 4.6]\n",
      "4      (4.6, 5.5]\n",
      "5      (5.5, 6.4]\n",
      "6      (6.4, 7.3]\n",
      "7      (7.3, 8.2]\n",
      "8      (8.2, 9.1]\n",
      "9     (9.1, 10.0]\n",
      "dtype: category\n",
      "Categories (10, interval[float64, right]): [(0.991, 1.9] < (1.9, 2.8] < (2.8, 3.7] < (3.7, 4.6] ... (6.4, 7.3] < (7.3, 8.2] < (8.2, 9.1] < (9.1, 10.0]]\n"
     ]
    }
   ],
   "source": [
    "# 10 How to bin a numeric series to 10 groups of equal size?\n",
    "numeric_s = pd.Series([1, 2, 3, 4, 5, 6, 7, 8, 9, 10])\n",
    "bins = pd.cut(numeric_s, bins=10)      # Bin the numeric series into 10 groups of equal size\n",
    "print(bins) "
   ]
  },
  {
   "cell_type": "code",
   "execution_count": 41,
   "id": "1ffe9cdf",
   "metadata": {},
   "outputs": [
    {
     "name": "stdout",
     "output_type": "stream",
     "text": [
      "   0  1  2\n",
      "0  1  2  3\n",
      "1  4  5  6\n"
     ]
    }
   ],
   "source": [
    "# 11. How to convert a numpy array to a dataframe of given shape?\n",
    "# Create a numpy array\n",
    "arr = np.array([1, 2, 3, 4, 5, 6])\n",
    "\n",
    "# Reshape the numpy array to the desired shape\n",
    "reshaped_ary = np.reshape(arr, (2, 3))\n",
    "\n",
    "# Convert the reshaped array to a DataFrame\n",
    "df = pd.DataFrame(reshaped_ary)\n",
    "print(df)"
   ]
  },
  {
   "cell_type": "code",
   "execution_count": 44,
   "id": "956c0fda",
   "metadata": {},
   "outputs": [
    {
     "name": "stdout",
     "output_type": "stream",
     "text": [
      "Int64Index([2, 5, 8], dtype='int64')\n"
     ]
    }
   ],
   "source": [
    "# 12. How to find the positions of numbers that are multiples of 3 from a series?\n",
    "# Create a series\n",
    "series = pd.Series([1, 2, 3, 4, 5, 6, 7, 8, 9, 10])\n",
    "\n",
    "# Find the positions of numbers that are multiples of 3\n",
    "pos = series.where(lambda x: x % 3 == 0).dropna().index\n",
    "\n",
    "print(pos)\n"
   ]
  },
  {
   "cell_type": "code",
   "execution_count": 46,
   "id": "05f6849b",
   "metadata": {},
   "outputs": [
    {
     "name": "stdout",
     "output_type": "stream",
     "text": [
      "0    1\n",
      "2    3\n",
      "4    5\n",
      "dtype: int64\n"
     ]
    }
   ],
   "source": [
    "# 13. How to extract items at given positions from a series\n",
    "# Create a series\n",
    "series = pd.Series(['A', 'B', 'C', 'D', 'E'])\n",
    "\n",
    "# Define the positions of items to extract\n",
    "pos = [0, 2, 4]\n",
    "\n",
    "# Extract items at given positions\n",
    "extrac = my_series[pos]\n",
    "print(extrac)"
   ]
  },
  {
   "cell_type": "code",
   "execution_count": 47,
   "id": "5528c27b",
   "metadata": {},
   "outputs": [
    {
     "name": "stdout",
     "output_type": "stream",
     "text": [
      "0    1\n",
      "2    3\n",
      "4    5\n",
      "dtype: int64\n"
     ]
    }
   ],
   "source": [
    "# Create a series\n",
    "series = pd.Series([1,2,3,4,5,6])\n",
    "\n",
    "# Define the positions of items to extract\n",
    "pos = [0, 2, 4]\n",
    "\n",
    "# Extract items at given positions\n",
    "extrac = my_series[pos]\n",
    "print(extrac)"
   ]
  },
  {
   "cell_type": "code",
   "execution_count": 49,
   "id": "d0324c9d",
   "metadata": {},
   "outputs": [
    {
     "name": "stdout",
     "output_type": "stream",
     "text": [
      "0    1\n",
      "1    2\n",
      "2    3\n",
      "3    4\n",
      "0    5\n",
      "1    6\n",
      "2    6\n",
      "3    7\n",
      "dtype: int64\n",
      "   0  1\n",
      "0  1  5\n",
      "1  2  6\n",
      "2  3  6\n",
      "3  4  7\n"
     ]
    }
   ],
   "source": [
    "# 14.How to stack two series vertically and horizontally ?\n",
    "# Create two series\n",
    "s1 = pd.Series([1,2,3,4])\n",
    "s2 = pd.Series([5,6,6,7])\n",
    "\n",
    "# Stack series vertically\n",
    "verti = pd.concat([s1, s2], axis=0)\n",
    "\n",
    "# Stack series horizontally\n",
    "horizon = pd.concat([s1, s2], axis=1)\n",
    "print(verti)\n",
    "print(horizon)"
   ]
  },
  {
   "cell_type": "code",
   "execution_count": 52,
   "id": "c8fa4b8f",
   "metadata": {},
   "outputs": [
    {
     "name": "stdout",
     "output_type": "stream",
     "text": [
      "Int64Index([], dtype='int64')\n"
     ]
    }
   ],
   "source": [
    "# 15.How to get the positions of items of series A in another series B?\n",
    "positions = s1[s1.isin(s2)].index\n",
    "print(positions)\n"
   ]
  },
  {
   "cell_type": "code",
   "execution_count": 55,
   "id": "54388b87",
   "metadata": {},
   "outputs": [
    {
     "name": "stdout",
     "output_type": "stream",
     "text": [
      "8.500020000000001\n"
     ]
    }
   ],
   "source": [
    "# 16.How to compute the mean squared error on a truth and predicted series?\n",
    "from sklearn.metrics import mean_squared_error\n",
    "actual=[1,1,2,3,4]\n",
    "pred=[0.5,0,8,1.9,1.99]\n",
    "\n",
    "# Compute the mean squared error\n",
    "mse = mean_squared_error(actual, pred)\n",
    "print(mse)"
   ]
  },
  {
   "cell_type": "code",
   "execution_count": 57,
   "id": "f5a8e03f",
   "metadata": {},
   "outputs": [
    {
     "name": "stdout",
     "output_type": "stream",
     "text": [
      "0    Priya\n",
      "1      Rah\n",
      "2      Sam\n",
      "3      Ram\n",
      "dtype: object\n"
     ]
    }
   ],
   "source": [
    "# 17.How to convert the first character of each element in a series to uppercase?\n",
    "ser=pd.Series(['priya','rah','sam','ram']) # create series\n",
    "cap=ser.str.capitalize()                   # convert first of each element uppercase\n",
    "print(cap)"
   ]
  },
  {
   "cell_type": "code",
   "execution_count": 58,
   "id": "3d2baf32",
   "metadata": {},
   "outputs": [
    {
     "name": "stdout",
     "output_type": "stream",
     "text": [
      "0    1\n",
      "1    1\n",
      "2    1\n",
      "dtype: int64\n"
     ]
    }
   ],
   "source": [
    "# 18.How to calculate the number of characters in each word in a series?\n",
    "# Create a series\n",
    "series = pd.Series(['apple', 'banana', 'cherry'])\n",
    "\n",
    "# Calculate the number of characters in each word\n",
    "word_len = series.str.split().str.len()\n",
    "print(word_len)"
   ]
  },
  {
   "cell_type": "code",
   "execution_count": 61,
   "id": "d44d32ed",
   "metadata": {},
   "outputs": [
    {
     "name": "stdout",
     "output_type": "stream",
     "text": [
      "0    NaN\n",
      "1    NaN\n",
      "2    1.0\n",
      "3    1.0\n",
      "4    1.0\n",
      "5    1.0\n",
      "dtype: float64\n"
     ]
    }
   ],
   "source": [
    "# 19.How to compute difference of differences between consequtive numbers of a series?\n",
    "# Create a series\n",
    "series = pd.Series([1, 3, 6, 10, 15, 21])\n",
    "\n",
    "# Compute the difference of differences\n",
    "diff = series.diff().diff()\n",
    "print(diff)"
   ]
  },
  {
   "cell_type": "code",
   "execution_count": 63,
   "id": "16943965",
   "metadata": {},
   "outputs": [
    {
     "name": "stdout",
     "output_type": "stream",
     "text": [
      "0   2023-06-09\n",
      "1   2023-06-10\n",
      "2   2023-06-11\n",
      "3   2023-05-01\n",
      "dtype: datetime64[ns]\n",
      "0     9\n",
      "1    10\n",
      "2    11\n",
      "3     1\n",
      "dtype: int64\n",
      "0    23\n",
      "1    23\n",
      "2    23\n",
      "3    18\n",
      "dtype: int64\n",
      "0    160\n",
      "1    161\n",
      "2    162\n",
      "3    121\n",
      "dtype: int64\n",
      "0    4\n",
      "1    5\n",
      "2    6\n",
      "3    0\n",
      "dtype: int64\n"
     ]
    },
    {
     "name": "stderr",
     "output_type": "stream",
     "text": [
      "C:\\Users\\CITS\\AppData\\Local\\Temp\\ipykernel_5856\\971267323.py:13: FutureWarning: Series.dt.weekofyear and Series.dt.week have been deprecated. Please use Series.dt.isocalendar().week instead.\n",
      "  week_number = date_series.dt.week\n"
     ]
    }
   ],
   "source": [
    "# 20. How to get the day of month, week number, day of year and day of week from a series of date strings?\n",
    "# Create a series of date strings\n",
    "date_series = pd.Series(['2023-06-09', '2023-06-10', '2023-06-11','2023-05-1'])\n",
    "\n",
    "# Convert the series to datetime\n",
    "date_series = pd.to_datetime(date_series)\n",
    "print(date_series)\n",
    "\n",
    "# Extract the day of the month\n",
    "day_of_month = date_series.dt.day\n",
    "print(day_of_month)\n",
    "# Extract the week number\n",
    "week_number = date_series.dt.week\n",
    "print(week_number)\n",
    "\n",
    "# Extract the day of the year\n",
    "day_of_year = date_series.dt.dayofyear\n",
    "print(day_of_year)\n",
    "\n",
    "# Extract the day of the week\n",
    "day_of_week = date_series.dt.dayofweek\n",
    "print(day_of_week)"
   ]
  },
  {
   "cell_type": "code",
   "execution_count": 65,
   "id": "6d46593d",
   "metadata": {},
   "outputs": [
    {
     "name": "stdout",
     "output_type": "stream",
     "text": [
      "0    latur\n",
      "1     pune\n",
      "dtype: object\n"
     ]
    }
   ],
   "source": [
    "# 21.How to filter words that contain atleast 2 vowels from a series?\n",
    "word = pd.Series(['latur', 'pune', 'cherry', 'dog', 'cat'])\n",
    "\n",
    "# Filter words with at least 2 vowels\n",
    "filtr = word[word.str.contains('[aeiou].*[aeiou]')]\n",
    "print(filtr)"
   ]
  },
  {
   "cell_type": "code",
   "execution_count": 67,
   "id": "3a03ca6f",
   "metadata": {},
   "outputs": [
    {
     "name": "stdout",
     "output_type": "stream",
     "text": [
      "0    priya@gmail.com\n",
      "1         pi@eam.com\n",
      "3      test@test.com\n",
      "dtype: object\n"
     ]
    }
   ],
   "source": [
    "# 22.How to filter valid emails from a series?\n",
    "# Create a series of emails\n",
    "email= pd.Series(['priya@gmail.com', 'pi@eam.com', 'invalid', 'test@test.com'])\n",
    "\n",
    "# Filter valid emails\n",
    "filtered = email[email.str.contains(r'^[a-zA-Z0-9._%+-]+@[a-zA-Z0-9.-]+\\.[a-zA-Z]{2,}$')]\n",
    "print(filtered)\n"
   ]
  },
  {
   "cell_type": "code",
   "execution_count": 71,
   "id": "595e850b",
   "metadata": {},
   "outputs": [
    {
     "name": "stdout",
     "output_type": "stream",
     "text": [
      "place\n",
      "latur     1.0\n",
      "mumbai    3.0\n",
      "pune      2.0\n",
      "Name: Value, dtype: float64\n"
     ]
    }
   ],
   "source": [
    "# 23.How to get the mean of a series grouped by another series?\n",
    "# Create a DataFrame\n",
    "data = {'place': ['latur','pune','mumbai'],\n",
    "        'Value': [1, 2, 3]}\n",
    "df = pd.DataFrame(data)\n",
    "\n",
    "# Get the mean of the 'Value' column grouped by the 'Category' column\n",
    "mean = df.groupby('place')['Value'].mean()\n",
    "print(mean)"
   ]
  },
  {
   "cell_type": "code",
   "execution_count": 74,
   "id": "3d2458f1",
   "metadata": {},
   "outputs": [
    {
     "name": "stdout",
     "output_type": "stream",
     "text": [
      "3 3\n",
      "place    object\n",
      "id        int64\n",
      "pass      int64\n",
      "dtype: object\n",
      "        id  pass\n",
      "count  3.0   3.0\n",
      "mean   2.0   8.0\n",
      "std    1.0   1.0\n",
      "min    1.0   7.0\n",
      "25%    1.5   7.5\n",
      "50%    2.0   8.0\n",
      "75%    2.5   8.5\n",
      "max    3.0   9.0\n",
      "[['latur' 1 7]\n",
      " ['pune' 2 8]\n",
      " ['delhi' 3 9]]\n",
      "[['latur', 1, 7], ['pune', 2, 8], ['delhi', 3, 9]]\n"
     ]
    }
   ],
   "source": [
    "# 24. How to get the nrows, ncolumns, datatype, summary stats of each column of a dataframe? Also get the array and list equivalent.\n",
    "# Create a DataFrame\n",
    "# Create a DataFrame\n",
    "data = {'place': ['latur','pune','delhi'],\n",
    "        'id': [1,2,3],\n",
    "        'pass': [7, 8, 9]}\n",
    "df = pd.DataFrame(data)\n",
    "\n",
    "# Get the number of rows and columns\n",
    "num_rows, num_columns = df.shape\n",
    "print(num_rows,num_columns)\n",
    "\n",
    "# Get the data types of each column\n",
    "types = df.dtypes\n",
    "print(types)\n",
    "\n",
    "\n",
    "# Get the summary statistics\n",
    "stats = df.describe()\n",
    "print(stats)\n",
    "\n",
    "\n",
    "# Get the array \n",
    "array = df.values\n",
    "print(array)\n",
    "\n",
    "# Get the list \n",
    "list1 = df.values.tolist()\n",
    "print(list1)"
   ]
  },
  {
   "cell_type": "code",
   "execution_count": 78,
   "id": "2ee7ef0e",
   "metadata": {},
   "outputs": [
    {
     "name": "stdout",
     "output_type": "stream",
     "text": [
      "2 1\n"
     ]
    }
   ],
   "source": [
    "# 25.How to extract the row and column number of a particular cell with given criterion?\n",
    "\n",
    "# Create a DataFrame\n",
    "data = {'place': ['latur','pune','delhi'],\n",
    "        'id': [1,2,3],\n",
    "        'pass': [7, 8, 9]}\n",
    "df = pd.DataFrame(data)\n",
    "\n",
    "\n",
    "\n",
    "# Specify the criterion\n",
    "criterion = df['id'] > 2\n",
    "\n",
    "# Extract the row and column number given criterian\n",
    "row, column = df.loc[criterion].index[0], df.columns.get_loc('id')\n",
    "print(row,column)\n"
   ]
  },
  {
   "cell_type": "code",
   "execution_count": 79,
   "id": "360909ee",
   "metadata": {},
   "outputs": [
    {
     "name": "stdout",
     "output_type": "stream",
     "text": [
      "   place  NewColumn  pass\n",
      "0  latur          1     7\n",
      "1   pune          2     8\n",
      "2  delhi          3     9\n"
     ]
    }
   ],
   "source": [
    "# 26. How to rename a specific columns in a dataframe?\n",
    "# Create a DataFrame\n",
    "data = {'place': ['latur','pune','delhi'],\n",
    "        'id': [1,2,3],\n",
    "        'pass': [7, 8, 9]}\n",
    "df = pd.DataFrame(data)\n",
    "\n",
    "# Rename the 'Column2' to 'NewColumn'\n",
    "df = df.rename(columns={'id': 'NewColumn'})\n",
    "print(df)\n"
   ]
  },
  {
   "cell_type": "code",
   "execution_count": 83,
   "id": "de2ff403",
   "metadata": {},
   "outputs": [
    {
     "name": "stdout",
     "output_type": "stream",
     "text": [
      "place    1\n",
      "id       1\n",
      "pass     1\n",
      "dtype: int64\n"
     ]
    }
   ],
   "source": [
    "# 27.How to count the number of missing values in each column?\n",
    "data = {'place': ['latur','pune','delhi',None],\n",
    "        'id': [1,2,3,None],\n",
    "        'pass': [7, 8, 9,None]}\n",
    "df = pd.DataFrame(data)\n",
    "df2=df.isnull().sum()\n",
    "print(df2)\n"
   ]
  },
  {
   "cell_type": "code",
   "execution_count": 86,
   "id": "a9eff16c",
   "metadata": {},
   "outputs": [
    {
     "name": "stdout",
     "output_type": "stream",
     "text": [
      "   place   id  pass\n",
      "0  latur  1.0   7.0\n",
      "1   pune  2.0   8.0\n",
      "2  delhi  3.0   9.0\n",
      "3   None  2.0   8.0\n"
     ]
    },
    {
     "name": "stderr",
     "output_type": "stream",
     "text": [
      "C:\\Users\\CITS\\AppData\\Local\\Temp\\ipykernel_5856\\4154673837.py:2: FutureWarning: The default value of numeric_only in DataFrame.mean is deprecated. In a future version, it will default to False. In addition, specifying 'numeric_only=None' is deprecated. Select only valid columns or specify the value of numeric_only to silence this warning.\n",
      "  df3=df.fillna(df.mean())\n"
     ]
    }
   ],
   "source": [
    "# 28.How to replace missing values of multiple numeric columns with the mean?\n",
    "df3=df.fillna(df.mean())\n",
    "print(df3)"
   ]
  },
  {
   "cell_type": "code",
   "execution_count": 87,
   "id": "8b3b4251",
   "metadata": {},
   "outputs": [
    {
     "data": {
      "text/plain": [
       "0    latur\n",
       "1     pune\n",
       "2    delhi\n",
       "3     None\n",
       "Name: place, dtype: object"
      ]
     },
     "execution_count": 87,
     "metadata": {},
     "output_type": "execute_result"
    }
   ],
   "source": [
    "# 29.How to select a specific column from a dataframe as a dataframe instead of a series?\n",
    "df3['place']  # select place column from df"
   ]
  },
  {
   "cell_type": "code",
   "execution_count": 89,
   "id": "6e8100aa",
   "metadata": {},
   "outputs": [
    {
     "name": "stdout",
     "output_type": "stream",
     "text": [
      "    C1   C2\n",
      "0 1.23 4.57\n",
      "1 2.35 5.68\n",
      "2 3.45 6.79\n"
     ]
    }
   ],
   "source": [
    "# 30. How to format or suppress scientific notations in a pandas dataframe?\n",
    "# Create a DataFrame\n",
    "data = {'C1': [1.2345, 2.3458, 3.4545],\n",
    "        'C2': [4.5677, 5.6789, 6.7890]}\n",
    "df = pd.DataFrame(data)\n",
    "\n",
    "# Set the display format\n",
    "pd.options.display.float_format = '{:.2f}'.format\n",
    "\n",
    "# Display the DataFrame\n",
    "print(df)\n"
   ]
  },
  {
   "cell_type": "code",
   "execution_count": 92,
   "id": "0391602d",
   "metadata": {},
   "outputs": [
    {
     "name": "stdout",
     "output_type": "stream",
     "text": [
      "   place   id  pass\n",
      "0  latur 1.00  7.00\n",
      "1   pune 2.00  8.00\n",
      "2  delhi 3.00  9.00\n",
      "3   None  NaN   NaN\n"
     ]
    }
   ],
   "source": [
    "# 31. How to create a primary key index by combining relevant columns?\n",
    "data = {'place': ['latur','pune','delhi',None],\n",
    "        'id': [1,2,3,None],\n",
    "        'pass': [7, 8, 9,None]}\n",
    "df = pd.DataFrame(data)\n",
    "\n",
    "# Combine 'Column2' and 'Column3' to create a primary key index\n",
    "df.set_index(['id', 'pass'])\n",
    "print(df)\n"
   ]
  },
  {
   "cell_type": "code",
   "execution_count": 97,
   "id": "41e49a8c",
   "metadata": {},
   "outputs": [
    {
     "name": "stdout",
     "output_type": "stream",
     "text": [
      "2\n",
      "   marks\n",
      "0     35\n",
      "1     45\n",
      "2     70\n",
      "3     80\n",
      "4     50\n"
     ]
    }
   ],
   "source": [
    "# 32.How to get the row number of the nth largest value in a column?\n",
    "# Create a DataFrame\n",
    "data2 = {'marks': [35, 45, 70, 80, 50]}\n",
    "df2 = pd.DataFrame(data2)\n",
    "\n",
    "#  2nd largest value in 'marks'\n",
    "n = 2\n",
    "row_n = df2['marks'].nlargest(n).index[-1]\n",
    "print(row_n)\n",
    "print(df2)"
   ]
  },
  {
   "cell_type": "code",
   "execution_count": 98,
   "id": "540279c2",
   "metadata": {},
   "outputs": [
    {
     "name": "stdout",
     "output_type": "stream",
     "text": [
      "   num  marks\n",
      "3   40     90\n",
      "4   50    100\n"
     ]
    }
   ],
   "source": [
    "# 33.How to get the last n rows of a dataframe with row sum > 100?\n",
    "data = {'num': [10, 20, 30, 40, 50],\n",
    "        'marks': [60, 70, 80, 90, 100]}\n",
    "d = pd.DataFrame(data)\n",
    "\n",
    "# last n rows with row sum greater than 100\n",
    "n = 2\n",
    "filtered = d[d.sum(axis=1) > 100].tail(n)\n",
    "print(filtered)\n"
   ]
  },
  {
   "cell_type": "code",
   "execution_count": 101,
   "id": "ac171b06",
   "metadata": {},
   "outputs": [
    {
     "ename": "ValueError",
     "evalue": "Length of values (5) does not match length of index (1)",
     "output_type": "error",
     "traceback": [
      "\u001b[1;31m---------------------------------------------------------------------------\u001b[0m",
      "\u001b[1;31mValueError\u001b[0m                                Traceback (most recent call last)",
      "Cell \u001b[1;32mIn[101], line 7\u001b[0m\n\u001b[0;32m      2\u001b[0m data \u001b[38;5;241m=\u001b[39m {\u001b[38;5;124m'\u001b[39m\u001b[38;5;124mnum\u001b[39m\u001b[38;5;124m'\u001b[39m: [\u001b[38;5;241m1\u001b[39m,\u001b[38;5;241m2\u001b[39m,\u001b[38;5;241m3\u001b[39m],\n\u001b[0;32m      3\u001b[0m         \u001b[38;5;124m'\u001b[39m\u001b[38;5;124mmarks\u001b[39m\u001b[38;5;124m'\u001b[39m: [\u001b[38;5;241m4\u001b[39m,\u001b[38;5;241m5\u001b[39m,\u001b[38;5;241m6\u001b[39m],\n\u001b[0;32m      4\u001b[0m        \u001b[38;5;124m'\u001b[39m\u001b[38;5;124mn\u001b[39m\u001b[38;5;124m'\u001b[39m:[\u001b[38;5;241m7\u001b[39m,\u001b[38;5;241m8\u001b[39m,\u001b[38;5;241m9\u001b[39m]}\n\u001b[0;32m      5\u001b[0m d \u001b[38;5;241m=\u001b[39m pd\u001b[38;5;241m.\u001b[39mDataFrame(data)\n\u001b[1;32m----> 7\u001b[0m df[\u001b[38;5;124m'\u001b[39m\u001b[38;5;124mNearestColumn\u001b[39m\u001b[38;5;124m'\u001b[39m] \u001b[38;5;241m=\u001b[39m \u001b[43mdf\u001b[49m\u001b[38;5;241;43m.\u001b[39;49m\u001b[43mapply\u001b[49m\u001b[43m(\u001b[49m\u001b[38;5;28;43;01mlambda\u001b[39;49;00m\u001b[43m \u001b[49m\u001b[43mrow\u001b[49m\u001b[43m:\u001b[49m\u001b[43m \u001b[49m\u001b[43mnp\u001b[49m\u001b[38;5;241;43m.\u001b[39;49m\u001b[43margmin\u001b[49m\u001b[43m(\u001b[49m\u001b[43mnp\u001b[49m\u001b[38;5;241;43m.\u001b[39;49m\u001b[43mlinalg\u001b[49m\u001b[38;5;241;43m.\u001b[39;49m\u001b[43mnorm\u001b[49m\u001b[43m(\u001b[49m\u001b[43mrow\u001b[49m\u001b[43m \u001b[49m\u001b[38;5;241;43m-\u001b[39;49m\u001b[43m \u001b[49m\u001b[43mdf\u001b[49m\u001b[38;5;241;43m.\u001b[39;49m\u001b[43mvalues\u001b[49m\u001b[43m,\u001b[49m\u001b[43m \u001b[49m\u001b[43maxis\u001b[49m\u001b[38;5;241;43m=\u001b[39;49m\u001b[38;5;241;43m1\u001b[39;49m\u001b[43m)\u001b[49m\u001b[43m)\u001b[49m\u001b[43m,\u001b[49m\u001b[43m \u001b[49m\u001b[43maxis\u001b[49m\u001b[38;5;241;43m=\u001b[39;49m\u001b[38;5;241;43m1\u001b[39;49m\u001b[43m)\u001b[49m\n",
      "File \u001b[1;32m~\\anaconda3\\lib\\site-packages\\pandas\\core\\frame.py:9568\u001b[0m, in \u001b[0;36mDataFrame.apply\u001b[1;34m(self, func, axis, raw, result_type, args, **kwargs)\u001b[0m\n\u001b[0;32m   9557\u001b[0m \u001b[38;5;28;01mfrom\u001b[39;00m \u001b[38;5;21;01mpandas\u001b[39;00m\u001b[38;5;21;01m.\u001b[39;00m\u001b[38;5;21;01mcore\u001b[39;00m\u001b[38;5;21;01m.\u001b[39;00m\u001b[38;5;21;01mapply\u001b[39;00m \u001b[38;5;28;01mimport\u001b[39;00m frame_apply\n\u001b[0;32m   9559\u001b[0m op \u001b[38;5;241m=\u001b[39m frame_apply(\n\u001b[0;32m   9560\u001b[0m     \u001b[38;5;28mself\u001b[39m,\n\u001b[0;32m   9561\u001b[0m     func\u001b[38;5;241m=\u001b[39mfunc,\n\u001b[1;32m   (...)\u001b[0m\n\u001b[0;32m   9566\u001b[0m     kwargs\u001b[38;5;241m=\u001b[39mkwargs,\n\u001b[0;32m   9567\u001b[0m )\n\u001b[1;32m-> 9568\u001b[0m \u001b[38;5;28;01mreturn\u001b[39;00m \u001b[43mop\u001b[49m\u001b[38;5;241;43m.\u001b[39;49m\u001b[43mapply\u001b[49m\u001b[43m(\u001b[49m\u001b[43m)\u001b[49m\u001b[38;5;241m.\u001b[39m__finalize__(\u001b[38;5;28mself\u001b[39m, method\u001b[38;5;241m=\u001b[39m\u001b[38;5;124m\"\u001b[39m\u001b[38;5;124mapply\u001b[39m\u001b[38;5;124m\"\u001b[39m)\n",
      "File \u001b[1;32m~\\anaconda3\\lib\\site-packages\\pandas\\core\\apply.py:764\u001b[0m, in \u001b[0;36mFrameApply.apply\u001b[1;34m(self)\u001b[0m\n\u001b[0;32m    761\u001b[0m \u001b[38;5;28;01melif\u001b[39;00m \u001b[38;5;28mself\u001b[39m\u001b[38;5;241m.\u001b[39mraw:\n\u001b[0;32m    762\u001b[0m     \u001b[38;5;28;01mreturn\u001b[39;00m \u001b[38;5;28mself\u001b[39m\u001b[38;5;241m.\u001b[39mapply_raw()\n\u001b[1;32m--> 764\u001b[0m \u001b[38;5;28;01mreturn\u001b[39;00m \u001b[38;5;28;43mself\u001b[39;49m\u001b[38;5;241;43m.\u001b[39;49m\u001b[43mapply_standard\u001b[49m\u001b[43m(\u001b[49m\u001b[43m)\u001b[49m\n",
      "File \u001b[1;32m~\\anaconda3\\lib\\site-packages\\pandas\\core\\apply.py:891\u001b[0m, in \u001b[0;36mFrameApply.apply_standard\u001b[1;34m(self)\u001b[0m\n\u001b[0;32m    890\u001b[0m \u001b[38;5;28;01mdef\u001b[39;00m \u001b[38;5;21mapply_standard\u001b[39m(\u001b[38;5;28mself\u001b[39m):\n\u001b[1;32m--> 891\u001b[0m     results, res_index \u001b[38;5;241m=\u001b[39m \u001b[38;5;28;43mself\u001b[39;49m\u001b[38;5;241;43m.\u001b[39;49m\u001b[43mapply_series_generator\u001b[49m\u001b[43m(\u001b[49m\u001b[43m)\u001b[49m\n\u001b[0;32m    893\u001b[0m     \u001b[38;5;66;03m# wrap results\u001b[39;00m\n\u001b[0;32m    894\u001b[0m     \u001b[38;5;28;01mreturn\u001b[39;00m \u001b[38;5;28mself\u001b[39m\u001b[38;5;241m.\u001b[39mwrap_results(results, res_index)\n",
      "File \u001b[1;32m~\\anaconda3\\lib\\site-packages\\pandas\\core\\apply.py:907\u001b[0m, in \u001b[0;36mFrameApply.apply_series_generator\u001b[1;34m(self)\u001b[0m\n\u001b[0;32m    904\u001b[0m \u001b[38;5;28;01mwith\u001b[39;00m option_context(\u001b[38;5;124m\"\u001b[39m\u001b[38;5;124mmode.chained_assignment\u001b[39m\u001b[38;5;124m\"\u001b[39m, \u001b[38;5;28;01mNone\u001b[39;00m):\n\u001b[0;32m    905\u001b[0m     \u001b[38;5;28;01mfor\u001b[39;00m i, v \u001b[38;5;129;01min\u001b[39;00m \u001b[38;5;28menumerate\u001b[39m(series_gen):\n\u001b[0;32m    906\u001b[0m         \u001b[38;5;66;03m# ignore SettingWithCopy here in case the user mutates\u001b[39;00m\n\u001b[1;32m--> 907\u001b[0m         results[i] \u001b[38;5;241m=\u001b[39m \u001b[38;5;28;43mself\u001b[39;49m\u001b[38;5;241;43m.\u001b[39;49m\u001b[43mf\u001b[49m\u001b[43m(\u001b[49m\u001b[43mv\u001b[49m\u001b[43m)\u001b[49m\n\u001b[0;32m    908\u001b[0m         \u001b[38;5;28;01mif\u001b[39;00m \u001b[38;5;28misinstance\u001b[39m(results[i], ABCSeries):\n\u001b[0;32m    909\u001b[0m             \u001b[38;5;66;03m# If we have a view on v, we need to make a copy because\u001b[39;00m\n\u001b[0;32m    910\u001b[0m             \u001b[38;5;66;03m#  series_generator will swap out the underlying data\u001b[39;00m\n\u001b[0;32m    911\u001b[0m             results[i] \u001b[38;5;241m=\u001b[39m results[i]\u001b[38;5;241m.\u001b[39mcopy(deep\u001b[38;5;241m=\u001b[39m\u001b[38;5;28;01mFalse\u001b[39;00m)\n",
      "Cell \u001b[1;32mIn[101], line 7\u001b[0m, in \u001b[0;36m<lambda>\u001b[1;34m(row)\u001b[0m\n\u001b[0;32m      2\u001b[0m data \u001b[38;5;241m=\u001b[39m {\u001b[38;5;124m'\u001b[39m\u001b[38;5;124mnum\u001b[39m\u001b[38;5;124m'\u001b[39m: [\u001b[38;5;241m1\u001b[39m,\u001b[38;5;241m2\u001b[39m,\u001b[38;5;241m3\u001b[39m],\n\u001b[0;32m      3\u001b[0m         \u001b[38;5;124m'\u001b[39m\u001b[38;5;124mmarks\u001b[39m\u001b[38;5;124m'\u001b[39m: [\u001b[38;5;241m4\u001b[39m,\u001b[38;5;241m5\u001b[39m,\u001b[38;5;241m6\u001b[39m],\n\u001b[0;32m      4\u001b[0m        \u001b[38;5;124m'\u001b[39m\u001b[38;5;124mn\u001b[39m\u001b[38;5;124m'\u001b[39m:[\u001b[38;5;241m7\u001b[39m,\u001b[38;5;241m8\u001b[39m,\u001b[38;5;241m9\u001b[39m]}\n\u001b[0;32m      5\u001b[0m d \u001b[38;5;241m=\u001b[39m pd\u001b[38;5;241m.\u001b[39mDataFrame(data)\n\u001b[1;32m----> 7\u001b[0m df[\u001b[38;5;124m'\u001b[39m\u001b[38;5;124mNearestColumn\u001b[39m\u001b[38;5;124m'\u001b[39m] \u001b[38;5;241m=\u001b[39m df\u001b[38;5;241m.\u001b[39mapply(\u001b[38;5;28;01mlambda\u001b[39;00m row: np\u001b[38;5;241m.\u001b[39margmin(np\u001b[38;5;241m.\u001b[39mlinalg\u001b[38;5;241m.\u001b[39mnorm(\u001b[43mrow\u001b[49m\u001b[43m \u001b[49m\u001b[38;5;241;43m-\u001b[39;49m\u001b[43m \u001b[49m\u001b[43mdf\u001b[49m\u001b[38;5;241;43m.\u001b[39;49m\u001b[43mvalues\u001b[49m, axis\u001b[38;5;241m=\u001b[39m\u001b[38;5;241m1\u001b[39m)), axis\u001b[38;5;241m=\u001b[39m\u001b[38;5;241m1\u001b[39m)\n",
      "File \u001b[1;32m~\\anaconda3\\lib\\site-packages\\pandas\\core\\ops\\common.py:72\u001b[0m, in \u001b[0;36m_unpack_zerodim_and_defer.<locals>.new_method\u001b[1;34m(self, other)\u001b[0m\n\u001b[0;32m     68\u001b[0m             \u001b[38;5;28;01mreturn\u001b[39;00m \u001b[38;5;28mNotImplemented\u001b[39m\n\u001b[0;32m     70\u001b[0m other \u001b[38;5;241m=\u001b[39m item_from_zerodim(other)\n\u001b[1;32m---> 72\u001b[0m \u001b[38;5;28;01mreturn\u001b[39;00m \u001b[43mmethod\u001b[49m\u001b[43m(\u001b[49m\u001b[38;5;28;43mself\u001b[39;49m\u001b[43m,\u001b[49m\u001b[43m \u001b[49m\u001b[43mother\u001b[49m\u001b[43m)\u001b[49m\n",
      "File \u001b[1;32m~\\anaconda3\\lib\\site-packages\\pandas\\core\\arraylike.py:110\u001b[0m, in \u001b[0;36mOpsMixin.__sub__\u001b[1;34m(self, other)\u001b[0m\n\u001b[0;32m    108\u001b[0m \u001b[38;5;129m@unpack_zerodim_and_defer\u001b[39m(\u001b[38;5;124m\"\u001b[39m\u001b[38;5;124m__sub__\u001b[39m\u001b[38;5;124m\"\u001b[39m)\n\u001b[0;32m    109\u001b[0m \u001b[38;5;28;01mdef\u001b[39;00m \u001b[38;5;21m__sub__\u001b[39m(\u001b[38;5;28mself\u001b[39m, other):\n\u001b[1;32m--> 110\u001b[0m     \u001b[38;5;28;01mreturn\u001b[39;00m \u001b[38;5;28;43mself\u001b[39;49m\u001b[38;5;241;43m.\u001b[39;49m\u001b[43m_arith_method\u001b[49m\u001b[43m(\u001b[49m\u001b[43mother\u001b[49m\u001b[43m,\u001b[49m\u001b[43m \u001b[49m\u001b[43moperator\u001b[49m\u001b[38;5;241;43m.\u001b[39;49m\u001b[43msub\u001b[49m\u001b[43m)\u001b[49m\n",
      "File \u001b[1;32m~\\anaconda3\\lib\\site-packages\\pandas\\core\\series.py:6259\u001b[0m, in \u001b[0;36mSeries._arith_method\u001b[1;34m(self, other, op)\u001b[0m\n\u001b[0;32m   6257\u001b[0m \u001b[38;5;28;01mdef\u001b[39;00m \u001b[38;5;21m_arith_method\u001b[39m(\u001b[38;5;28mself\u001b[39m, other, op):\n\u001b[0;32m   6258\u001b[0m     \u001b[38;5;28mself\u001b[39m, other \u001b[38;5;241m=\u001b[39m ops\u001b[38;5;241m.\u001b[39malign_method_SERIES(\u001b[38;5;28mself\u001b[39m, other)\n\u001b[1;32m-> 6259\u001b[0m     \u001b[38;5;28;01mreturn\u001b[39;00m \u001b[43mbase\u001b[49m\u001b[38;5;241;43m.\u001b[39;49m\u001b[43mIndexOpsMixin\u001b[49m\u001b[38;5;241;43m.\u001b[39;49m\u001b[43m_arith_method\u001b[49m\u001b[43m(\u001b[49m\u001b[38;5;28;43mself\u001b[39;49m\u001b[43m,\u001b[49m\u001b[43m \u001b[49m\u001b[43mother\u001b[49m\u001b[43m,\u001b[49m\u001b[43m \u001b[49m\u001b[43mop\u001b[49m\u001b[43m)\u001b[49m\n",
      "File \u001b[1;32m~\\anaconda3\\lib\\site-packages\\pandas\\core\\base.py:1327\u001b[0m, in \u001b[0;36mIndexOpsMixin._arith_method\u001b[1;34m(self, other, op)\u001b[0m\n\u001b[0;32m   1324\u001b[0m \u001b[38;5;28;01mwith\u001b[39;00m np\u001b[38;5;241m.\u001b[39merrstate(\u001b[38;5;28mall\u001b[39m\u001b[38;5;241m=\u001b[39m\u001b[38;5;124m\"\u001b[39m\u001b[38;5;124mignore\u001b[39m\u001b[38;5;124m\"\u001b[39m):\n\u001b[0;32m   1325\u001b[0m     result \u001b[38;5;241m=\u001b[39m ops\u001b[38;5;241m.\u001b[39marithmetic_op(lvalues, rvalues, op)\n\u001b[1;32m-> 1327\u001b[0m \u001b[38;5;28;01mreturn\u001b[39;00m \u001b[38;5;28;43mself\u001b[39;49m\u001b[38;5;241;43m.\u001b[39;49m\u001b[43m_construct_result\u001b[49m\u001b[43m(\u001b[49m\u001b[43mresult\u001b[49m\u001b[43m,\u001b[49m\u001b[43m \u001b[49m\u001b[43mname\u001b[49m\u001b[38;5;241;43m=\u001b[39;49m\u001b[43mres_name\u001b[49m\u001b[43m)\u001b[49m\n",
      "File \u001b[1;32m~\\anaconda3\\lib\\site-packages\\pandas\\core\\series.py:3223\u001b[0m, in \u001b[0;36mSeries._construct_result\u001b[1;34m(self, result, name)\u001b[0m\n\u001b[0;32m   3219\u001b[0m     \u001b[38;5;28;01mreturn\u001b[39;00m (res1, res2)\n\u001b[0;32m   3221\u001b[0m \u001b[38;5;66;03m# We do not pass dtype to ensure that the Series constructor\u001b[39;00m\n\u001b[0;32m   3222\u001b[0m \u001b[38;5;66;03m#  does inference in the case where `result` has object-dtype.\u001b[39;00m\n\u001b[1;32m-> 3223\u001b[0m out \u001b[38;5;241m=\u001b[39m \u001b[38;5;28;43mself\u001b[39;49m\u001b[38;5;241;43m.\u001b[39;49m\u001b[43m_constructor\u001b[49m\u001b[43m(\u001b[49m\u001b[43mresult\u001b[49m\u001b[43m,\u001b[49m\u001b[43m \u001b[49m\u001b[43mindex\u001b[49m\u001b[38;5;241;43m=\u001b[39;49m\u001b[38;5;28;43mself\u001b[39;49m\u001b[38;5;241;43m.\u001b[39;49m\u001b[43mindex\u001b[49m\u001b[43m)\u001b[49m\n\u001b[0;32m   3224\u001b[0m out \u001b[38;5;241m=\u001b[39m out\u001b[38;5;241m.\u001b[39m__finalize__(\u001b[38;5;28mself\u001b[39m)\n\u001b[0;32m   3226\u001b[0m \u001b[38;5;66;03m# Set the result's name after __finalize__ is called because __finalize__\u001b[39;00m\n\u001b[0;32m   3227\u001b[0m \u001b[38;5;66;03m#  would set it back to self.name\u001b[39;00m\n",
      "File \u001b[1;32m~\\anaconda3\\lib\\site-packages\\pandas\\core\\series.py:461\u001b[0m, in \u001b[0;36mSeries.__init__\u001b[1;34m(self, data, index, dtype, name, copy, fastpath)\u001b[0m\n\u001b[0;32m    459\u001b[0m     index \u001b[38;5;241m=\u001b[39m default_index(\u001b[38;5;28mlen\u001b[39m(data))\n\u001b[0;32m    460\u001b[0m \u001b[38;5;28;01melif\u001b[39;00m is_list_like(data):\n\u001b[1;32m--> 461\u001b[0m     \u001b[43mcom\u001b[49m\u001b[38;5;241;43m.\u001b[39;49m\u001b[43mrequire_length_match\u001b[49m\u001b[43m(\u001b[49m\u001b[43mdata\u001b[49m\u001b[43m,\u001b[49m\u001b[43m \u001b[49m\u001b[43mindex\u001b[49m\u001b[43m)\u001b[49m\n\u001b[0;32m    463\u001b[0m \u001b[38;5;66;03m# create/copy the manager\u001b[39;00m\n\u001b[0;32m    464\u001b[0m \u001b[38;5;28;01mif\u001b[39;00m \u001b[38;5;28misinstance\u001b[39m(data, (SingleBlockManager, SingleArrayManager)):\n",
      "File \u001b[1;32m~\\anaconda3\\lib\\site-packages\\pandas\\core\\common.py:571\u001b[0m, in \u001b[0;36mrequire_length_match\u001b[1;34m(data, index)\u001b[0m\n\u001b[0;32m    567\u001b[0m \u001b[38;5;250m\u001b[39m\u001b[38;5;124;03m\"\"\"\u001b[39;00m\n\u001b[0;32m    568\u001b[0m \u001b[38;5;124;03mCheck the length of data matches the length of the index.\u001b[39;00m\n\u001b[0;32m    569\u001b[0m \u001b[38;5;124;03m\"\"\"\u001b[39;00m\n\u001b[0;32m    570\u001b[0m \u001b[38;5;28;01mif\u001b[39;00m \u001b[38;5;28mlen\u001b[39m(data) \u001b[38;5;241m!=\u001b[39m \u001b[38;5;28mlen\u001b[39m(index):\n\u001b[1;32m--> 571\u001b[0m     \u001b[38;5;28;01mraise\u001b[39;00m \u001b[38;5;167;01mValueError\u001b[39;00m(\n\u001b[0;32m    572\u001b[0m         \u001b[38;5;124m\"\u001b[39m\u001b[38;5;124mLength of values \u001b[39m\u001b[38;5;124m\"\u001b[39m\n\u001b[0;32m    573\u001b[0m         \u001b[38;5;124mf\u001b[39m\u001b[38;5;124m\"\u001b[39m\u001b[38;5;124m(\u001b[39m\u001b[38;5;132;01m{\u001b[39;00m\u001b[38;5;28mlen\u001b[39m(data)\u001b[38;5;132;01m}\u001b[39;00m\u001b[38;5;124m) \u001b[39m\u001b[38;5;124m\"\u001b[39m\n\u001b[0;32m    574\u001b[0m         \u001b[38;5;124m\"\u001b[39m\u001b[38;5;124mdoes not match length of index \u001b[39m\u001b[38;5;124m\"\u001b[39m\n\u001b[0;32m    575\u001b[0m         \u001b[38;5;124mf\u001b[39m\u001b[38;5;124m\"\u001b[39m\u001b[38;5;124m(\u001b[39m\u001b[38;5;132;01m{\u001b[39;00m\u001b[38;5;28mlen\u001b[39m(index)\u001b[38;5;132;01m}\u001b[39;00m\u001b[38;5;124m)\u001b[39m\u001b[38;5;124m\"\u001b[39m\n\u001b[0;32m    576\u001b[0m     )\n",
      "\u001b[1;31mValueError\u001b[0m: Length of values (5) does not match length of index (1)"
     ]
    }
   ],
   "source": [
    "# 34.How to create a new column that contains the row number of nearest column by euclidean distance?\n",
    "data = {'num': [1,2,3],\n",
    "        'marks': [4,5,6],\n",
    "       'n':[7,8,9]}\n",
    "d = pd.DataFrame(data)\n",
    "\n",
    "df['NearestColumn'] = df.apply(lambda row: np.argmin(np.linalg.norm(row - df.values, axis=1)), axis=1)\n",
    "\n"
   ]
  },
  {
   "cell_type": "code",
   "execution_count": null,
   "id": "b834cf10",
   "metadata": {},
   "outputs": [],
   "source": [
    "# 35.What are lists and tuples\n",
    "\n",
    "# Lists and tuples are both sequence data types in Python.\n",
    "# They can contain elements of different types and are used to store collections of items. \n",
    "# The main difference between lists and tuples is that lists are mutable (can be modified), \n",
    "# while tuples are immutable. Lists are defined using square brackets [] and tuples are defined using parentheses ()."
   ]
  },
  {
   "cell_type": "code",
   "execution_count": null,
   "id": "d549ed39",
   "metadata": {},
   "outputs": [],
   "source": [
    "# 36.What is slicing\n",
    "\n",
    "# Slicing is a technique used to extract a subset of elements from a sequence, such as a list, tuple, or string, based on their indices.\n",
    "# It allows you to retrieve a contiguous portion of the sequence by specifying the start, end, and step size. The syntax for slicing is sequence[start:end:step], where start is the starting index (inclusive), \n",
    "# end is the ending index, and step is the step size between elements."
   ]
  },
  {
   "cell_type": "code",
   "execution_count": null,
   "id": "5b45ea22",
   "metadata": {},
   "outputs": [],
   "source": [
    "# 37. What is map and reduce\n",
    "# Map and reduce are functions provided by the functools module in Python. \n",
    "# The map() function applies a given function to each element of an iterable (such as a list) and returns an iterator with the results. It is a convenient way to perform a transformation operation on each element of a sequence. \n",
    "# The reduce() function applies a function of two arguments cumulatively to the elements of an iterable, reducing it to a single value. It is typically used for operations that involve aggregating or combining the elements of a sequence.\n"
   ]
  },
  {
   "cell_type": "code",
   "execution_count": null,
   "id": "737bd196",
   "metadata": {},
   "outputs": [],
   "source": [
    "# 38.What are lambda functions\n",
    "# Lambda functions, also known as anonymous functions, are small, one-line functions that do not require a separate function definition. \n",
    "# They are defined using the lambda keyword, followed by the input arguments and a single expression. Lambda functions are often used in conjunction with functions like map(), filter(), and reduce() to provide a concise way of defining simple functions on the fly."
   ]
  },
  {
   "cell_type": "code",
   "execution_count": null,
   "id": "e7d2573a",
   "metadata": {},
   "outputs": [],
   "source": [
    "# 39.What are global variables\n",
    "# Global variables are variables that are defined outside of any function and can be accessed from anywhere within the program. \n",
    "# They have a global scope and can be used by multiple functions. However,\n",
    "# modifying global variables within a function requires using the global keyword to explicitly indicate that the variable being modified is the global one."
   ]
  },
  {
   "cell_type": "code",
   "execution_count": null,
   "id": "2d348b6b",
   "metadata": {},
   "outputs": [],
   "source": [
    "# 40.What are the different ways in which we can combine dataframes.\n",
    "\n",
    "# ans:  Concatenation: Use the concat() function to concatenate DataFrames vertically or horizontally based on the axis parameter.\n",
    "\n",
    "# Merging: Use the merge() function to merge DataFrames based on common columns or indices.\n",
    "\n",
    "# Joining: Use the join() function to join DataFrames based on the index.\n",
    "\n",
    "# Appending: Use the append() function to append one DataFrame to another vertically.\n",
    "\n",
    "# Combining: Use the combine_first() function to combine DataFrames, filling missing values in one DataFrame with values from another DataFrame."
   ]
  },
  {
   "cell_type": "code",
   "execution_count": null,
   "id": "d7f4c590",
   "metadata": {},
   "outputs": [],
   "source": [
    "# 41.How is memory managed in python\n",
    "\n",
    "# ans:  memory management is handled automatically through a mechanism called reference counting. \n",
    "# Each object in memory has a reference count that keeps track of the number of references to that object.\n",
    "# When an object's reference count reaches zero, meaning no references point to it, \n",
    "# the memory allocated to that object is automatically freed by the Python interpreter's garbage collector."
   ]
  },
  {
   "cell_type": "code",
   "execution_count": null,
   "id": "17735b2a",
   "metadata": {},
   "outputs": [],
   "source": [
    "# 42.Is indentation required in python\n",
    "\n",
    "# Yes, indentation is required in Python. many other programming languages, Python uses indentation to define the structure and scope of code blocks. \n",
    "# Indentation is used to group statements together and determine which statements belong to a specific block of code,such as a function, loop, or conditional statement. \n",
    "# Proper indentation is crucial in Python because it affects the readability and functionality of the code."
   ]
  },
  {
   "cell_type": "code",
   "execution_count": null,
   "id": "c7da3009",
   "metadata": {},
   "outputs": [],
   "source": [
    "# 43.Difference between python arrays and lists\n",
    "\n",
    "# The main difference between Python arrays and lists is that arrays can only store elements of the same data type,\n",
    "# while lists can store elements of different data types. Arrays in Python are implemented through the array module and \n",
    "# provide a more memory-efficient way to store and manipulate homogeneous data. \n",
    "# Lists, on the other hand, are a built-in data type in Python and offer more flexibility since they can contain elements of different types and are mutable."
   ]
  },
  {
   "cell_type": "code",
   "execution_count": null,
   "id": "a7c2ae24",
   "metadata": {},
   "outputs": [],
   "source": [
    "# 44. What is __init\n",
    "\n",
    "\n",
    "# __init__ is a special method in Python classes that serves as a constructor.\n",
    "# It is automatically called when an object is created from a class. \n",
    "# The __init__ method is used to initialize the attributes (or properties) of an object. It takes the self parameter, \n",
    "# which represents the instance of the object being created, and any additional parameters needed to initialize the object's attributes"
   ]
  },
  {
   "cell_type": "code",
   "execution_count": null,
   "id": "e562a23f",
   "metadata": {},
   "outputs": [],
   "source": [
    "# 45.What is .iloc\n",
    "\n",
    "# .iloc is a pandas indexing attribute used to access and manipulate data in a DataFrame using integer-based indexing. \n",
    "# It allows you to select specific rows and columns based on their integer positions.\n",
    "# example, df.iloc[2:5, 1:3] will select rows 2 to 4 and columns 1 to 2 of the DataFrame df."
   ]
  },
  {
   "cell_type": "code",
   "execution_count": null,
   "id": "54936478",
   "metadata": {},
   "outputs": [],
   "source": [
    "# 46. What data structures are supported in pandas?\n",
    "\n",
    "# Pandas supports various data structures, including:\n",
    "\n",
    "# Series: A one-dimensional labeled array capable of holding any data type.\n",
    "\n",
    "# DataFrame: A two-dimensional labeled data structure with columns of potentially different types. \n",
    "# It is similar to a table in a relational database or a spreadsheet.\n",
    "\n"
   ]
  },
  {
   "cell_type": "code",
   "execution_count": null,
   "id": "bb0a7e75",
   "metadata": {},
   "outputs": [],
   "source": [
    "# 47.How do you drop duplicates in pandas dataframe?.\n",
    "\n",
    "# To drop duplicates in a pandas DataFrame,use the drop_duplicates() method. "
   ]
  },
  {
   "cell_type": "code",
   "execution_count": 110,
   "id": "618f5a06",
   "metadata": {},
   "outputs": [
    {
     "name": "stdout",
     "output_type": "stream",
     "text": [
      "   marks\n",
      "0      1\n",
      "1      2\n",
      "2      3\n",
      "3      4\n",
      "4      5\n",
      "   marks\n",
      "0     34\n",
      "1     45\n",
      "2     56\n",
      "3     78\n",
      "4     88\n",
      "Empty DataFrame\n",
      "Columns: [marks]\n",
      "Index: []\n"
     ]
    }
   ],
   "source": [
    "# 48. Write a code to find common rows between 2 dataframes, df1 & df2.\n",
    "d=[1,2,3,4,5]\n",
    "df=pd.DataFrame(d,columns=['marks'])\n",
    "print(df)\n",
    "d2=[34,45,56,78,88]\n",
    "df2=pd.DataFrame(d2,columns=['marks'])\n",
    "print(df2)\n",
    "m=pd.merge(df,df2 ,how='inner')\n",
    "print(m)\n",
    "\n",
    "\n"
   ]
  },
  {
   "cell_type": "code",
   "execution_count": 111,
   "id": "06036027",
   "metadata": {},
   "outputs": [
    {
     "name": "stdout",
     "output_type": "stream",
     "text": [
      "   marks      _merge\n",
      "0      1   left_only\n",
      "1      2   left_only\n",
      "2      3   left_only\n",
      "3      4   left_only\n",
      "4      5   left_only\n",
      "5     34  right_only\n",
      "6     45  right_only\n",
      "7     56  right_only\n",
      "8     78  right_only\n",
      "9     88  right_only\n"
     ]
    }
   ],
   "source": [
    "# 49.Write a code to find un-common rows between 2 dataframes, df1 & df2\n",
    "\n",
    "uncommon = pd.merge(df, df2, how='outer', indicator=True)\n",
    "# specify the 'on' parameter\n",
    "uncommon= uncommon[uncommon['_merge'] != 'both']\n",
    "print(uncommon)"
   ]
  },
  {
   "cell_type": "code",
   "execution_count": null,
   "id": "b0383b4c",
   "metadata": {},
   "outputs": [],
   "source": [
    "# 50. How will you perform a left join between 2 dataframes\n",
    "\n",
    "# specify how='left'\n",
    "left_j=pd.merge(df,df2,how='left')\n",
    "print(left_j)"
   ]
  },
  {
   "cell_type": "code",
   "execution_count": 112,
   "id": "f8a02eb6",
   "metadata": {},
   "outputs": [
    {
     "name": "stdout",
     "output_type": "stream",
     "text": [
      "5\n",
      "1\n"
     ]
    }
   ],
   "source": [
    "# 51. What function is used to find the number of rows and columns in a dataframe\n",
    "rows,col=df.shape   # using shape\n",
    "print(rows)\n",
    "print(col)"
   ]
  },
  {
   "cell_type": "code",
   "execution_count": 114,
   "id": "5de06337",
   "metadata": {},
   "outputs": [
    {
     "name": "stdout",
     "output_type": "stream",
     "text": [
      "Empty DataFrame\n",
      "Columns: [Col, Col2, Col3]\n",
      "Index: []\n"
     ]
    }
   ],
   "source": [
    "# 52. How will you create an empty dataframe in pandas\n",
    "\n",
    "# Create an empty DataFrame with column names\n",
    "df = pd.DataFrame(columns=['Col', 'Col2', 'Col3'])\n",
    "\n",
    "# Print the empty DataFrame\n",
    "print(df)"
   ]
  },
  {
   "cell_type": "code",
   "execution_count": null,
   "id": "8411a206",
   "metadata": {},
   "outputs": [],
   "source": [
    "# 53. What is reindexing in pandas\n",
    "\n",
    "# Reindexing in pandas refers to the process of creating a new object with the data conformed to a new index. \n",
    "# It allows you to change the index labels of a Series or DataFrame. "
   ]
  },
  {
   "cell_type": "code",
   "execution_count": 115,
   "id": "d4f010d5",
   "metadata": {},
   "outputs": [
    {
     "name": "stdout",
     "output_type": "stream",
     "text": [
      "0    1\n",
      "1    2\n",
      "2    3\n",
      "3    4\n",
      "4    5\n",
      "dtype: int64\n"
     ]
    }
   ],
   "source": [
    "# 54.How to get the items of series A not present in series B?\n",
    "\n",
    "seri1=pd.Series([1,2,3,4,5])  # create series and convert into datafream\n",
    "seri2=pd.Series([6,7,8,9,10])\n",
    "\n",
    "not_in = seri1[~seri1.isin(seri2)]\n",
    "\n",
    "# Print the items not present in Series B\n",
    "print(not_in)\n"
   ]
  },
  {
   "cell_type": "code",
   "execution_count": 117,
   "id": "24514599",
   "metadata": {},
   "outputs": [
    {
     "name": "stdout",
     "output_type": "stream",
     "text": [
      "1    1\n",
      "2    1\n",
      "3    1\n",
      "4    1\n",
      "5    1\n",
      "dtype: int64\n"
     ]
    }
   ],
   "source": [
    "# 55. How to get the items of series A not present in series B?\n",
    "\n",
    "freq = seri1.value_counts()\n",
    "\n",
    "# Print the frequency counts\n",
    "print(freq)"
   ]
  },
  {
   "cell_type": "code",
   "execution_count": 118,
   "id": "aeba9e4e",
   "metadata": {},
   "outputs": [
    {
     "name": "stdout",
     "output_type": "stream",
     "text": [
      "1    1\n",
      "2    1\n",
      "3    1\n",
      "4    1\n",
      "5    1\n",
      "dtype: int64\n"
     ]
    }
   ],
   "source": [
    "# 56.How will you write a dataframe in excel\n",
    "\n",
    "\n",
    "df.to_excel('output.xlsx', index=False)\n",
    "\n"
   ]
  },
  {
   "cell_type": "code",
   "execution_count": 119,
   "id": "6cbe0407",
   "metadata": {},
   "outputs": [
    {
     "name": "stdout",
     "output_type": "stream",
     "text": [
      "even\n"
     ]
    }
   ],
   "source": [
    "# 57.Write a Python program to check if a given number is even or odd.\n",
    "n=10\n",
    "if n%2==0:\n",
    "    print('even')\n",
    "else:\n",
    "    print('odd')\n"
   ]
  },
  {
   "cell_type": "code",
   "execution_count": 120,
   "id": "8910d1ea",
   "metadata": {},
   "outputs": [
    {
     "name": "stdout",
     "output_type": "stream",
     "text": [
      "{'key1': 88, 'key2': 34, 'key3': 35}\n"
     ]
    }
   ],
   "source": [
    "# 58. Write a Python script to add a key to a dictionary.\n",
    "\n",
    "my_dict = {'key1': 12, 'key2': 34}\n",
    "\n",
    "# Adding a new key-value pair\n",
    "my_dict['key3'] = 35\n",
    "\n",
    "# Updating an existing key-value pair\n",
    "my_dict['key1'] = 88\n",
    "\n",
    "# Print the updated dictionary\n",
    "print(my_dict)"
   ]
  },
  {
   "cell_type": "code",
   "execution_count": 121,
   "id": "55eda3a2",
   "metadata": {},
   "outputs": [
    {
     "name": "stdout",
     "output_type": "stream",
     "text": [
      "{'a': 10, 'b': 25, 'c': 45, 'd': 25}\n"
     ]
    }
   ],
   "source": [
    "# 59.Write a Python program to combine two dictionary adding values for common keys\n",
    "\n",
    "def combine(dict1, dict2):\n",
    "    combined_dict = dict1.copy()\n",
    "\n",
    "    for key, value in dict2.items():\n",
    "        if key in combined_dict:\n",
    "            combined_dict[key] += value\n",
    "        else:\n",
    "            combined_dict[key] = value\n",
    "\n",
    "    return combined_dict\n",
    "\n",
    "# Example usage\n",
    "dict1 = {'a': 10, 'b': 20, 'c': 30}\n",
    "dict2 = {'b': 5, 'c': 15, 'd': 25}\n",
    "combined_dict = combine(dict1, dict2)\n",
    "print(combined_dict)"
   ]
  },
  {
   "cell_type": "code",
   "execution_count": 124,
   "id": "57b0f62e",
   "metadata": {},
   "outputs": [
    {
     "name": "stdout",
     "output_type": "stream",
     "text": [
      "90\n"
     ]
    }
   ],
   "source": [
    "# 60. Write a Python function to find the sum of all even numbers in a given range.\n",
    "sum=0\n",
    "for i in range(1,20):\n",
    "    if i%2==0:\n",
    "        sum=sum+i\n",
    "print(sum)\n",
    "        "
   ]
  },
  {
   "cell_type": "code",
   "execution_count": 125,
   "id": "9dedc199",
   "metadata": {},
   "outputs": [
    {
     "name": "stdout",
     "output_type": "stream",
     "text": [
      "{'b': 5, 'a': 10, 'd': 15, 'c': 20}\n",
      "{'c': 20, 'd': 15, 'a': 10, 'b': 5}\n"
     ]
    }
   ],
   "source": [
    "# 61.Write a Python script to sort (ascending and descending) a dictionary by value\n",
    "\n",
    "def sort(dictionary, descending=False):\n",
    "    sorted_dict = dict(sorted(dictionary.items(), key=lambda x: x[1], reverse=descending))\n",
    "    return sorted_dict\n",
    "\n",
    "# Example usage\n",
    "my_dict = {'a': 10, 'b': 5, 'c': 20, 'd': 15}\n",
    "ascending = sort(my_dict)\n",
    "descending = sort(my_dict, descending=True)\n",
    "print(ascending)\n",
    "print(descending)"
   ]
  },
  {
   "cell_type": "code",
   "execution_count": 127,
   "id": "492e122d",
   "metadata": {},
   "outputs": [
    {
     "name": "stdout",
     "output_type": "stream",
     "text": [
      "{'a': 10, 'b': 20, 'c': 30}\n"
     ]
    }
   ],
   "source": [
    "# 64. Write a Python script to add a key to a dictionary.\n",
    "\n",
    "def add(dict1, key, value):\n",
    "    dict1[key] = value\n",
    "    return dict1\n",
    "\n",
    "my_dict = {'a': 10, 'b': 20}\n",
    "updated = add(my_dict, 'c', 30)\n",
    "print(updated)"
   ]
  },
  {
   "cell_type": "code",
   "execution_count": 128,
   "id": "86182b53",
   "metadata": {},
   "outputs": [
    {
     "name": "stdout",
     "output_type": "stream",
     "text": [
      "36\n"
     ]
    }
   ],
   "source": [
    "# 63. Write a Python program to find the greatest common divisor (GCD) of two given numbers.\n",
    "def gcd(num1, num2):\n",
    "    while num2 != 0:\n",
    "        num1, num2 = num2, num1 % num2\n",
    "    return num1\n",
    "\n",
    "\n",
    "num = 24\n",
    "num = 36\n",
    "result = gcd(num, num)\n",
    "print(result)\n"
   ]
  },
  {
   "cell_type": "code",
   "execution_count": 129,
   "id": "1c2a690e",
   "metadata": {},
   "outputs": [
    {
     "name": "stdout",
     "output_type": "stream",
     "text": [
      "{'a': 1, 'b': 2, 'd': 3}\n"
     ]
    }
   ],
   "source": [
    "# 64.Write a Python program to remove duplicates from Dictionary.\n",
    "\n",
    "def remove(dict1):\n",
    "    unique_dict = {}\n",
    "    for key, value in dict1.items():\n",
    "        if value not in unique_dict.values():\n",
    "            unique_dict[key] = value\n",
    "    return unique_dict\n",
    "\n",
    "# Example usage\n",
    "my_dict = {'a': 1, 'b': 2, 'c': 1, 'd': 3, 'e': 2}\n",
    "result_dict = remove(my_dict)\n",
    "print(result_dict)"
   ]
  },
  {
   "cell_type": "code",
   "execution_count": 130,
   "id": "26bae770",
   "metadata": {},
   "outputs": [
    {
     "name": "stdout",
     "output_type": "stream",
     "text": [
      "True\n"
     ]
    }
   ],
   "source": [
    "# 65.Write a Python program to check if a specific Key and a value exist in a dictionary.\n",
    "\n",
    "def check(dict1, key, value):\n",
    "    if key in dict1 and dict1[key] == value:\n",
    "        return True\n",
    "    else:\n",
    "        return False\n",
    "\n",
    "my_dict = {'a': 1, 'b': 2, 'c': 3}\n",
    "result = check(my_dict, 'b', 2)\n",
    "print(result)"
   ]
  },
  {
   "cell_type": "code",
   "execution_count": 131,
   "id": "bcd23e01",
   "metadata": {},
   "outputs": [
    {
     "name": "stdout",
     "output_type": "stream",
     "text": [
      "{'a': 10, 'b': 25, 'c': 45, 'd': 25}\n"
     ]
    }
   ],
   "source": [
    "# 66.Write a Python program to combine two dictionary adding values for common keys\n",
    "\n",
    "def combine(dict1, dict2):\n",
    "    combined_dict = dict1.copy()\n",
    "\n",
    "    for key, value in dict2.items():\n",
    "        if key in combined_dict:\n",
    "            combined_dict[key] += value\n",
    "        else:\n",
    "            combined_dict[key] = value\n",
    "\n",
    "    return combined_dict\n",
    "\n",
    "# Example usage\n",
    "dict1 = {'a': 10, 'b': 20, 'c': 30}\n",
    "dict2 = {'b': 5, 'c': 15, 'd': 25}\n",
    "combined_dict = combine(dict1, dict2)\n",
    "print(combined_dict)"
   ]
  },
  {
   "cell_type": "code",
   "execution_count": 132,
   "id": "c17e73a1",
   "metadata": {},
   "outputs": [
    {
     "name": "stdout",
     "output_type": "stream",
     "text": [
      "11\n"
     ]
    }
   ],
   "source": [
    "# 67. Write a Python program to get the total length of all values of a given dictionary with string values\n",
    "\n",
    "def len1(dict1):\n",
    "    total_length = 0\n",
    "    for value in dict1.values():\n",
    "        if isinstance(value, str):\n",
    "            total_length += len(value)\n",
    "    return total_length\n",
    "\n",
    "# Example usage\n",
    "my_dict = {'a': 'kk', 'b': 'csk', 'c': 'Python'}\n",
    "result = len1(my_dict)\n",
    "print(result)"
   ]
  },
  {
   "cell_type": "code",
   "execution_count": 133,
   "id": "99b49a2a",
   "metadata": {},
   "outputs": [
    {
     "name": "stdout",
     "output_type": "stream",
     "text": [
      "[('a', 1), ('b', 2), ('c', 3)]\n"
     ]
    }
   ],
   "source": [
    "# 68. Write a Python program to create a key-value list pairing in a given dictionary.\n",
    "\n",
    "def pair(dict1):\n",
    "    paired_list = [(key, value) for key, value in dict1.items()]\n",
    "    return paired_list\n",
    "\n",
    "# Example usage\n",
    "my_dict = {'a': 1, 'b': 2, 'c': 3}\n",
    "result_list = pair(my_dict)\n",
    "print(result_list)"
   ]
  },
  {
   "cell_type": "code",
   "execution_count": 134,
   "id": "236f6612",
   "metadata": {},
   "outputs": [
    {
     "name": "stdout",
     "output_type": "stream",
     "text": [
      "{'a': [1], 'b': [2], 'c': [3]}\n"
     ]
    }
   ],
   "source": [
    "# 69. Write a Python program to convert a given list of lists to a dictionary.\n",
    "\n",
    "def list_to_dict(lst):\n",
    "    dict1 = {}\n",
    "    for sublist in lst:\n",
    "        key = sublist[0]\n",
    "        value = sublist[1:]\n",
    "        dict1[key] = value\n",
    "    return dict1\n",
    "\n",
    "# Example usage\n",
    "my_list = [['a', 1], ['b', 2], ['c', 3]]\n",
    "result_dict = list_to_dict(my_list)\n",
    "print(result_dict)"
   ]
  },
  {
   "cell_type": "code",
   "execution_count": 136,
   "id": "84874307",
   "metadata": {},
   "outputs": [
    {
     "name": "stdout",
     "output_type": "stream",
     "text": [
      "[[1, 2], [10, 20]]\n"
     ]
    }
   ],
   "source": [
    "# 70. Write a Python program to extract values from a given dictionaries and create a list of lists from those values.\n",
    "\n",
    "def extract_val(dict1):\n",
    "    result_list = []\n",
    "    for dict1 in dict1:\n",
    "        values = list(dict1.values())\n",
    "        result_list.append(values)\n",
    "    return result_list\n",
    "\n",
    "\n",
    "my_d = [{'a': 1, 'b': 2}, {'x': 10, 'y': 20}]\n",
    "result_list = extract_val(my_d)\n",
    "print(result_list)"
   ]
  },
  {
   "cell_type": "code",
   "execution_count": 137,
   "id": "6c8534c9",
   "metadata": {},
   "outputs": [
    {
     "name": "stdout",
     "output_type": "stream",
     "text": [
      "Counter({1: 2, 2: 2, 3: 1})\n"
     ]
    }
   ],
   "source": [
    "# 71. Write a Python program to count the frequency in a given dictionary.\n",
    "\n",
    "from collections import Counter\n",
    "\n",
    "def count_freq(dict1):\n",
    "    freq = Counter(dict1.values())\n",
    "    return freq\n",
    "\n",
    "# Example usage\n",
    "my_dict = {'a': 1, 'b': 2, 'c': 1, 'd': 3, 'e': 2}\n",
    "result_frequency = count_freq(my_dict)\n",
    "print(result_frequency)"
   ]
  },
  {
   "cell_type": "code",
   "execution_count": 139,
   "id": "ec6568b2",
   "metadata": {},
   "outputs": [
    {
     "name": "stdout",
     "output_type": "stream",
     "text": [
      "[50, 40, 30]\n"
     ]
    }
   ],
   "source": [
    "# 72. Write a Python program to find the specified number of maximum values in a given dictionary.\n",
    " \n",
    "def find_max(dict1, num):\n",
    "    sorted_values = sorted(dict1.values(), reverse=True)\n",
    "    max_values = sorted_values[:num]\n",
    "    return max_values\n",
    "\n",
    "# Example usage\n",
    "my_dict = {'a': 10, 'b': 20, 'c': 30, 'd': 40, 'e': 50}\n",
    "result_max_values = find_max(my_dict, 3)\n",
    "print(result_max_values)"
   ]
  },
  {
   "cell_type": "code",
   "execution_count": 140,
   "id": "960fdb94",
   "metadata": {},
   "outputs": [
    {
     "name": "stdout",
     "output_type": "stream",
     "text": [
      "[(('a', 1), ('b', 2)), (('a', 1), ('c', 3)), (('b', 2), ('c', 3))]\n"
     ]
    }
   ],
   "source": [
    "# 73.Write a Python program to get all combinations of key-value pairs in a given dictionary.\n",
    "\n",
    "from itertools import combinations\n",
    "\n",
    "def get_comb(dict1):\n",
    "    comb = list(combinations(dict1.items(), 2))\n",
    "    return comb\n",
    "\n",
    "# Example usage\n",
    "my_dict = {'a': 1, 'b': 2, 'c': 3}\n",
    "result_combinations = get_comb(my_dict)\n",
    "print(result_combinations)"
   ]
  },
  {
   "cell_type": "code",
   "execution_count": 141,
   "id": "4715b957",
   "metadata": {},
   "outputs": [
    {
     "name": "stdout",
     "output_type": "stream",
     "text": [
      "{'b': 2, 'd': 4}\n"
     ]
    }
   ],
   "source": [
    "# 74.Write a Python program to filter even numbers from a given dictionary values.\n",
    "\n",
    "def filter_evn(dict1):\n",
    "    filtered_dict = {}\n",
    "    for key, value in dict1.items():\n",
    "        if isinstance(value, int) and value % 2 == 0:\n",
    "            filtered_dict[key] = value\n",
    "    return filtered_dict\n",
    "\n",
    "# Example usage\n",
    "my_dict = {'a': 1, 'b': 2, 'c': 3, 'd': 4, 'e': 5}\n",
    "filtered_dict = filter_evn(my_dict)\n",
    "print(filtered_dict)"
   ]
  },
  {
   "cell_type": "code",
   "execution_count": 143,
   "id": "3396bb1b",
   "metadata": {},
   "outputs": [],
   "source": [
    "# 75. Write a Python program to store a given dictionary in a json file\n",
    "\n",
    "import json\n",
    "\n",
    "def store_jsn( dict1, filename):\n",
    "    with open(filename, 'w') as file:\n",
    "        json.dump(dict1, file)\n",
    "\n",
    "# Example usage\n",
    "my_dict = {'name': 'p', 'age': 30, 'city': 'latur'}\n",
    "store_jsn(my_dict, 'data.json')"
   ]
  },
  {
   "cell_type": "code",
   "execution_count": 144,
   "id": "0e116b70",
   "metadata": {},
   "outputs": [
    {
     "name": "stdout",
     "output_type": "stream",
     "text": [
      "['a']\n"
     ]
    }
   ],
   "source": [
    "# 76. Write a Python program to match key values in two dictionaries.\n",
    "\n",
    "def match_key(dict1, dict2):\n",
    "    matching_keys = []\n",
    "    for key in dict1:\n",
    "        if key in dict2 and dict1[key] == dict2[key]:\n",
    "            matching_keys.append(key)\n",
    "    return matching_keys\n",
    "\n",
    "\n",
    "dict1 = {'a': 1, 'b': 2, 'c': 3}\n",
    "dict2 = {'a': 1, 'b': 5, 'd': 4}\n",
    "matching_keys = match_key(dict1, dict2)\n",
    "print(matching_keys)"
   ]
  },
  {
   "cell_type": "code",
   "execution_count": 145,
   "id": "d1a96479",
   "metadata": {},
   "outputs": [
    {
     "ename": "TypeError",
     "evalue": "'int' object is not callable",
     "output_type": "error",
     "traceback": [
      "\u001b[1;31m---------------------------------------------------------------------------\u001b[0m",
      "\u001b[1;31mTypeError\u001b[0m                                 Traceback (most recent call last)",
      "Cell \u001b[1;32mIn[145], line 12\u001b[0m\n\u001b[0;32m     10\u001b[0m \u001b[38;5;66;03m# Example usage\u001b[39;00m\n\u001b[0;32m     11\u001b[0m my_dict \u001b[38;5;241m=\u001b[39m {\u001b[38;5;124m'\u001b[39m\u001b[38;5;124ma\u001b[39m\u001b[38;5;124m'\u001b[39m: \u001b[38;5;241m10\u001b[39m, \u001b[38;5;124m'\u001b[39m\u001b[38;5;124mb\u001b[39m\u001b[38;5;124m'\u001b[39m: \u001b[38;5;241m15\u001b[39m, \u001b[38;5;124m'\u001b[39m\u001b[38;5;124mc\u001b[39m\u001b[38;5;124m'\u001b[39m: \u001b[38;5;241m20\u001b[39m}\n\u001b[1;32m---> 12\u001b[0m updated_dict \u001b[38;5;241m=\u001b[39m \u001b[43mreplace\u001b[49m\u001b[43m(\u001b[49m\u001b[43mmy_dict\u001b[49m\u001b[43m)\u001b[49m\n\u001b[0;32m     13\u001b[0m \u001b[38;5;28mprint\u001b[39m(updated_dict)\n",
      "Cell \u001b[1;32mIn[145], line 5\u001b[0m, in \u001b[0;36mreplace\u001b[1;34m(dict1)\u001b[0m\n\u001b[0;32m      3\u001b[0m \u001b[38;5;28;01mdef\u001b[39;00m \u001b[38;5;21mreplace\u001b[39m(dict1):\n\u001b[0;32m      4\u001b[0m     values \u001b[38;5;241m=\u001b[39m \u001b[38;5;28mlist\u001b[39m(dict1\u001b[38;5;241m.\u001b[39mvalues())\n\u001b[1;32m----> 5\u001b[0m     avg \u001b[38;5;241m=\u001b[39m \u001b[38;5;28;43msum\u001b[39;49m\u001b[43m(\u001b[49m\u001b[43mvalues\u001b[49m\u001b[43m)\u001b[49m \u001b[38;5;241m/\u001b[39m \u001b[38;5;28mlen\u001b[39m(values)\n\u001b[0;32m      6\u001b[0m     \u001b[38;5;28;01mfor\u001b[39;00m key \u001b[38;5;129;01min\u001b[39;00m dict1:\n\u001b[0;32m      7\u001b[0m         dict1[key] \u001b[38;5;241m=\u001b[39m avg\n",
      "\u001b[1;31mTypeError\u001b[0m: 'int' object is not callable"
     ]
    }
   ],
   "source": [
    "# 77. Write a Python program to replace dictionary values with their average.\n",
    "\n",
    "def replace(dict1):\n",
    "    values = list(dict1.values())\n",
    "    avg = sum(values) / len(values)\n",
    "    for key in dict1:\n",
    "        dict1[key] = avg\n",
    "    return dict1\n",
    "\n",
    "my_dict = {'a': 10, 'b': 15, 'c': 20}\n",
    "updated_dict = replace(my_dict)\n",
    "print(updated_dict)"
   ]
  },
  {
   "cell_type": "code",
   "execution_count": 147,
   "id": "0b60558a",
   "metadata": {},
   "outputs": [
    {
     "name": "stdout",
     "output_type": "stream",
     "text": [
      "{'p': 1, 'y': 1, 't': 1, 'h': 1, 'o': 1, 'n': 1}\n"
     ]
    }
   ],
   "source": [
    "# 78. Write a Python program to create a dictionary from a string.\n",
    "\n",
    "def create_dict(string):\n",
    "    dictionary = {}\n",
    "    for char in string:\n",
    "        if char.isalpha():\n",
    "            dictionary[char] = string.count(char)\n",
    "    return dictionary\n",
    "\n",
    "\n",
    "my_string = \"python\"\n",
    "result_dict = create_dict(my_string)\n",
    "print(result_dict)"
   ]
  },
  {
   "cell_type": "code",
   "execution_count": 148,
   "id": "0219cbee",
   "metadata": {},
   "outputs": [
    {
     "name": "stdout",
     "output_type": "stream",
     "text": [
      "1, 2, 3, 4, 5\n"
     ]
    }
   ],
   "source": [
    "# 79.Write a Python function to convert a given list of integers into a comma-separated string.\n",
    "\n",
    "def list_to_str(lst):\n",
    "    string = ', '.join(str(num) for num in lst)\n",
    "    return string\n",
    "\n",
    "\n",
    "my_list = [1, 2, 3, 4, 5]\n",
    "result_string = list_to_str(my_list)\n",
    "print(result_string)"
   ]
  },
  {
   "cell_type": "code",
   "execution_count": 149,
   "id": "d052cd20",
   "metadata": {},
   "outputs": [
    {
     "name": "stdout",
     "output_type": "stream",
     "text": [
      "8\n",
      "1\n"
     ]
    }
   ],
   "source": [
    "# 80. Write a Python program to find the largest and smallest elements in a given list of integers.\n",
    "\n",
    "def find_larg(lst):\n",
    "    largest = max(lst)\n",
    "    smallest = min(lst)\n",
    "    return largest, smallest\n",
    "\n",
    "\n",
    "my_list = [1, 5, 2, 8, 3]\n",
    "result_largest, result_smallest = find_larg(my_list)\n",
    "print( result_largest)\n",
    "print( result_smallest)"
   ]
  },
  {
   "cell_type": "code",
   "execution_count": 150,
   "id": "e821ed27",
   "metadata": {},
   "outputs": [
    {
     "name": "stdout",
     "output_type": "stream",
     "text": [
      "15\n"
     ]
    }
   ],
   "source": [
    "# 81. Write a Python function to calculate the area of a rectangle, given its length and width.\n",
    "\n",
    "def calculate_rect(length, width):\n",
    "    area = length * width\n",
    "    return area\n",
    "\n",
    "length = 5\n",
    "width = 3\n",
    "result_area = calculate_rect(length, width)\n",
    "print( result_area)"
   ]
  },
  {
   "cell_type": "code",
   "execution_count": 151,
   "id": "d0707ea2",
   "metadata": {},
   "outputs": [
    {
     "name": "stdout",
     "output_type": "stream",
     "text": [
      "2\n"
     ]
    }
   ],
   "source": [
    "# 82.Write a Python program to count the number of vowels in a given string.\n",
    "\n",
    "def count_vow(string):\n",
    "    vowels = 'aeiou'\n",
    "    count = 0\n",
    "    for char in string:\n",
    "        if char.lower() in vowels:\n",
    "            count += 1\n",
    "    return count\n",
    "\n",
    "my_string = 'python pro'\n",
    "result_count = count_vow(my_string)\n",
    "print( result_count)"
   ]
  },
  {
   "cell_type": "code",
   "execution_count": 152,
   "id": "991e343b",
   "metadata": {},
   "outputs": [
    {
     "ename": "TypeError",
     "evalue": "'int' object is not callable",
     "output_type": "error",
     "traceback": [
      "\u001b[1;31m---------------------------------------------------------------------------\u001b[0m",
      "\u001b[1;31mTypeError\u001b[0m                                 Traceback (most recent call last)",
      "Cell \u001b[1;32mIn[152], line 11\u001b[0m\n\u001b[0;32m      8\u001b[0m         \u001b[38;5;28;01mreturn\u001b[39;00m \u001b[38;5;28;01mNone\u001b[39;00m\n\u001b[0;32m     10\u001b[0m my_list \u001b[38;5;241m=\u001b[39m [\u001b[38;5;241m1\u001b[39m, \u001b[38;5;241m2\u001b[39m, \u001b[38;5;241m3\u001b[39m, \u001b[38;5;241m4\u001b[39m, \u001b[38;5;241m5\u001b[39m]\n\u001b[1;32m---> 11\u001b[0m result_average \u001b[38;5;241m=\u001b[39m \u001b[43mcal_avg\u001b[49m\u001b[43m(\u001b[49m\u001b[43mmy_list\u001b[49m\u001b[43m)\u001b[49m\n\u001b[0;32m     12\u001b[0m \u001b[38;5;28mprint\u001b[39m( result_average)\n",
      "Cell \u001b[1;32mIn[152], line 5\u001b[0m, in \u001b[0;36mcal_avg\u001b[1;34m(lst)\u001b[0m\n\u001b[0;32m      3\u001b[0m \u001b[38;5;28;01mdef\u001b[39;00m \u001b[38;5;21mcal_avg\u001b[39m(lst):\n\u001b[0;32m      4\u001b[0m     \u001b[38;5;28;01mif\u001b[39;00m \u001b[38;5;28mlen\u001b[39m(lst) \u001b[38;5;241m>\u001b[39m \u001b[38;5;241m0\u001b[39m:\n\u001b[1;32m----> 5\u001b[0m         average \u001b[38;5;241m=\u001b[39m \u001b[38;5;28;43msum\u001b[39;49m\u001b[43m(\u001b[49m\u001b[43mlst\u001b[49m\u001b[43m)\u001b[49m \u001b[38;5;241m/\u001b[39m \u001b[38;5;28mlen\u001b[39m(lst)\n\u001b[0;32m      6\u001b[0m         \u001b[38;5;28;01mreturn\u001b[39;00m average\n\u001b[0;32m      7\u001b[0m     \u001b[38;5;28;01melse\u001b[39;00m:\n",
      "\u001b[1;31mTypeError\u001b[0m: 'int' object is not callable"
     ]
    }
   ],
   "source": [
    "# 83.Write a Python function to calculate the average of a given list of numbers.\n",
    "\n",
    "def cal_avg(lst):\n",
    "    if len(lst) > 0:\n",
    "        average = sum(lst) / len(lst)\n",
    "        return average\n",
    "    else:\n",
    "        return None\n",
    "\n",
    "my_list = [1, 2, 3, 4, 5]\n",
    "result_average = cal_avg(my_list)\n",
    "print( result_average)"
   ]
  },
  {
   "cell_type": "code",
   "execution_count": 153,
   "id": "4688ca98",
   "metadata": {},
   "outputs": [
    {
     "name": "stdout",
     "output_type": "stream",
     "text": [
      "True\n"
     ]
    }
   ],
   "source": [
    "# 84.Write a Python program to check if a given string is a valid email address.\n",
    "\n",
    "import re\n",
    "\n",
    "def is_valid_email(email):\n",
    "    pattern = r'^[\\w\\.-]+@[\\w\\.-]+\\.\\w+$'\n",
    "    if re.match(pattern, email):\n",
    "        return True\n",
    "    else:\n",
    "        return False\n",
    "\n",
    "my_email = 'khgduue@exam.com'\n",
    "result_valid = is_valid_email(my_email)\n",
    "print(result_valid)"
   ]
  },
  {
   "cell_type": "code",
   "execution_count": 154,
   "id": "f2e6a4d5",
   "metadata": {},
   "outputs": [
    {
     "name": "stdout",
     "output_type": "stream",
     "text": [
      "is a leap year\n"
     ]
    }
   ],
   "source": [
    "# 85. Write a Python function to check if a given year is a leap year\n",
    "\n",
    "def is_leap_year(year):\n",
    "    if year % 4 == 0:\n",
    "        if year % 100 == 0:\n",
    "            if year % 400 == 0:\n",
    "                return True\n",
    "            else:\n",
    "                return False\n",
    "        else:\n",
    "            return True\n",
    "    else:\n",
    "        return False\n",
    "\n",
    "\n",
    "year = 2020\n",
    "if is_leap_year(year):\n",
    "    print(\"is a leap year\")\n",
    "else:\n",
    "    print( \"not a leap year\")"
   ]
  },
  {
   "cell_type": "code",
   "execution_count": 156,
   "id": "f7bb29c9",
   "metadata": {},
   "outputs": [
    {
     "name": "stdout",
     "output_type": "stream",
     "text": [
      "120\n"
     ]
    }
   ],
   "source": [
    "# 86. Write a Python program to find the factorial of a given number using recursion.\n",
    "\n",
    "def fact(n):\n",
    "    if n == 0:\n",
    "        return 1\n",
    "    else:\n",
    "        return n * fact(n - 1)\n",
    "\n",
    "number = 5\n",
    "fact = fact(number)\n",
    "print(fact)"
   ]
  },
  {
   "cell_type": "code",
   "execution_count": 158,
   "id": "b1158408",
   "metadata": {},
   "outputs": [
    {
     "name": "stdout",
     "output_type": "stream",
     "text": [
      "100\n"
     ]
    }
   ],
   "source": [
    "# 87. Write a Python function to find the sum of all odd numbers in a given range.\n",
    "\n",
    "def sum_of_odd_num(start, end):\n",
    "    total = 0\n",
    "    for number in range(start, end + 1):\n",
    "        if number % 2 != 0:\n",
    "            total += number\n",
    "    return total\n",
    "\n",
    "start_num = 1\n",
    "end_num = 20\n",
    "sum_odd = sum_of_odd_num(start_num, end_num)\n",
    "print(sum_odd)"
   ]
  },
  {
   "cell_type": "code",
   "execution_count": 159,
   "id": "f8aaccf3",
   "metadata": {},
   "outputs": [
    {
     "name": "stdout",
     "output_type": "stream",
     "text": [
      " is a palindrome\n"
     ]
    }
   ],
   "source": [
    "# 88. Write a Python program to check if a given string is a palindrome or not, without using any built-in functions.\n",
    "\n",
    "def is_palindrome(string):\n",
    "    length = len(string)\n",
    "    for i in range(length // 2):\n",
    "        if string[i] != string[length - i - 1]:\n",
    "            return False\n",
    "    return True\n",
    "\n",
    "\n",
    "my_string = \"mmm\"\n",
    "if is_palindrome(my_string):\n",
    "    print(\" is a palindrome\")\n",
    "else:\n",
    "    print(\" is not a palindrome\")\n"
   ]
  },
  {
   "cell_type": "code",
   "execution_count": 160,
   "id": "f20a2500",
   "metadata": {},
   "outputs": [
    {
     "name": "stdout",
     "output_type": "stream",
     "text": [
      "[5, 4, 3, 2, 1]\n"
     ]
    }
   ],
   "source": [
    "# 89. Write a Python function to reverse a given list of integers in place.\n",
    "\n",
    "def reverse_list(lst):\n",
    "    start = 0\n",
    "    end = len(lst) - 1\n",
    "    while start < end:\n",
    "        lst[start], lst[end] = lst[end], lst[start]\n",
    "        start += 1\n",
    "        end -= 1\n",
    "\n",
    "my_list = [1, 2, 3, 4, 5]\n",
    "reverse_list(my_list)\n",
    "print(my_list)"
   ]
  },
  {
   "cell_type": "code",
   "execution_count": 161,
   "id": "25236eab",
   "metadata": {},
   "outputs": [
    {
     "name": "stdout",
     "output_type": "stream",
     "text": [
      "4\n"
     ]
    }
   ],
   "source": [
    "# 90. Write a Python program to find the second smallest element in a given list of integers.\n",
    "\n",
    "def find_second_small(lst):\n",
    "    if len(lst) < 2:\n",
    "        return None\n",
    "    smallest = min(lst)\n",
    "    second_smallest = float('inf')\n",
    "    for num in lst:\n",
    "        if num != smallest and num < second_smallest:\n",
    "            second_smallest = num\n",
    "    return second_smallest\n",
    "\n",
    "# Example usage\n",
    "my_list = [9, 4, 2, 7, 5]\n",
    "second_smallest = find_second_small(my_list)\n",
    "print(second_smallest)"
   ]
  },
  {
   "cell_type": "code",
   "execution_count": 162,
   "id": "89708041",
   "metadata": {},
   "outputs": [
    {
     "name": "stdout",
     "output_type": "stream",
     "text": [
      "16\n"
     ]
    }
   ],
   "source": [
    "# 91. Write a Python function to calculate the perimeter of a rectangle, given its length and width.\n",
    "\n",
    "def rect_perimeter(length, width):\n",
    "    return 2 * (length + width)\n",
    "\n",
    "\n",
    "length = 5\n",
    "width = 3\n",
    "perimeter = rect_perimeter(length, width)\n",
    "print(perimeter)"
   ]
  },
  {
   "cell_type": "code",
   "execution_count": 163,
   "id": "1f78b34f",
   "metadata": {},
   "outputs": [
    {
     "name": "stdout",
     "output_type": "stream",
     "text": [
      "Hll Wrld\n"
     ]
    }
   ],
   "source": [
    "# 92.Write a Python program to remove all the vowels from a given string.\n",
    "\n",
    "def remove_vowel(string):\n",
    "    vowels = 'aeiouAEIOU'\n",
    "    string_without = ''.join(char for char in string if char not in vowels)\n",
    "    return string_without\n",
    "\n",
    "# Example usage\n",
    "my_string = 'Hello World'\n",
    "result_string = remove_vowel(my_string)\n",
    "print( result_string)"
   ]
  },
  {
   "cell_type": "code",
   "execution_count": 165,
   "id": "95a6e6a2",
   "metadata": {},
   "outputs": [
    {
     "name": "stdout",
     "output_type": "stream",
     "text": [
      "3\n"
     ]
    }
   ],
   "source": [
    "# 93.Write a Python function to calculate the median of a given list of numbers.\n",
    "\n",
    "import statistics\n",
    "\n",
    "def median(lst):\n",
    "    median = statistics.median(lst)\n",
    "    return median\n",
    "\n",
    "my_list = [1, 2, 3, 4, 5]\n",
    "result_median = median(my_list)\n",
    "print( result_median)"
   ]
  },
  {
   "cell_type": "code",
   "execution_count": 166,
   "id": "148b914a",
   "metadata": {},
   "outputs": [
    {
     "name": "stdout",
     "output_type": "stream",
     "text": [
      "Valid: True\n"
     ]
    }
   ],
   "source": [
    "# 94.Write a Python program to check if a given string is a valid URL.\n",
    "\n",
    "import re\n",
    "\n",
    "def is_valid_url(url):\n",
    "    pattern = r'^https?://(?:[a-zA-Z]|[0-9]|[$-_@.&+]|[!*\\\\(\\\\),]|(?:%[0-9a-fA-F][0-9a-fA-F]))+$'\n",
    "    if re.match(pattern, url):\n",
    "        return True\n",
    "    else:\n",
    "        return False\n",
    "\n",
    "\n",
    "my_url = 'https://www.amazon.com'\n",
    "result_valid = is_valid_url(my_url)\n",
    "print( result_valid)"
   ]
  },
  {
   "cell_type": "code",
   "execution_count": 167,
   "id": "33955a95",
   "metadata": {},
   "outputs": [
    {
     "name": "stdout",
     "output_type": "stream",
     "text": [
      "True\n"
     ]
    }
   ],
   "source": [
    "# 95. Write a Python function to check if a given number is a perfect square\n",
    "\n",
    "import math\n",
    "\n",
    "def is_perfect_square(num):\n",
    "    sqrt = math.sqrt(num)\n",
    "    if sqrt.is_integer():\n",
    "        return True\n",
    "    else:\n",
    "        return False\n",
    "\n",
    "# Example usage\n",
    "my_number = 16\n",
    "perfect_square = is_perfect_square(my_number)\n",
    "print(perfect_square)"
   ]
  },
  {
   "cell_type": "code",
   "execution_count": 168,
   "id": "631abbb0",
   "metadata": {},
   "outputs": [
    {
     "name": "stdout",
     "output_type": "stream",
     "text": [
      "120\n"
     ]
    }
   ],
   "source": [
    "# 96. Write a Python function to calculate the factorial of a number.\n",
    "\n",
    "def factorial(number):\n",
    "    fact = 1\n",
    "    for i in range(1, number + 1):\n",
    "        fact *= i\n",
    "    return fact\n",
    "\n",
    "my_number = 5\n",
    "result_factorial = factorial(my_number)\n",
    "print( result_factorial)"
   ]
  },
  {
   "cell_type": "code",
   "execution_count": 169,
   "id": "70764b03",
   "metadata": {},
   "outputs": [
    {
     "name": "stdout",
     "output_type": "stream",
     "text": [
      "True\n"
     ]
    }
   ],
   "source": [
    "# 97. Write a Python program to check if a given number is prime or not\n",
    "\n",
    "def is_prime(num):\n",
    "    if num < 2:\n",
    "        return False\n",
    "    for i in range(2, int(num**0.5) + 1):\n",
    "        if number % i == 0:\n",
    "            return False\n",
    "    return True\n",
    "\n",
    "\n",
    "my_number = 7\n",
    "result_prime = is_prime(my_number)\n",
    "print( result_prime)"
   ]
  },
  {
   "cell_type": "code",
   "execution_count": 170,
   "id": "a7de7fba",
   "metadata": {},
   "outputs": [
    {
     "name": "stdout",
     "output_type": "stream",
     "text": [
      "nohtyp ,olleH\n"
     ]
    }
   ],
   "source": [
    "# 98. Write a Python function to reverse a string.\n",
    "\n",
    "def reverse_str(string):\n",
    "    return string[::-1]\n",
    "\n",
    "# Example usage\n",
    "my_string = \"Hello, python\"\n",
    "reversed_string = reverse_str(my_string)\n",
    "print(reversed_string)"
   ]
  },
  {
   "cell_type": "code",
   "execution_count": 171,
   "id": "743e4c47",
   "metadata": {},
   "outputs": [
    {
     "name": "stdout",
     "output_type": "stream",
     "text": [
      "15\n"
     ]
    }
   ],
   "source": [
    "# 99. Write a Python program to find the sum of all the numbers in a list.\n",
    "\n",
    "def sum_of_num(numbers):\n",
    "    total = 0\n",
    "    for num in numbers:\n",
    "        total += num\n",
    "    return total\n",
    "\n",
    "my_list = [1, 2, 3, 4, 5]\n",
    "sum_numbers = sum_of_num(my_list)\n",
    "print(sum_numbers)"
   ]
  },
  {
   "cell_type": "code",
   "execution_count": 172,
   "id": "5866d66a",
   "metadata": {},
   "outputs": [
    {
     "name": "stdout",
     "output_type": "stream",
     "text": [
      " is a palindrome\n"
     ]
    }
   ],
   "source": [
    "# 100. Write a Python function to check if a given string is a palindrome or not.\n",
    "\n",
    "def is_palindrome(string):\n",
    "    reversed_string = string[::-1]\n",
    "    if string == reversed_string:\n",
    "        return True\n",
    "    else:\n",
    "        return False\n",
    "\n",
    "my_string = \"madam\"\n",
    "if is_palindrome(my_string):\n",
    "    print(\" is a palindrome\")\n",
    "else:\n",
    "    print(\"is not a palindrome\")"
   ]
  },
  {
   "cell_type": "code",
   "execution_count": 173,
   "id": "09b37387",
   "metadata": {},
   "outputs": [
    {
     "name": "stdout",
     "output_type": "stream",
     "text": [
      "[2, 4, 5, 7, 9]\n"
     ]
    }
   ],
   "source": [
    "# 101. Write a Python program to sort a list of integers in ascending order.\n",
    "\n",
    "def sort_list(lst):\n",
    "    return sorted(lst)\n",
    "\n",
    "my_list = [9, 4, 2, 7, 5]\n",
    "sorted_list = sort_list(my_list)\n",
    "print(sorted_list)"
   ]
  },
  {
   "cell_type": "code",
   "execution_count": 174,
   "id": "2fa6a80a",
   "metadata": {},
   "outputs": [
    {
     "name": "stdout",
     "output_type": "stream",
     "text": [
      "10\n",
      "2\n"
     ]
    }
   ],
   "source": [
    "# 102. Write a Python function to find the maximum and minimum values in a list.\n",
    "\n",
    "def find_max_min(lst):\n",
    "    if len(lst) == 0:\n",
    "        return None, None\n",
    "    maximum = max(lst)\n",
    "    minimum = min(lst)\n",
    "    return maximum, minimum\n",
    "\n",
    "# Example usage\n",
    "my_list = [10, 4, 2, 7, 5]\n",
    "max_value, min_value = find_max_min(my_list)\n",
    "print(max_value)\n",
    "print(min_value)"
   ]
  },
  {
   "cell_type": "code",
   "execution_count": 176,
   "id": "d50f3f37",
   "metadata": {},
   "outputs": [
    {
     "name": "stdout",
     "output_type": "stream",
     "text": [
      "[1, 2, 3, 4, 5]\n"
     ]
    }
   ],
   "source": [
    "# 103. Write a Python program to remove duplicate values from a list.\n",
    "\n",
    "def remove_dupli(lst):\n",
    "    return list(set(lst))\n",
    "\n",
    "\n",
    "my_list = [1, 2, 3, 2, 4, 1, 5]\n",
    "unique_list = remove_dupli(my_list)\n",
    "print(unique_list)"
   ]
  },
  {
   "cell_type": "code",
   "execution_count": 177,
   "id": "fecb944a",
   "metadata": {},
   "outputs": [
    {
     "name": "stdout",
     "output_type": "stream",
     "text": [
      "86.0\n"
     ]
    }
   ],
   "source": [
    "# 104. Write a Python function to convert Celsius to Fahrenheit.\n",
    "\n",
    "def celsius_to_fahre(celsius):\n",
    "    fahrenheit = (celsius * 9/5) + 32\n",
    "    return fahrenheit\n",
    "\n",
    "celsius = 30\n",
    "fahrenheit = celsius_to_fahre(celsius)\n",
    "print( fahrenheit)"
   ]
  },
  {
   "cell_type": "code",
   "execution_count": 180,
   "id": "029d70f3",
   "metadata": {},
   "outputs": [
    {
     "name": "stdout",
     "output_type": "stream",
     "text": [
      "Second largest: 5\n"
     ]
    }
   ],
   "source": [
    "# 105.Write a Python program to find the second largest number in a list.\n",
    "\n",
    "def find_second_largest(numbers):\n",
    "    if len(numbers) < 2:\n",
    "        return None\n",
    "    largest = float('-inf')\n",
    "    second_largest = float('-inf')\n",
    "    for num in numbers:\n",
    "        if num > largest:\n",
    "            second_largest = largest\n",
    "            largest = num\n",
    "        elif num > second_largest and num != largest:\n",
    "            second_largest = num\n",
    "    if second_largest == float('-inf'):\n",
    "        return None\n",
    "    return second_largest\n",
    "\n",
    "# Example usage\n",
    "my_list = [1, 5, 2, 8, 3]\n",
    "second_largest = find_second_largest(my_list)\n",
    "print(\"Second largest:\", second_largest)\n"
   ]
  },
  {
   "cell_type": "code",
   "execution_count": null,
   "id": "c7f5c69e",
   "metadata": {},
   "outputs": [],
   "source": []
  }
 ],
 "metadata": {
  "kernelspec": {
   "display_name": "Python 3 (ipykernel)",
   "language": "python",
   "name": "python3"
  },
  "language_info": {
   "codemirror_mode": {
    "name": "ipython",
    "version": 3
   },
   "file_extension": ".py",
   "mimetype": "text/x-python",
   "name": "python",
   "nbconvert_exporter": "python",
   "pygments_lexer": "ipython3",
   "version": "3.10.9"
  }
 },
 "nbformat": 4,
 "nbformat_minor": 5
}
