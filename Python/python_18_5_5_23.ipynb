{
 "cells": [
  {
   "cell_type": "code",
   "execution_count": null,
   "id": "469e40af",
   "metadata": {},
   "outputs": [],
   "source": []
  },
  {
   "cell_type": "code",
   "execution_count": null,
   "id": "a1783220",
   "metadata": {},
   "outputs": [],
   "source": [
    "###1. Write a Python function to perform a depth-first search traversal on a graph"
   ]
  },
  {
   "cell_type": "code",
   "execution_count": null,
   "id": "107df9c9",
   "metadata": {},
   "outputs": [],
   "source": []
  },
  {
   "cell_type": "code",
   "execution_count": null,
   "id": "dede3c8b",
   "metadata": {},
   "outputs": [],
   "source": [
    "### 2.Write a Python program to check if a given string is a valid palindrome, ignoring non-alphanumeric characters."
   ]
  },
  {
   "cell_type": "code",
   "execution_count": 1,
   "id": "55675de8",
   "metadata": {},
   "outputs": [
    {
     "name": "stdout",
     "output_type": "stream",
     "text": [
      "yes\n"
     ]
    }
   ],
   "source": [
    "s='ppp'\n",
    "if s==s[::-1]:\n",
    "    print('yes')\n",
    "else:\n",
    "    print('no')"
   ]
  },
  {
   "cell_type": "code",
   "execution_count": null,
   "id": "d446ebc5",
   "metadata": {},
   "outputs": [],
   "source": [
    "### 3. Write a Python function to find the largest element in a given binary tree."
   ]
  },
  {
   "cell_type": "code",
   "execution_count": 6,
   "id": "1e001a30",
   "metadata": {},
   "outputs": [
    {
     "name": "stdout",
     "output_type": "stream",
     "text": [
      "1\n",
      "2\n",
      "3\n",
      "4\n"
     ]
    }
   ],
   "source": [
    "### 4. Write a Python program to remove all the occurrences of a given element from a list.\n",
    "l=[1,2,3,4,6,6]\n",
    "t=6\n",
    "for i in l:\n",
    "    if i!=t:\n",
    "        print(i)\n",
    "\n"
   ]
  },
  {
   "cell_type": "code",
   "execution_count": null,
   "id": "f5d8f698",
   "metadata": {},
   "outputs": [],
   "source": [
    "## 5 Write a Python function to implement a queue using a list."
   ]
  },
  {
   "cell_type": "code",
   "execution_count": null,
   "id": "4d2796f1",
   "metadata": {},
   "outputs": [],
   "source": []
  },
  {
   "cell_type": "code",
   "execution_count": null,
   "id": "2118b338",
   "metadata": {},
   "outputs": [],
   "source": [
    "### 6.Write a Python program to find the k-th smallest element in a given array of integers."
   ]
  },
  {
   "cell_type": "code",
   "execution_count": 10,
   "id": "d2d015bf",
   "metadata": {},
   "outputs": [
    {
     "name": "stdout",
     "output_type": "stream",
     "text": [
      "2\n"
     ]
    }
   ],
   "source": [
    "arr=[1,2,3,4,7,8]\n",
    "def small(arr,k):\n",
    "    arr.sort()\n",
    "    return (arr[k-1])\n",
    "s=small(arr,2)\n",
    "print(s)"
   ]
  },
  {
   "cell_type": "code",
   "execution_count": null,
   "id": "3066702a",
   "metadata": {},
   "outputs": [],
   "source": [
    "### 7. Write a Python function to implement a bubble sort algorithm"
   ]
  },
  {
   "cell_type": "code",
   "execution_count": null,
   "id": "f953bd30",
   "metadata": {},
   "outputs": [],
   "source": []
  },
  {
   "cell_type": "code",
   "execution_count": null,
   "id": "88344d04",
   "metadata": {},
   "outputs": [],
   "source": [
    "### 8.Write a Python program to find the length of the longest common prefix among a given list of strings."
   ]
  },
  {
   "cell_type": "code",
   "execution_count": null,
   "id": "25d98c0a",
   "metadata": {},
   "outputs": [],
   "source": []
  },
  {
   "cell_type": "code",
   "execution_count": null,
   "id": "3f106d4f",
   "metadata": {},
   "outputs": [],
   "source": [
    "### 9.Write a Python function to reverse the order of words in a given sentence."
   ]
  },
  {
   "cell_type": "code",
   "execution_count": 13,
   "id": "d15d6132",
   "metadata": {},
   "outputs": [
    {
     "name": "stdout",
     "output_type": "stream",
     "text": [
      "pri is name my\n"
     ]
    }
   ],
   "source": [
    "def rev(sen):\n",
    "    word=sen.split()\n",
    "    word=word[::-1]\n",
    "    rev=\" \".join(word)\n",
    "    return rev\n",
    "r='my name is pri'\n",
    "print(rev(r))"
   ]
  },
  {
   "cell_type": "code",
   "execution_count": 11,
   "id": "782d5c73",
   "metadata": {},
   "outputs": [
    {
     "name": "stdout",
     "output_type": "stream",
     "text": [
      "201\n"
     ]
    }
   ],
   "source": [
    "### 10.Write a Python program to find the sum of two binary numbers represented as strings.\n",
    "b='101'\n",
    "c='100'\n",
    "d=int(b)+int(c)\n",
    "print(d)"
   ]
  },
  {
   "cell_type": "code",
   "execution_count": null,
   "id": "4d8ad847",
   "metadata": {},
   "outputs": [],
   "source": [
    "### 11. Write a Python function to check if a given linked list is a palindrome"
   ]
  },
  {
   "cell_type": "code",
   "execution_count": null,
   "id": "45ace539",
   "metadata": {},
   "outputs": [],
   "source": []
  }
 ],
 "metadata": {
  "kernelspec": {
   "display_name": "Python 3 (ipykernel)",
   "language": "python",
   "name": "python3"
  },
  "language_info": {
   "codemirror_mode": {
    "name": "ipython",
    "version": 3
   },
   "file_extension": ".py",
   "mimetype": "text/x-python",
   "name": "python",
   "nbconvert_exporter": "python",
   "pygments_lexer": "ipython3",
   "version": "3.10.9"
  }
 },
 "nbformat": 4,
 "nbformat_minor": 5
}
