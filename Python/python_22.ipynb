{
 "cells": [
  {
   "cell_type": "code",
   "execution_count": 1,
   "id": "6f6d9efb",
   "metadata": {},
   "outputs": [],
   "source": [
    "import numpy as np"
   ]
  },
  {
   "cell_type": "markdown",
   "id": "d9d51b23",
   "metadata": {},
   "source": [
    "### 1.Write a NumPy program to remove the leading and trailing whitespaces of all the elements of a given array."
   ]
  },
  {
   "cell_type": "code",
   "execution_count": 4,
   "id": "22271dae",
   "metadata": {},
   "outputs": [
    {
     "name": "stdout",
     "output_type": "stream",
     "text": [
      "['priya' 'latur' 'k']\n"
     ]
    }
   ],
   "source": [
    "n=np.array(['priya','latur ','  k'])\n",
    "t=np.char.strip(n)\n",
    "print(t)"
   ]
  },
  {
   "cell_type": "code",
   "execution_count": 7,
   "id": "6b17c1cf",
   "metadata": {},
   "outputs": [],
   "source": [
    "import pandas as pd"
   ]
  },
  {
   "cell_type": "markdown",
   "id": "2f923da2",
   "metadata": {},
   "source": [
    "### 2.Write a NumPy program to find the most frequent value in an array."
   ]
  },
  {
   "cell_type": "code",
   "execution_count": 10,
   "id": "7e627776",
   "metadata": {},
   "outputs": [
    {
     "name": "stdout",
     "output_type": "stream",
     "text": [
      "3\n"
     ]
    }
   ],
   "source": [
    "s=np.array([1,2,3,3,3,4])\n",
    "k=pd.Series(s).mode()[0]\n",
    "print(k)"
   ]
  },
  {
   "cell_type": "code",
   "execution_count": 28,
   "id": "a3693169",
   "metadata": {},
   "outputs": [
    {
     "name": "stdout",
     "output_type": "stream",
     "text": [
      "None\n"
     ]
    }
   ],
   "source": [
    "def find(arr):\n",
    "    count = {}\n",
    "    for i in arr:\n",
    "        if i in count:\n",
    "            count[i] += 1\n",
    "        else:\n",
    "            count[i] = 1\n",
    "\n",
    "    max_count = 0\n",
    "arr=([1,2,3,3,4])\n",
    "s=find(arr)\n",
    "print(s)"
   ]
  },
  {
   "cell_type": "markdown",
   "id": "cf639a97",
   "metadata": {},
   "source": [
    "### 3.Write a NumPy program to convert cartesian coordinates to polar coordinates of a random 10x2 matrix representing cartesian coordinates"
   ]
  },
  {
   "cell_type": "code",
   "execution_count": 30,
   "id": "62a383d1",
   "metadata": {},
   "outputs": [
    {
     "name": "stdout",
     "output_type": "stream",
     "text": [
      "[[1 4]\n",
      " [2 0]\n",
      " [2 1]\n",
      " [4 1]\n",
      " [0 0]]\n",
      "[4.12310563 2.         2.23606798 4.12310563 0.        ]\n"
     ]
    }
   ],
   "source": [
    "matrix = np.random.randint(5, size=(5, 2))\n",
    "\n",
    "print(matrix)\n",
    "\n",
    "x, y = matrix[:, 0],matrix[:, 1]\n",
    "r = np.sqrt(x**2 + y**2)\n",
    "print(r)"
   ]
  },
  {
   "cell_type": "markdown",
   "id": "682cf5c4",
   "metadata": {},
   "source": [
    "### 4.Write a NumPy program to check two random arrays are equal or not."
   ]
  },
  {
   "cell_type": "code",
   "execution_count": 16,
   "id": "c7648061",
   "metadata": {},
   "outputs": [
    {
     "name": "stdout",
     "output_type": "stream",
     "text": [
      "no\n"
     ]
    }
   ],
   "source": [
    "n=np.array([1,2,3,4])\n",
    "t=np.array([1,2,3,4,5])\n",
    "if len(n)==len(t):\n",
    "    print('equal')\n",
    "else:\n",
    "    print('no')"
   ]
  },
  {
   "cell_type": "code",
   "execution_count": 19,
   "id": "d4c21c2b",
   "metadata": {},
   "outputs": [
    {
     "name": "stdout",
     "output_type": "stream",
     "text": [
      "equal\n"
     ]
    }
   ],
   "source": [
    "s=np.random.rand(10,2)\n",
    "z=np.random.rand(10,2)\n",
    "if len(s)==len(z):\n",
    "    print('equal')\n",
    "else:\n",
    "    print('no')"
   ]
  },
  {
   "cell_type": "code",
   "execution_count": 22,
   "id": "df995837",
   "metadata": {},
   "outputs": [
    {
     "name": "stdout",
     "output_type": "stream",
     "text": [
      "no\n"
     ]
    }
   ],
   "source": [
    "s=np.random.rand(10,2)\n",
    "z=np.random.rand(10,2)\n",
    "if np.array_equal(s,z):\n",
    "    print('equal')\n",
    "else:\n",
    "    print('not equal')"
   ]
  },
  {
   "cell_type": "markdown",
   "id": "77107144",
   "metadata": {},
   "source": [
    "### 5. Write a NumPy program to normalize a 3x3 random matrix"
   ]
  },
  {
   "cell_type": "code",
   "execution_count": 23,
   "id": "e8bf8795",
   "metadata": {},
   "outputs": [
    {
     "name": "stdout",
     "output_type": "stream",
     "text": [
      "[[0.89339158 0.08654444 0.64306433]\n",
      " [0.65045516 0.99673201 0.47072006]\n",
      " [0.32709808 0.30702563 0.39979912]]\n",
      "[[0.49799052 0.04824123 0.35845418]\n",
      " [0.36257394 0.5555941  0.26238677]\n",
      " [0.18232961 0.17114092 0.22285432]]\n"
     ]
    }
   ],
   "source": [
    "matrix = np.random.random((3, 3))\n",
    "print(matrix)\n",
    "\n",
    "\n",
    "n = np.linalg.norm(matrix)\n",
    "\n",
    "\n",
    "m = matrix / n\n",
    "print(m)"
   ]
  },
  {
   "cell_type": "code",
   "execution_count": null,
   "id": "0e102f3c",
   "metadata": {},
   "outputs": [],
   "source": [
    "### 6."
   ]
  },
  {
   "cell_type": "code",
   "execution_count": null,
   "id": "00d2b5da",
   "metadata": {},
   "outputs": [],
   "source": []
  },
  {
   "cell_type": "code",
   "execution_count": null,
   "id": "37295172",
   "metadata": {},
   "outputs": [],
   "source": []
  },
  {
   "cell_type": "code",
   "execution_count": null,
   "id": "e277b473",
   "metadata": {},
   "outputs": [],
   "source": []
  },
  {
   "cell_type": "code",
   "execution_count": null,
   "id": "b5c17655",
   "metadata": {},
   "outputs": [],
   "source": []
  },
  {
   "cell_type": "code",
   "execution_count": null,
   "id": "240a64ec",
   "metadata": {},
   "outputs": [],
   "source": []
  },
  {
   "cell_type": "code",
   "execution_count": null,
   "id": "9b8e7237",
   "metadata": {},
   "outputs": [],
   "source": []
  },
  {
   "cell_type": "code",
   "execution_count": null,
   "id": "70d3ff3c",
   "metadata": {},
   "outputs": [],
   "source": []
  },
  {
   "cell_type": "code",
   "execution_count": null,
   "id": "ad821347",
   "metadata": {},
   "outputs": [],
   "source": []
  },
  {
   "cell_type": "code",
   "execution_count": null,
   "id": "be9a80a3",
   "metadata": {},
   "outputs": [],
   "source": []
  }
 ],
 "metadata": {
  "kernelspec": {
   "display_name": "Python 3 (ipykernel)",
   "language": "python",
   "name": "python3"
  },
  "language_info": {
   "codemirror_mode": {
    "name": "ipython",
    "version": 3
   },
   "file_extension": ".py",
   "mimetype": "text/x-python",
   "name": "python",
   "nbconvert_exporter": "python",
   "pygments_lexer": "ipython3",
   "version": "3.10.9"
  }
 },
 "nbformat": 4,
 "nbformat_minor": 5
}
