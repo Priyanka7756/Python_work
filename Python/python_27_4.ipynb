{
 "cells": [
  {
   "cell_type": "code",
   "execution_count": null,
   "id": "a889d8ea",
   "metadata": {},
   "outputs": [],
   "source": [
    " # Write a Python program to split a list based on first character of word"
   ]
  },
  {
   "cell_type": "code",
   "execution_count": 3,
   "id": "ca7cdf6c",
   "metadata": {},
   "outputs": [
    {
     "name": "stdout",
     "output_type": "stream",
     "text": [
      "{'p': ['priya'], 'r': ['ria'], 's': ['sama'], 'c': ['city']}\n"
     ]
    }
   ],
   "source": [
    "new_lst = ['priya', 'ria', 'sama', 'city']\n",
    "def split(lst):\n",
    "  \n",
    "    result = {}\n",
    "    for item in lst:\n",
    "        key = item[0]\n",
    "        if key in result:\n",
    "            result[key].append(item)\n",
    "        else:\n",
    "            result[key] = [item]\n",
    "    return result\n",
    "\n",
    "result = split(new_lst)\n",
    "print(result)"
   ]
  },
  {
   "cell_type": "code",
   "execution_count": 4,
   "id": "505e6f02",
   "metadata": {},
   "outputs": [
    {
     "name": "stdout",
     "output_type": "stream",
     "text": [
      "{'p': ['priya'], 'r': ['ria'], 's': ['sama'], 'c': ['city']}\n"
     ]
    }
   ],
   "source": [
    "new_lst = ['priya', 'ria', 'sama', 'city']\n",
    "def split(lst):\n",
    "    result={}\n",
    "    for i in lst:\n",
    "        key=i[0]\n",
    "        if key in result:\n",
    "            result[key].append(i)\n",
    "        else:\n",
    "            result[key]=[i]\n",
    "    return result\n",
    "result=split(new_lst)\n",
    "print(result)"
   ]
  },
  {
   "cell_type": "code",
   "execution_count": null,
   "id": "52ba1e14",
   "metadata": {},
   "outputs": [],
   "source": [
    "# Write a Python program to select the odd items of a list."
   ]
  },
  {
   "cell_type": "code",
   "execution_count": 8,
   "id": "74e04f61",
   "metadata": {},
   "outputs": [
    {
     "data": {
      "text/plain": [
       "4"
      ]
     },
     "execution_count": 8,
     "metadata": {},
     "output_type": "execute_result"
    }
   ],
   "source": [
    "lst=['pria', 'ram', 'sam', 'date']\n",
    "p=len(lst)\n",
    "p"
   ]
  },
  {
   "cell_type": "code",
   "execution_count": 11,
   "id": "5f6a1560",
   "metadata": {},
   "outputs": [
    {
     "name": "stdout",
     "output_type": "stream",
     "text": [
      "ram date "
     ]
    }
   ],
   "source": [
    "lst = ['pria', 'ram', 'sam', 'date']\n",
    "\n",
    "for i in range (len(lst)):\n",
    "    if i%2!=0:\n",
    "        print(lst[i],end=' ')"
   ]
  },
  {
   "cell_type": "code",
   "execution_count": 6,
   "id": "72826eef",
   "metadata": {},
   "outputs": [
    {
     "name": "stdout",
     "output_type": "stream",
     "text": [
      "[1, 3, 5, 7, 9]\n"
     ]
    }
   ],
   "source": [
    "lst = [1, 2, 3, 4, 5, 6, 7, 8, 9, 10]\n",
    "\n",
    "\n",
    "def odd_items(lst):\n",
    "  \n",
    "    result = []\n",
    "    for item in lst:\n",
    "        if item % 2 != 0:\n",
    "            result.append(item)\n",
    "    return result\n",
    "\n",
    "result = odd_items(lst)\n",
    "print(result)"
   ]
  },
  {
   "cell_type": "code",
   "execution_count": 9,
   "id": "a416d96a",
   "metadata": {},
   "outputs": [
    {
     "name": "stdout",
     "output_type": "stream",
     "text": [
      "['ram', 'date']\n"
     ]
    }
   ],
   "source": [
    "my_list = ['pria', 'ram', 'sam', 'date']\n",
    "def odd(lst):\n",
    " \n",
    "    result = []\n",
    "    for i in range(len(lst)):\n",
    "        if i % 2 != 0:\n",
    "            result.append(lst[i])\n",
    "    return result\n",
    "result = odd(my_list)\n",
    "print(result)"
   ]
  },
  {
   "cell_type": "code",
   "execution_count": null,
   "id": "9a60489a",
   "metadata": {},
   "outputs": [],
   "source": [
    "# Write a Python program to insert an element before each element of a list"
   ]
  },
  {
   "cell_type": "code",
   "execution_count": 13,
   "id": "3c76663a",
   "metadata": {},
   "outputs": [],
   "source": [
    "list1=['priya', 'sam', 'priti']"
   ]
  },
  {
   "cell_type": "code",
   "execution_count": 20,
   "id": "31acf7ea",
   "metadata": {},
   "outputs": [
    {
     "name": "stdout",
     "output_type": "stream",
     "text": [
      "['priya', 'sam', 'priti']\n",
      "['priti', 'sam', 'priya']\n"
     ]
    }
   ],
   "source": [
    "list1.remove('ma')\n",
    "print(list1)\n",
    "list1.reverse()\n",
    "print(list1)"
   ]
  },
  {
   "cell_type": "code",
   "execution_count": 17,
   "id": "4b3abdf6",
   "metadata": {},
   "outputs": [],
   "source": [
    "list1 = ['priya', 'sam', 'priti']\n",
    "def insert(lst, ele):     \n",
    "  \n",
    "    result = []\n",
    "    for item in lst:\n",
    "        result.append(ele)\n",
    "        result.append(item)\n",
    "    return result"
   ]
  },
  {
   "cell_type": "code",
   "execution_count": 22,
   "id": "02602f1a",
   "metadata": {},
   "outputs": [
    {
     "name": "stdout",
     "output_type": "stream",
     "text": [
      "['a', 'priya', 'a', 'sam', 'a', 'priti']\n"
     ]
    }
   ],
   "source": [
    "list1=['priya', 'sam', 'priti']\n",
    "def insert(lst,ele):\n",
    "    result=[]\n",
    "    for i in lst:\n",
    "        result.append(ele)\n",
    "        result.append(i)\n",
    "    return result\n",
    "result=insert(list1,'a')\n",
    "print(result)\n"
   ]
  },
  {
   "cell_type": "code",
   "execution_count": 18,
   "id": "2afdbb04",
   "metadata": {},
   "outputs": [
    {
     "name": "stdout",
     "output_type": "stream",
     "text": [
      "['a', 'priya', 'a', 'sam', 'a', 'priti']\n"
     ]
    }
   ],
   "source": [
    "\n",
    "new_list = insert(list1, 'a')\n",
    "print(new_list)"
   ]
  },
  {
   "cell_type": "code",
   "execution_count": null,
   "id": "8dea805b",
   "metadata": {},
   "outputs": [],
   "source": [
    "# Write a Python program to convert list to list of dictionaries."
   ]
  },
  {
   "cell_type": "code",
   "execution_count": null,
   "id": "c0ed8c58",
   "metadata": {},
   "outputs": [],
   "source": [
    "# Sample_list :- [\"Black\", \"Red\", \"Maroon\", \"Yellow\"], [\"#000000\", \"#FF0000\",#800000, \"#FFFF00\"]\n",
    "# Expected_Output:- [{'color_name\": 'Black’, 'color_code': '#000000'},{'color_name': 'Red', 'color_code': '#FF0000'}, {'color_name\": 'Maroon',color_code\": '#800000'}, {'color_name': 'Yellow', 'color_code\": '#FFFFO0'}]                                                      "
   ]
  },
  {
   "cell_type": "code",
   "execution_count": 23,
   "id": "0f1bd6e6",
   "metadata": {},
   "outputs": [],
   "source": [
    "def lists_to_dict(list1, list2):\n",
    "  \n",
    "    result = []\n",
    "    for i in range(len(list1)):\n",
    "        result.append({'color_name': list1[i], 'color_code': list2[i]})\n",
    "    return result"
   ]
  },
  {
   "cell_type": "code",
   "execution_count": 24,
   "id": "7b165713",
   "metadata": {},
   "outputs": [
    {
     "name": "stdout",
     "output_type": "stream",
     "text": [
      "[{'color_name': 'Black', 'color_code': '#000000'}, {'color_name': 'Red', 'color_code': '#FF0000'}, {'color_name': 'Maroon', 'color_code': '#800000'}, {'color_name': 'Yellow', 'color_code': '#FFFF00'}]\n"
     ]
    }
   ],
   "source": [
    "names = [\"Black\", \"Red\", \"Maroon\", \"Yellow\"]\n",
    "codes = [\"#000000\", \"#FF0000\", \"#800000\", \"#FFFF00\"]\n",
    "colors = lists_to_dict(color_names, color_codes)\n",
    "print(colors)"
   ]
  },
  {
   "cell_type": "code",
   "execution_count": 26,
   "id": "2ab7a0ba",
   "metadata": {},
   "outputs": [],
   "source": [
    "def lists_to_dict(colors):\n",
    "    \n",
    "    result = []\n",
    "    for color in colors:\n",
    "        result.append({'color_name': color[0], 'color_code': color[1]})\n",
    "    return result"
   ]
  },
  {
   "cell_type": "code",
   "execution_count": 27,
   "id": "39df8432",
   "metadata": {},
   "outputs": [
    {
     "name": "stdout",
     "output_type": "stream",
     "text": [
      "[{'color_name': 'Black', 'color_code': '#000000'}, {'color_name': 'Red', 'color_code': '#FF0000'}, {'color_name': 'Maroon', 'color_code': '#800000'}, {'color_name': 'Yellow', 'color_code': '#FFFF00'}]\n"
     ]
    }
   ],
   "source": [
    "colors = [[\"Black\", \"#000000\"], [\"Red\", \"#FF0000\"], [\"Maroon\", \"#800000\"], [\"Yellow\", \"#FFFF00\"]]\n",
    "new = lists_to_dict(colors)\n",
    "print(new)"
   ]
  },
  {
   "cell_type": "code",
   "execution_count": null,
   "id": "ca780666",
   "metadata": {},
   "outputs": [],
   "source": []
  },
  {
   "cell_type": "code",
   "execution_count": 46,
   "id": "900c69b1",
   "metadata": {},
   "outputs": [],
   "source": [
    "def lists_to_dict(colors):\n",
    "    \n",
    "    result = []\n",
    "    for color in colors:\n",
    "        result.append({'color_name': color[0], 'color_code': color[1][0:]})\n",
    "    return result"
   ]
  },
  {
   "cell_type": "code",
   "execution_count": 47,
   "id": "7917b72a",
   "metadata": {},
   "outputs": [
    {
     "name": "stdout",
     "output_type": "stream",
     "text": [
      "[{'color_name': 'Black', 'color_code': 'Red'}, {'color_name': '#000000', 'color_code': '#FF0000'}]\n"
     ]
    }
   ],
   "source": [
    "colors=  [\"Black\", \"Red\", \"Maroon\", \"Yellow\"], [\"#000000\", \"#FF0000\",\"#800000\", \"#FFFF00\"]\n",
    "new=lists_to_dict(colors)\n",
    "print(new)\n"
   ]
  },
  {
   "cell_type": "code",
   "execution_count": null,
   "id": "aca90399",
   "metadata": {},
   "outputs": [],
   "source": []
  },
  {
   "cell_type": "code",
   "execution_count": null,
   "id": "b9726224",
   "metadata": {},
   "outputs": [],
   "source": []
  },
  {
   "cell_type": "code",
   "execution_count": null,
   "id": "ab7da9ca",
   "metadata": {},
   "outputs": [],
   "source": []
  },
  {
   "cell_type": "code",
   "execution_count": 48,
   "id": "72b12d49",
   "metadata": {},
   "outputs": [],
   "source": [
    "import pandas as pd"
   ]
  },
  {
   "cell_type": "code",
   "execution_count": 49,
   "id": "efae429a",
   "metadata": {},
   "outputs": [
    {
     "data": {
      "text/plain": [
       "'C:\\\\Users\\\\CITS\\\\Downloads'"
      ]
     },
     "execution_count": 49,
     "metadata": {},
     "output_type": "execute_result"
    }
   ],
   "source": [
    "pwd"
   ]
  },
  {
   "cell_type": "code",
   "execution_count": 50,
   "id": "de27d55d",
   "metadata": {},
   "outputs": [],
   "source": [
    "df=pd.read_csv(\"C:\\\\Users\\\\CITS\\\\Downloads\\\\Advertising_DataSet_ISL.csv\")"
   ]
  },
  {
   "cell_type": "code",
   "execution_count": 51,
   "id": "f084d231",
   "metadata": {},
   "outputs": [
    {
     "data": {
      "text/html": [
       "<div>\n",
       "<style scoped>\n",
       "    .dataframe tbody tr th:only-of-type {\n",
       "        vertical-align: middle;\n",
       "    }\n",
       "\n",
       "    .dataframe tbody tr th {\n",
       "        vertical-align: top;\n",
       "    }\n",
       "\n",
       "    .dataframe thead th {\n",
       "        text-align: right;\n",
       "    }\n",
       "</style>\n",
       "<table border=\"1\" class=\"dataframe\">\n",
       "  <thead>\n",
       "    <tr style=\"text-align: right;\">\n",
       "      <th></th>\n",
       "      <th>Unnamed: 0</th>\n",
       "      <th>TV</th>\n",
       "      <th>Radio</th>\n",
       "      <th>Newspaper</th>\n",
       "      <th>Sales</th>\n",
       "    </tr>\n",
       "  </thead>\n",
       "  <tbody>\n",
       "    <tr>\n",
       "      <th>0</th>\n",
       "      <td>1</td>\n",
       "      <td>230.1</td>\n",
       "      <td>37.8</td>\n",
       "      <td>69.2</td>\n",
       "      <td>22.1</td>\n",
       "    </tr>\n",
       "    <tr>\n",
       "      <th>1</th>\n",
       "      <td>2</td>\n",
       "      <td>44.5</td>\n",
       "      <td>39.3</td>\n",
       "      <td>45.1</td>\n",
       "      <td>10.4</td>\n",
       "    </tr>\n",
       "    <tr>\n",
       "      <th>2</th>\n",
       "      <td>3</td>\n",
       "      <td>17.2</td>\n",
       "      <td>45.9</td>\n",
       "      <td>69.3</td>\n",
       "      <td>9.3</td>\n",
       "    </tr>\n",
       "    <tr>\n",
       "      <th>3</th>\n",
       "      <td>4</td>\n",
       "      <td>151.5</td>\n",
       "      <td>41.3</td>\n",
       "      <td>58.5</td>\n",
       "      <td>18.5</td>\n",
       "    </tr>\n",
       "    <tr>\n",
       "      <th>4</th>\n",
       "      <td>5</td>\n",
       "      <td>180.8</td>\n",
       "      <td>10.8</td>\n",
       "      <td>58.4</td>\n",
       "      <td>12.9</td>\n",
       "    </tr>\n",
       "  </tbody>\n",
       "</table>\n",
       "</div>"
      ],
      "text/plain": [
       "   Unnamed: 0     TV  Radio  Newspaper  Sales\n",
       "0           1  230.1   37.8       69.2   22.1\n",
       "1           2   44.5   39.3       45.1   10.4\n",
       "2           3   17.2   45.9       69.3    9.3\n",
       "3           4  151.5   41.3       58.5   18.5\n",
       "4           5  180.8   10.8       58.4   12.9"
      ]
     },
     "execution_count": 51,
     "metadata": {},
     "output_type": "execute_result"
    }
   ],
   "source": [
    "df.head(5)"
   ]
  },
  {
   "cell_type": "code",
   "execution_count": 54,
   "id": "03929c8b",
   "metadata": {},
   "outputs": [],
   "source": [
    "import numpy as np\n",
    "import matplotlib.pyplot as plt\n",
    "import os"
   ]
  },
  {
   "cell_type": "code",
   "execution_count": 55,
   "id": "38c5e42d",
   "metadata": {},
   "outputs": [
    {
     "name": "stdout",
     "output_type": "stream",
     "text": [
      "['.DS_Store', '.ipynb_checkpoints', '.jovianrc', '.log', '029bafd8-3a47-4952-82a3-e778b3ad1ccd pri.jpg', '1. Calculator.docx', '1. Sample - Superstore.xls', '100+Days+of+Python+Check+Off+Posters.pdf', '11 Dec, 14.51.mp3', '111.jpg', '13 SQL Statements for 90% of Your Data Science Tasks.pdf', '16 jan 23.py', '1670652420500_Madhuri Gaikwad updated Profile dec 19.docx', '1_jiYA3NC1O3-x-80WlBy40w-sql.webp', '2) Project PPT.pptx', '27 April.sql', '2nd challange.pbix', '5- SQL Course Materials', '5. Nth Fibonacci number.docx', '559_Offer Letter_Sammed Vijay Biraje (1).pdf', \"6- What You'll Learn.vtt\", '6009ffe48bb34456fa6b3d08_5e83aa544365fa14197c5757_joey-sforza-ZB5Cy_f8NMg-unsplash.jpg', '7_leafspeciesdetection_decisiontree.py', 'Acct Statement_XX1757_08012023.pdf', 'Advertising_DataSet_ISL.csv', 'Aemf1.csv', 'Aemf1.csv.zip', 'Aemf2.csv', 'album (1).csv', 'album.csv', 'Amazom prime subscription problem.sql', 'Anaconda3-2021.11-Windows-x86_64.exe', 'Anaconda3-2023.03-Windows-x86_64.exe', 'Anova and Chisquare.ipynb', 'aOk-I4lyQcGpPiOJcqHBqw_63a2e80233374af58a75ca11ff93c7f5_Learning-Log-Template_-Consider-how-data-analysts-approach-tasks (2).docx', 'apple.txt', 'artist.csv', 'Ashley_Resume.pdf', 'ass10.sql', 'Assignment -Python 1.docx', 'Assignment 1 - Basic Python Programs (1).ipynb', 'Assignment 1 - Probability Questions.docx', 'Assignment 2 - Applying Statistics using Scipy.docx', 'Assignment 2 - Applying Statistics.pdf', 'Assignment 2 - Data Types and Functions.ipynb', 'Assignment 3 - Data Visualization using Titanic Dataset.docx', 'Assignment 4 - Data Analysis using Pandas, Matplotlib and Seaborn.docx', 'Assignment 5 - Web Scraping and Data Analysis.docx', 'assignment sql-4.sql', 'Assignment- Python 2.docx', 'Assignment-8,probability -priyanka_gaikwad.pdf', 'Assignment.zip', 'assignment1 (1).ipynb', 'assignment_mayer (1)_answer.xlsx', 'assignment_mayer.xlsx', 'Assignment_python_1.ipynb', 'Attendance Sheet 2022-2023_Masked.xlsx', 'audi a3.jpg', 'awesome-chocolates-data.sql', 'bank dashboard.pbix', 'Book1.xlsx', 'Breast_cancer_data.csv', 'calendar.png', 'calender_app.py', 'Call logs question.sql', 'Call_details.sql', 'certificate-of-completion-for-ai-master-class-using-python.pdf', 'ChromeSetup.exe', 'Clean_Skills_Resume_2020_2.docx', 'Coding+Notebook+Sheets+to+Print.pdf', 'cointab_data_analysis_challange', 'Complete Business Statistics, Seventh Edition (The Mcgraw-Hill Irwin Series) ( PDFDrive ).pdf', 'con', 'Copy of Md Aman Ansari_POW3_Movie Collection.xlsx', 'country.webp', 'Coursera VEAW7NMKD2B6.pdf', 'CTE,subquery.sql', 'customer.csv', 'customers.txt', 'dashboard-layout.png', 'dashboeard.webp', 'data', 'Data Science Bulk  Assignement.zip', 'Data Science Learning Path.pdf', 'Data Science Training - Certificate of Completion (1).pdf', 'data.yaml', 'DataDays-Priyanka.pdf', 'DataGrokr Technical Assignment - Data Engineering (1) (1) (1).pdf', 'dates (1).txt', 'dates.txt', 'Day 3 - India Life expectancy.pdf', 'DBMS  Lab Practice Asignments.pdf', 'DBT interview prep.pdf', 'db_dump.sql', 'db_dump_version_2.sql', 'Defaulters List - SQL project.pdf', 'demo.pdf', 'demo8.csv', 'Desktop - Shortcut.lnk', 'desktop.ini', 'Digital_locker.py', 'download (1).jpg', 'download (1).png', 'download.jpg', 'download.png', 'dream home.jpg', 'ds-resume.webp', 'DS_Store', 'E3 Assignment.odt', 'E3420630', 'Eligibility & Placement Guidelines.pdf', 'Employee DB Questions.docx', 'employee.csv', 'Employee_Data.sql', 'english.txt', 'entry_level_resume.docx', 'Excel Assignment Rsult (1).pdf', 'excel learn', 'external-money-ecommerce-kiranshastry-lineal-kiranshastry.png', 'FBO_Invoice.pdf', 'Final+Test+Data+Set.csv', 'final.pdf', 'Finance_data_EDA.ipynb', 'financial-analytic-chart-graphs-on-260nw-281437553.webp', 'forever check2.jpeg', 'Formulas_With_Solution(3)_63103.xlsx', 'Function up-excel', 'function.py', 'function_up-pyhton_jupyter.ipynb', 'genre.csv', 'google48f44aa158ded9f0.html', 'Gradient descent.docx', 'gre_research_validity_data_password_protected.pdf', 'Guarantee Agreement_StarAgile.pdf', 'hb-private-office-0009.jpg', 'Health-and-Safety-Dashboard-Template-TemplateLab.com_.xlsx', 'hills.txt', 'HistoricalData_1682067764013.csv', 'hotel_revenue_historical_full-2.xlsx', 'HPSupportSolutionsFramework-12.19.53.13.exe', 'HR Analytics Atliq_masked.pbix', 'HR Interview Answers', 'html5up-massively.zip', 'Icon Set 2.pptx', 'image001.jpg', 'images (5).png', 'images (5)motorcyle.png', 'images.png', 'Indexing.png', 'info.json', 'Internship & Job Preparation Training - Certificate of Completion.pdf', 'Introduction to SQL (1).pdf', 'invoice.csv', 'invoice_line.csv', 'istockphoto-1400422069-170667a.jpg', 'J03wxGq-QCGN8MRqvgAhkQ_45b30b42a4594805807733582706a4da_Learning-Log-Template_-Organize-your-data-in-a-table.docx', 'jaipurindiajune-25-2019-middle-class-260nw-1433500997.webp', 'K7 Computing_Aptitude Questions for  Trainee roles.docx', 'kaggle.json', 'last.py', 'Leaf Iris Species Detection using DECISION TREE.xmind', 'location.csv', 'logisticModel.sav', 'Machine Learning Algorithms(1).pdf', 'Machine Learning Module Assignment.docx', 'main.py', 'matplot practic.ipynb', 'matplotlib_funcionup.ipynb', 'Mayer Weekly Report 4.pdf', 'Me', 'meal_cost.csv', 'media_type.csv', 'Mi 4A vs Samsung Tizen-Md Aman Ansari.pptx', 'Mi TV 4A 80cm (32) Horizon Edition - Mi India.html', 'Mi TV 4A 80cm (32) Horizon Edition - Mi India_files', 'Microsoft-Windows-MediaFeaturePack-OOB-Package_x64.msu', 'ml projects (1).pdf', 'ml questions.pdf', 'ML, DL, AI Cheat Sheet.pdf', 'Module 1 Submission.txt', 'Module 2 - JS Mart Data.xlsx', 'Module 4 - Pivot Table Masterclass (1).xlsx', \"Mohsin Kabir's Excel Sales Dashboard Project.xlsx\", 'monet.jpeg', 'Mountain take home assn.sql', 'move_code.txt', 'music', 'music store data', 'music store data.zip', 'Music Store Project Questions.docx', 'MusicDatabaseSchema.png', 'Music_Store_database.sql', 'Music_Store_Query.sql', 'MVU-MSBDA-2021-Q1-Skyscraper-4-Benefits-of-Data-Analytics-in-Healthcare-IG02.jpg', 'Natural_Language_Processing_for_Automated_Annotati.pdf', 'New Doc 2019-03-23 12.19.25_1.jpg', 'new priya resum.png', 'new.py', 'notepad code', 'Offer Letter_ APRIL 2022_Priyanka (1).pdf', 'Online_Retail1.csv', 'ord.csv', 'order1.csv', 'orders.csv', 'Outreach Templates.pdf', 'pancard_1.jpg', 'pancard_2.jpg', 'pandas and polar.ipynb', 'Pandas_Cheat_Sheet.pdf', 'pandas_ques.pdf', 'pandas_to_sql.sql', 'PAY.jpg', 'PBIDesktopSetup_x64.exe', 'PCA.ipynb', 'playlist.csv', 'playlist_track.csv', 'pndas_practice.ipynb', 'portfolio', 'Power Query', 'PowerQuery_2.62.5222.761 (64-bit) [en-us].msi', 'PPT Deck for SGDP.pptx', 'practice class.sql', 'practice window_fun.sql', 'preposition-exercises.docx', 'pri.pdf', 'priya.jpg', 'priyanka certificate.jpg', 'priyanka g.resume final.pptx', 'Priyanka gaikwad Quality Controller.pdf', 'priyanka gaikwad s.docx', 'Priyanka gaikwad.pdf', 'Priyanka Santram Gaikwad c.pdf', \"Priyanka's Resume (1) (1).pdf\", \"Priyanka's Resume (2) (1).pdf\", \"Priyanka's Resume (2) (2).pdf\", \"Priyanka's Resume.pdf\", 'priyanka.ipynb', 'PriyankaGaikwadResume.pdf', 'Priyanka_gaikwad.docx', 'Priyanka_Gaikwad_1st_assignment.ipynb', 'PRIYANKA_GAIKWAD_ASSIGNMENT_2.ipynb', 'Priyanka_Gaikwad_Hired_Certificate.pdf', 'Priyanka_gaikwad_POW2_Budget .xlsx', 'Priyanka_Gikwad.ipynb', 'Problem Statement.pdf', 'profile.jfif', 'Program Mind.zip', 'Project-Management-Dashboard-Template-TemplateLab.com_.xlsx', 'Project_Sales Dashboard (1)_Priyanka_Gaikwad.xlsx', 'pycharm-community-2022.2.3.exe', 'pyhton_sql_connector.ipynb', 'Python Assignment - 02.xlsx', 'Python Assignment - 04.xlsx', 'Python Assignment - 05.xlsx', 'Python Assignment - 06.xlsx', 'Python Assignment - 07.xlsx', 'Python Assignment - 08.xlsx', 'Python Assignment - 10.xlsx', 'Python Assignment - 11.xlsx', 'Python+Syntax+Cheat+Sheet+Booklet.pdf', 'python-3.10.0-amd64.exe', 'Python.py', 'python88.ipynb', 'python_27_4.ipynb', 'python_ass.ipynb', 'python_assignment-8.ipynb', 'Python_assignment_10.ipynb', 'python_assignment_11_.ipynb', 'Python_Assignment_1_Mayer.pdf', 'Python_assignment_3.ipynb', 'Python_assignment_4 (1).ipynb', 'Python_assignment_4.ipynb', 'python_assignment_5 (1).ipynb', 'python_assignment_6 (1).ipynb', 'python_assignment_7.ipynb', 'Python_assignment_9.ipynb', 'Python_Assignment_Loops_ifelse_part1_mayer.pdf', 'python_prac.ipynb', 'python_question prac.ipynb', 'Python_Questions.docx', 'Python_Session_12_Mayer (1).ipynb', 'Python_Session_12_Mayer.ipynb', 'Python_Session_13_Mayer_1 (1) (1).ipynb', 'Python_Session_13_Mayer_1 (1).ipynb', 'Python_Session_14_Mayer.ipynb', 'Python_Session_15_Mayer.ipynb', 'Pyyhon_assignment_2.ipynb', 'Raw-Music Store Analysis-SQL Project.zip', 'Recommendation system and prime subscription.sql', 'Recursive CTE.sql', 'region-code.png', 'Regression_using_ANN_Hotel_Booking_Demand_.ipynb', 'Returns.csv', 'Rows to columns.sql', 'SalaryEstimation_K-NearestNeighbour', 'Sales Dashboard (1) (Recovered).xlsx', 'Sales Dashboard (1).xlsx', 'sales-performance money.png', 'Sales-priya_gaikwad - Copy.pptx', 'Sales-priya_gaikwad.pptx', 'salesman.csv', 'salesnew.webp', \"Sammed's Resume (1).pdf\", \"Sammed's Resume (4).pdf\", 'SANKET KADAM (1).docx', 'sb.csv', 'schema_diagram.png', 'Screenshot .png', 'Screenshot-from-2020-03-04-15-29-37.webp', 'sentiment_analysis_Womens_Clothing_E_Commerce_Reviews.ipynb', 'shopping-cart-icon-supermarket-trolley-260nw-2082903856.webp', 'signature.jpeg', 'si_youtube.pbix', 'slicing.png', 'smartphone1.xlsx', 'smart_phone.csv', 'solution_checker.zip', 'Spotify Case study.sql', 'SQL - Problem solving.docx', 'SQL - take home assignment.docx', 'SQL Advance Questions.docx', 'SQL Assignment - 01.xlsx', 'SQL Assignment - 02 (1).xlsx', 'SQL Assignment - 23 March.docx', 'Sql class.txt', 'sql new.sql', 'sql practice.sql', 'SQL solved questions .pdf', 'SQL- ass-10.sql', 'SQL- ass-11.sql', 'SQL-ass-6-CTE,subquery,offset.sql', 'SQL-Ass-7.sql', 'SQL-ASS-8.sql', 'SQL-ASS-9.sql', 'SQL_Assignment_30.sql', 'sql_functionup_practice.sql', 'SQL_Problem_solving_ass-5.sql', 'SQL_Session_06032023.pptx', 'SQL_Session_1_06032023.sql', 'st.py', 'StarAgile_Experience Data Science Format 2.docx', 'StarAgile_Experience Data Science Templete 1.docx', 'StarAgile_Priyanka Gaikwad_Experience Data Science Format 2 (1).docx', 'StarAgile_Priyanka Gaikwad_Experience Data Science Format 2.docx', 'Statistics for Data Science (1).pdf', 'Statistics_Coding_Challenge (1)_solution.zip', 'stickman_question_mark_thinking_pc_800_wht.jpg', 'stream.py', 'SUB QUERY ASSIGNMENT (1).pdf', 'sub.sql', 'Subquery & CTE.docx', 'subquey-question.sql', 'Sudha Murty-Priyanka Gaikwad.pptx', 'SuperStore_Data.zip', 'table.pdf', 'tableau learn', 'TeamsSetupx64_s_8DB3CA72D38780B-1-0_c_w_.exe', 'TEDx talk_priyanka_gaikwad.docx', 'test.txt', 'test1.txt', 'Thanks.jpg', 'This PC - Shortcut.lnk', 'time_seris_python.ipynb', 'Titanic Survival Analysis.ipynb', 'titanic_survival_prediction_using_naive_bayes.py', 'TMBD_API_project.ipynb', 'TMBD_movies_top_rated.csv', 'TMDB_movie.ipynb', 'tmp', 'top product.webp', 'total-sales-1.png', 'track m.csv', 'track.csv', 'trains_original.data', 'travel_booking.sql', 'tropy.png', 'TR_OrderDetails.csv', 'TR_Products.csv', 'TR_PropertyInfo.csv', 'Understanding Big Data And Its Applications In The Real World.docx', 'unformatted-data', 'Unicorn_Companies4.csv', 'Untitled document.docx', 'Untitled.ipynb', 'Untitled1.ipynb', 'User experience of contact tracing app during COVID 19 _04.11.2022 (1) (2).pdf', 'vaibhavresume (2).pdf', 'vs_BuildTools.exe', 'W6e-F-TCS_ynvhfkwnv8dw_dd82e83aa8634b449e65431a2a390b5d_Learning-Log-Template_-Explore-data-from-your-daily-life.docx', 'wandb', 'wdbc (1).data', 'WhatsApp Image 2023-01-24 at 00.24.52.jpeg', 'WhatsApp Image 2023-02-18 at 20.57.18.jpeg', 'wind_report.html', 'winrar-x64-611.exe', 'word wide trip.jpg', 'Zomato_Visualization_and_prodoctive_modeling.ipynb', 'Zoom-Background-by-Innovatus-Design-City-Loft.jpg', 'ZoomInstaller.exe', 'Zoom_cm_fo42anktZ9vvrZo4_madmxoHtYtY5N2vBkhq-bTkSqs5ALcJYYRKe3@rhGq2qS2Qibrz3rW_k1eed804e812ea631_.exe', '~$000.docx', '~$arAgile_Priyanka Gaikwad_Experience Data Science Format 2.docx', '~$Attendance Sheet 2022-2023_Masked.xlsx', '~$NKET KADAM (1).docx', '~$signment 1 - Probability Questions.docx', '~WRL3161.tmp', '𝐃𝐁𝐌𝐒 and 𝐒𝐐𝐋 𝐈𝐧𝐭𝐞𝐫𝐯𝐢𝐞𝐰 𝐐𝐮𝐞𝐬𝐭𝐢𝐨𝐧𝐬.pdf']\n"
     ]
    }
   ],
   "source": [
    "print(os.listdir())"
   ]
  },
  {
   "cell_type": "code",
   "execution_count": 56,
   "id": "e4dc35ef",
   "metadata": {},
   "outputs": [],
   "source": [
    "df=df.set_index('Unnamed: 0')"
   ]
  },
  {
   "cell_type": "code",
   "execution_count": 57,
   "id": "3eaae498",
   "metadata": {},
   "outputs": [
    {
     "data": {
      "text/html": [
       "<div>\n",
       "<style scoped>\n",
       "    .dataframe tbody tr th:only-of-type {\n",
       "        vertical-align: middle;\n",
       "    }\n",
       "\n",
       "    .dataframe tbody tr th {\n",
       "        vertical-align: top;\n",
       "    }\n",
       "\n",
       "    .dataframe thead th {\n",
       "        text-align: right;\n",
       "    }\n",
       "</style>\n",
       "<table border=\"1\" class=\"dataframe\">\n",
       "  <thead>\n",
       "    <tr style=\"text-align: right;\">\n",
       "      <th></th>\n",
       "      <th>TV</th>\n",
       "      <th>Radio</th>\n",
       "      <th>Newspaper</th>\n",
       "      <th>Sales</th>\n",
       "    </tr>\n",
       "    <tr>\n",
       "      <th>Unnamed: 0</th>\n",
       "      <th></th>\n",
       "      <th></th>\n",
       "      <th></th>\n",
       "      <th></th>\n",
       "    </tr>\n",
       "  </thead>\n",
       "  <tbody>\n",
       "    <tr>\n",
       "      <th>1</th>\n",
       "      <td>230.1</td>\n",
       "      <td>37.8</td>\n",
       "      <td>69.2</td>\n",
       "      <td>22.1</td>\n",
       "    </tr>\n",
       "    <tr>\n",
       "      <th>2</th>\n",
       "      <td>44.5</td>\n",
       "      <td>39.3</td>\n",
       "      <td>45.1</td>\n",
       "      <td>10.4</td>\n",
       "    </tr>\n",
       "    <tr>\n",
       "      <th>3</th>\n",
       "      <td>17.2</td>\n",
       "      <td>45.9</td>\n",
       "      <td>69.3</td>\n",
       "      <td>9.3</td>\n",
       "    </tr>\n",
       "    <tr>\n",
       "      <th>4</th>\n",
       "      <td>151.5</td>\n",
       "      <td>41.3</td>\n",
       "      <td>58.5</td>\n",
       "      <td>18.5</td>\n",
       "    </tr>\n",
       "    <tr>\n",
       "      <th>5</th>\n",
       "      <td>180.8</td>\n",
       "      <td>10.8</td>\n",
       "      <td>58.4</td>\n",
       "      <td>12.9</td>\n",
       "    </tr>\n",
       "  </tbody>\n",
       "</table>\n",
       "</div>"
      ],
      "text/plain": [
       "               TV  Radio  Newspaper  Sales\n",
       "Unnamed: 0                                \n",
       "1           230.1   37.8       69.2   22.1\n",
       "2            44.5   39.3       45.1   10.4\n",
       "3            17.2   45.9       69.3    9.3\n",
       "4           151.5   41.3       58.5   18.5\n",
       "5           180.8   10.8       58.4   12.9"
      ]
     },
     "execution_count": 57,
     "metadata": {},
     "output_type": "execute_result"
    }
   ],
   "source": [
    "df.head(5)"
   ]
  },
  {
   "cell_type": "code",
   "execution_count": 59,
   "id": "47019df6",
   "metadata": {},
   "outputs": [
    {
     "data": {
      "text/plain": [
       "TV           float64\n",
       "Radio        float64\n",
       "Newspaper    float64\n",
       "Sales        float64\n",
       "dtype: object"
      ]
     },
     "execution_count": 59,
     "metadata": {},
     "output_type": "execute_result"
    }
   ],
   "source": [
    "df.dtypes"
   ]
  },
  {
   "cell_type": "code",
   "execution_count": 60,
   "id": "ec240bf9",
   "metadata": {},
   "outputs": [
    {
     "data": {
      "text/html": [
       "<div>\n",
       "<style scoped>\n",
       "    .dataframe tbody tr th:only-of-type {\n",
       "        vertical-align: middle;\n",
       "    }\n",
       "\n",
       "    .dataframe tbody tr th {\n",
       "        vertical-align: top;\n",
       "    }\n",
       "\n",
       "    .dataframe thead th {\n",
       "        text-align: right;\n",
       "    }\n",
       "</style>\n",
       "<table border=\"1\" class=\"dataframe\">\n",
       "  <thead>\n",
       "    <tr style=\"text-align: right;\">\n",
       "      <th></th>\n",
       "      <th>TV</th>\n",
       "      <th>Radio</th>\n",
       "      <th>Newspaper</th>\n",
       "      <th>Sales</th>\n",
       "    </tr>\n",
       "  </thead>\n",
       "  <tbody>\n",
       "    <tr>\n",
       "      <th>count</th>\n",
       "      <td>200.000000</td>\n",
       "      <td>200.000000</td>\n",
       "      <td>200.000000</td>\n",
       "      <td>200.000000</td>\n",
       "    </tr>\n",
       "    <tr>\n",
       "      <th>mean</th>\n",
       "      <td>147.042500</td>\n",
       "      <td>23.264000</td>\n",
       "      <td>30.554000</td>\n",
       "      <td>14.022500</td>\n",
       "    </tr>\n",
       "    <tr>\n",
       "      <th>std</th>\n",
       "      <td>85.854236</td>\n",
       "      <td>14.846809</td>\n",
       "      <td>21.778621</td>\n",
       "      <td>5.217457</td>\n",
       "    </tr>\n",
       "    <tr>\n",
       "      <th>min</th>\n",
       "      <td>0.700000</td>\n",
       "      <td>0.000000</td>\n",
       "      <td>0.300000</td>\n",
       "      <td>1.600000</td>\n",
       "    </tr>\n",
       "    <tr>\n",
       "      <th>25%</th>\n",
       "      <td>74.375000</td>\n",
       "      <td>9.975000</td>\n",
       "      <td>12.750000</td>\n",
       "      <td>10.375000</td>\n",
       "    </tr>\n",
       "    <tr>\n",
       "      <th>50%</th>\n",
       "      <td>149.750000</td>\n",
       "      <td>22.900000</td>\n",
       "      <td>25.750000</td>\n",
       "      <td>12.900000</td>\n",
       "    </tr>\n",
       "    <tr>\n",
       "      <th>75%</th>\n",
       "      <td>218.825000</td>\n",
       "      <td>36.525000</td>\n",
       "      <td>45.100000</td>\n",
       "      <td>17.400000</td>\n",
       "    </tr>\n",
       "    <tr>\n",
       "      <th>max</th>\n",
       "      <td>296.400000</td>\n",
       "      <td>49.600000</td>\n",
       "      <td>114.000000</td>\n",
       "      <td>27.000000</td>\n",
       "    </tr>\n",
       "  </tbody>\n",
       "</table>\n",
       "</div>"
      ],
      "text/plain": [
       "               TV       Radio   Newspaper       Sales\n",
       "count  200.000000  200.000000  200.000000  200.000000\n",
       "mean   147.042500   23.264000   30.554000   14.022500\n",
       "std     85.854236   14.846809   21.778621    5.217457\n",
       "min      0.700000    0.000000    0.300000    1.600000\n",
       "25%     74.375000    9.975000   12.750000   10.375000\n",
       "50%    149.750000   22.900000   25.750000   12.900000\n",
       "75%    218.825000   36.525000   45.100000   17.400000\n",
       "max    296.400000   49.600000  114.000000   27.000000"
      ]
     },
     "execution_count": 60,
     "metadata": {},
     "output_type": "execute_result"
    }
   ],
   "source": [
    "df.describe()"
   ]
  },
  {
   "cell_type": "code",
   "execution_count": 61,
   "id": "5042aa68",
   "metadata": {},
   "outputs": [],
   "source": [
    "import seaborn as sns"
   ]
  },
  {
   "cell_type": "code",
   "execution_count": 64,
   "id": "c3c3ba59",
   "metadata": {},
   "outputs": [
    {
     "name": "stderr",
     "output_type": "stream",
     "text": [
      "C:\\Users\\CITS\\AppData\\Local\\Temp\\ipykernel_10512\\858958665.py:1: UserWarning: \n",
      "\n",
      "`distplot` is a deprecated function and will be removed in seaborn v0.14.0.\n",
      "\n",
      "Please adapt your code to use either `displot` (a figure-level function with\n",
      "similar flexibility) or `histplot` (an axes-level function for histograms).\n",
      "\n",
      "For a guide to updating your code to use the new functions, please see\n",
      "https://gist.github.com/mwaskom/de44147ed2974457ad6372750bbe5751\n",
      "\n",
      "  sns.distplot(df['Radio'],hist=True,color='darkblue')\n"
     ]
    },
    {
     "data": {
      "text/plain": [
       "<Axes: xlabel='Radio', ylabel='Density'>"
      ]
     },
     "execution_count": 64,
     "metadata": {},
     "output_type": "execute_result"
    },
    {
     "data": {
      "image/png": "[encoded data removed]",
      "text/plain": [
       "<Figure size 640x480 with 1 Axes>"
      ]
     },
     "metadata": {},
     "output_type": "display_data"
    }
   ],
   "source": [
    "sns.distplot(df['Radio'],hist=True,color='darkblue')"
   ]
  },
  {
   "cell_type": "code",
   "execution_count": 65,
   "id": "3d4b41a2",
   "metadata": {},
   "outputs": [
    {
     "name": "stderr",
     "output_type": "stream",
     "text": [
      "C:\\Users\\CITS\\AppData\\Local\\Temp\\ipykernel_10512\\1713287139.py:1: UserWarning: \n",
      "\n",
      "`distplot` is a deprecated function and will be removed in seaborn v0.14.0.\n",
      "\n",
      "Please adapt your code to use either `displot` (a figure-level function with\n",
      "similar flexibility) or `histplot` (an axes-level function for histograms).\n",
      "\n",
      "For a guide to updating your code to use the new functions, please see\n",
      "https://gist.github.com/mwaskom/de44147ed2974457ad6372750bbe5751\n",
      "\n",
      "  sns.distplot(df['Newspaper'],hist=True,color='darkblue')\n"
     ]
    },
    {
     "data": {
      "text/plain": [
       "<Axes: xlabel='Newspaper', ylabel='Density'>"
      ]
     },
     "execution_count": 65,
     "metadata": {},
     "output_type": "execute_result"
    },
    {
     "data": {
      "image/png": "[encoded data removed]",
      "text/plain": [
       "<Figure size 640x480 with 1 Axes>"
      ]
     },
     "metadata": {},
     "output_type": "display_data"
    }
   ],
   "source": [
    "sns.distplot(df['Newspaper'],hist=True,color='darkblue')"
   ]
  },
  {
   "cell_type": "code",
   "execution_count": null,
   "id": "9ad51062",
   "metadata": {},
   "outputs": [],
   "source": [
    "# Q-Q PLOT,K-S TEST,ANDERSON DARLING-TESTING FOR DISTRUBTION OF DATASET"
   ]
  },
  {
   "cell_type": "code",
   "execution_count": 67,
   "id": "25fe94dd",
   "metadata": {},
   "outputs": [
    {
     "data": {
      "text/plain": [
       "<Axes: xlabel='TV'>"
      ]
     },
     "execution_count": 67,
     "metadata": {},
     "output_type": "execute_result"
    },
    {
     "data": {
      "image/png": "[encoded data removed]",
      "text/plain": [
       "<Figure size 640x480 with 1 Axes>"
      ]
     },
     "metadata": {},
     "output_type": "display_data"
    }
   ],
   "source": [
    "sns.boxplot(x=df['TV'])"
   ]
  },
  {
   "cell_type": "code",
   "execution_count": 70,
   "id": "480cf806",
   "metadata": {},
   "outputs": [
    {
     "data": {
      "text/plain": [
       "<Axes: xlabel='Newspaper'>"
      ]
     },
     "execution_count": 70,
     "metadata": {},
     "output_type": "execute_result"
    },
    {
     "data": {
      "image/png": "[encoded data removed]",
      "text/plain": [
       "<Figure size 640x480 with 1 Axes>"
      ]
     },
     "metadata": {},
     "output_type": "display_data"
    }
   ],
   "source": [
    "sns.boxplot(x=df['Newspaper'])"
   ]
  },
  {
   "cell_type": "code",
   "execution_count": 71,
   "id": "8b149876",
   "metadata": {},
   "outputs": [
    {
     "data": {
      "text/html": [
       "<div>\n",
       "<style scoped>\n",
       "    .dataframe tbody tr th:only-of-type {\n",
       "        vertical-align: middle;\n",
       "    }\n",
       "\n",
       "    .dataframe tbody tr th {\n",
       "        vertical-align: top;\n",
       "    }\n",
       "\n",
       "    .dataframe thead th {\n",
       "        text-align: right;\n",
       "    }\n",
       "</style>\n",
       "<table border=\"1\" class=\"dataframe\">\n",
       "  <thead>\n",
       "    <tr style=\"text-align: right;\">\n",
       "      <th></th>\n",
       "      <th>TV</th>\n",
       "      <th>Radio</th>\n",
       "      <th>Newspaper</th>\n",
       "      <th>Sales</th>\n",
       "    </tr>\n",
       "  </thead>\n",
       "  <tbody>\n",
       "    <tr>\n",
       "      <th>TV</th>\n",
       "      <td>1.000000</td>\n",
       "      <td>0.054809</td>\n",
       "      <td>0.056648</td>\n",
       "      <td>0.782224</td>\n",
       "    </tr>\n",
       "    <tr>\n",
       "      <th>Radio</th>\n",
       "      <td>0.054809</td>\n",
       "      <td>1.000000</td>\n",
       "      <td>0.354104</td>\n",
       "      <td>0.576223</td>\n",
       "    </tr>\n",
       "    <tr>\n",
       "      <th>Newspaper</th>\n",
       "      <td>0.056648</td>\n",
       "      <td>0.354104</td>\n",
       "      <td>1.000000</td>\n",
       "      <td>0.228299</td>\n",
       "    </tr>\n",
       "    <tr>\n",
       "      <th>Sales</th>\n",
       "      <td>0.782224</td>\n",
       "      <td>0.576223</td>\n",
       "      <td>0.228299</td>\n",
       "      <td>1.000000</td>\n",
       "    </tr>\n",
       "  </tbody>\n",
       "</table>\n",
       "</div>"
      ],
      "text/plain": [
       "                 TV     Radio  Newspaper     Sales\n",
       "TV         1.000000  0.054809   0.056648  0.782224\n",
       "Radio      0.054809  1.000000   0.354104  0.576223\n",
       "Newspaper  0.056648  0.354104   1.000000  0.228299\n",
       "Sales      0.782224  0.576223   0.228299  1.000000"
      ]
     },
     "execution_count": 71,
     "metadata": {},
     "output_type": "execute_result"
    }
   ],
   "source": [
    "df.corr()"
   ]
  },
  {
   "cell_type": "code",
   "execution_count": 76,
   "id": "0ece3213",
   "metadata": {},
   "outputs": [
    {
     "data": {
      "text/plain": [
       "<seaborn.axisgrid.PairGrid at 0x204dd6e5ba0>"
      ]
     },
     "execution_count": 76,
     "metadata": {},
     "output_type": "execute_result"
    },
    {
     "data": {
      "image/png": "[encoded data removed]",
      "text/plain": [
       "<Figure size 750x250 with 3 Axes>"
      ]
     },
     "metadata": {},
     "output_type": "display_data"
    }
   ],
   "source": [
    "sns.pairplot(df,x_vars=['TV','Radio','Newspaper'],y_vars=['Sales'],kind='scatter')"
   ]
  },
  {
   "cell_type": "code",
   "execution_count": 79,
   "id": "3f4587cd",
   "metadata": {},
   "outputs": [
    {
     "data": {
      "text/plain": [
       "<Axes: >"
      ]
     },
     "execution_count": 79,
     "metadata": {},
     "output_type": "execute_result"
    },
    {
     "data": {
      "image/png": "[encoded data removed]",
      "text/plain": [
       "<Figure size 640x480 with 2 Axes>"
      ]
     },
     "metadata": {},
     "output_type": "display_data"
    }
   ],
   "source": [
    "sns.heatmap(df.corr())"
   ]
  },
  {
   "cell_type": "code",
   "execution_count": null,
   "id": "6c453ce3",
   "metadata": {},
   "outputs": [],
   "source": []
  },
  {
   "cell_type": "code",
   "execution_count": null,
   "id": "033f1d7d",
   "metadata": {},
   "outputs": [],
   "source": []
  },
  {
   "cell_type": "code",
   "execution_count": null,
   "id": "deee7063",
   "metadata": {},
   "outputs": [],
   "source": []
  },
  {
   "cell_type": "code",
   "execution_count": null,
   "id": "a3712208",
   "metadata": {},
   "outputs": [],
   "source": []
  },
  {
   "cell_type": "code",
   "execution_count": null,
   "id": "5a087f20",
   "metadata": {},
   "outputs": [],
   "source": []
  },
  {
   "cell_type": "code",
   "execution_count": null,
   "id": "36b10540",
   "metadata": {},
   "outputs": [],
   "source": []
  },
  {
   "cell_type": "code",
   "execution_count": null,
   "id": "d6534711",
   "metadata": {},
   "outputs": [],
   "source": []
  },
  {
   "cell_type": "code",
   "execution_count": null,
   "id": "30da1696",
   "metadata": {},
   "outputs": [],
   "source": []
  },
  {
   "cell_type": "code",
   "execution_count": null,
   "id": "096b4a55",
   "metadata": {},
   "outputs": [],
   "source": []
  },
  {
   "cell_type": "code",
   "execution_count": null,
   "id": "6dc1d905",
   "metadata": {},
   "outputs": [],
   "source": []
  },
  {
   "cell_type": "code",
   "execution_count": null,
   "id": "85cf711d",
   "metadata": {},
   "outputs": [],
   "source": []
  },
  {
   "cell_type": "code",
   "execution_count": null,
   "id": "eb6ee296",
   "metadata": {},
   "outputs": [],
   "source": []
  },
  {
   "cell_type": "code",
   "execution_count": null,
   "id": "14eb6dda",
   "metadata": {},
   "outputs": [],
   "source": []
  },
  {
   "cell_type": "code",
   "execution_count": null,
   "id": "bc80bbb4",
   "metadata": {},
   "outputs": [],
   "source": []
  },
  {
   "cell_type": "code",
   "execution_count": null,
   "id": "ec23703c",
   "metadata": {},
   "outputs": [],
   "source": []
  },
  {
   "cell_type": "code",
   "execution_count": null,
   "id": "6a4e7393",
   "metadata": {},
   "outputs": [],
   "source": []
  }
 ],
 "metadata": {
  "kernelspec": {
   "display_name": "Python 3 (ipykernel)",
   "language": "python",
   "name": "python3"
  },
  "language_info": {
   "codemirror_mode": {
    "name": "ipython",
    "version": 3
   },
   "file_extension": ".py",
   "mimetype": "text/x-python",
   "name": "python",
   "nbconvert_exporter": "python",
   "pygments_lexer": "ipython3",
   "version": "3.10.9"
  }
 },
 "nbformat": 4,
 "nbformat_minor": 5
}
