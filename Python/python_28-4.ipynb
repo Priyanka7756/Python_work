{
 "cells": [
  {
   "cell_type": "code",
   "execution_count": null,
   "id": "daeed52e",
   "metadata": {},
   "outputs": [],
   "source": [
    "#1. Write a Python program to create and display all combinations of letters, \n",
    "# selecting each letter from a different key in a dictionary."
   ]
  },
  {
   "cell_type": "code",
   "execution_count": 1,
   "id": "db3aa105",
   "metadata": {},
   "outputs": [
    {
     "data": {
      "text/plain": [
       "['x', 'y', 'z']"
      ]
     },
     "execution_count": 1,
     "metadata": {},
     "output_type": "execute_result"
    }
   ],
   "source": [
    "dict1={'x': 'abc', 'y': 'def', 'z': 'ghi'}\n",
    "keys = list(dict1.keys())\n",
    "combo = [[]]\n",
    "\n",
    "for key in keys:\n",
    "    new_combo = []\n",
    "    for i in combo:\n",
    "        for value in dict1[key]:\n",
    "            new_combo.append(i + [value])\n",
    "    combo = new_combo\n",
    "\n",
    "for i in combo:\n",
    "    print(''.join(i))"
   ]
  },
  {
   "cell_type": "code",
   "execution_count": 5,
   "id": "4d83050b",
   "metadata": {},
   "outputs": [
    {
     "name": "stdout",
     "output_type": "stream",
     "text": [
      "city8e\n",
      "city8py\n",
      "citymathe\n",
      "citymathpy\n",
      "priya8e\n",
      "priya8py\n",
      "priyamathe\n",
      "priyamathpy\n"
     ]
    }
   ],
   "source": [
    "import itertools\n",
    "dict1={'priya':['city','priya'],'math':['8','math'],'py':['e','py']}\n",
    "combo=list(itertools.product(*dict1.values()))\n",
    "for i in combo:\n",
    "    print(''.join(i))"
   ]
  },
  {
   "cell_type": "code",
   "execution_count": null,
   "id": "c8d7ee32",
   "metadata": {},
   "outputs": [],
   "source": [
    "#2. Write a Python program to split a list every Nth eleme"
   ]
  },
  {
   "cell_type": "code",
   "execution_count": 33,
   "id": "78cda445",
   "metadata": {},
   "outputs": [
    {
     "name": "stdout",
     "output_type": "stream",
     "text": [
      "[[1, 2, 3], [4, 5, 6], [7, 8, 9], [10]]\n"
     ]
    }
   ],
   "source": [
    "def split(lst, n):\n",
    "   \n",
    "    return [lst[i:i+n] for i in range(0, len(lst), n)]\n",
    "\n",
    "my_list = [1, 2, 3, 4, 5, 6, 7, 8, 9, 10]\n",
    "new_list = split(my_list, 3)\n",
    "print(new_list)"
   ]
  },
  {
   "cell_type": "code",
   "execution_count": null,
   "id": "60cdd3ab",
   "metadata": {},
   "outputs": [],
   "source": []
  },
  {
   "cell_type": "code",
   "execution_count": null,
   "id": "f265bf07",
   "metadata": {},
   "outputs": [],
   "source": [
    "output- [[1, 2, 3], [4, 5, 6], [7, 8, 9], [10]]"
   ]
  },
  {
   "cell_type": "code",
   "execution_count": null,
   "id": "6e170cb0",
   "metadata": {},
   "outputs": [],
   "source": [
    "#3. Write a Python program to compute the difference between two lists."
   ]
  },
  {
   "cell_type": "code",
   "execution_count": 40,
   "id": "e514ee70",
   "metadata": {},
   "outputs": [
    {
     "name": "stdout",
     "output_type": "stream",
     "text": [
      "[1, 2]\n",
      "[6, 7]\n"
     ]
    }
   ],
   "source": [
    "def list_diff(list1, list2):\n",
    "    \n",
    "    return list(set(list1) - set(list2))\n",
    "\n",
    "l1 = [1, 2, 3, 4, 5]\n",
    "l2 =  [3, 4, 5, 6, 7]\n",
    "diff1 = list_diff(l1, l2)\n",
    "diff2 = list_diff(l2, l1)\n",
    "print(diff1)\n",
    "print(diff2)"
   ]
  },
  {
   "cell_type": "code",
   "execution_count": 9,
   "id": "a6a64214",
   "metadata": {},
   "outputs": [
    {
     "name": "stdout",
     "output_type": "stream",
     "text": [
      "{'orange', 'white', 'red'}\n",
      "{'yellow', 'black'}\n"
     ]
    }
   ],
   "source": [
    "l1 = [\"red\", \"orange\", \"green\", \"blue\", \"white\"]\n",
    "l2 = [\"black\", \"yellow\", \"green\", \"blue\"]\n",
    "print(set(l1)-set(l2))\n",
    "print(set(l2)-set(l1))\n"
   ]
  },
  {
   "cell_type": "code",
   "execution_count": 42,
   "id": "786863ce",
   "metadata": {},
   "outputs": [
    {
     "name": "stdout",
     "output_type": "stream",
     "text": [
      "['white', 'orange', 'red']\n",
      "['black', 'yellow']\n"
     ]
    }
   ],
   "source": [
    "def list_diff(list1, list2):\n",
    "    \n",
    "    return list(set(list1) - set(list2))\n",
    "\n",
    "\n",
    "l1 = [\"red\", \"orange\", \"green\", \"blue\", \"white\"]\n",
    "l2 = [\"black\", \"yellow\", \"green\", \"blue\"]\n",
    "diff1 = list_diff(l1, l2)\n",
    "diff2 = list_diff(l2, l1)\n",
    "print(diff1)\n",
    "print(diff2)"
   ]
  },
  {
   "cell_type": "code",
   "execution_count": null,
   "id": "f9374343",
   "metadata": {},
   "outputs": [],
   "source": [
    "list1 = [1, 2, 3, 4, 5]\n",
    "list2 = [3, 4, 5, 6, 7]"
   ]
  },
  {
   "cell_type": "code",
   "execution_count": null,
   "id": "ad403816",
   "metadata": {},
   "outputs": [],
   "source": [
    "#4. Write a Python program to replace the last element in a list with another list"
   ]
  },
  {
   "cell_type": "code",
   "execution_count": 44,
   "id": "b7b23c00",
   "metadata": {},
   "outputs": [
    {
     "name": "stdout",
     "output_type": "stream",
     "text": [
      "[1, 3, 5, 7, 9, 2, 4, 6, 8]\n"
     ]
    }
   ],
   "source": [
    "n1 = [1, 3, 5, 7, 9, 10]\n",
    "n2 = [2, 4, 6, 8]\n",
    "n1[-1:] = n2\n",
    "print(n1)"
   ]
  },
  {
   "cell_type": "code",
   "execution_count": null,
   "id": "bb2e2a80",
   "metadata": {},
   "outputs": [],
   "source": [
    "# 5.Write a Python program to insert a given string at the beginning of all items in a list."
   ]
  },
  {
   "cell_type": "code",
   "execution_count": 49,
   "id": "6fb72b42",
   "metadata": {},
   "outputs": [
    {
     "name": "stdout",
     "output_type": "stream",
     "text": [
      "['name priya', 'name fruit', 'name city']\n"
     ]
    }
   ],
   "source": [
    "def insert(n, str1):\n",
    "    \n",
    "    return [str1 + item for item in n]\n",
    "\n",
    "my_list = [\"priya\", \"fruit\", \"city\"]\n",
    "new = \"name \"\n",
    "result = insert(my_list, new)\n",
    "print(result)"
   ]
  },
  {
   "cell_type": "code",
   "execution_count": 11,
   "id": "60fd1d6f",
   "metadata": {},
   "outputs": [
    {
     "name": "stdout",
     "output_type": "stream",
     "text": [
      "['name', 'fruit', 'city']\n"
     ]
    }
   ],
   "source": [
    "\n",
    "my_list = [\"priya\", \"fruit\", \"city\"]\n",
    "new='name'\n",
    "my_list[0]=new\n",
    "print(my_list)"
   ]
  },
  {
   "cell_type": "code",
   "execution_count": null,
   "id": "0c9028b5",
   "metadata": {},
   "outputs": [],
   "source": [
    "# Expected output : ['empl’, 'emp2’, 'emp3’, 'emp4']"
   ]
  },
  {
   "cell_type": "code",
   "execution_count": null,
   "id": "192d6af4",
   "metadata": {},
   "outputs": [],
   "source": [
    "# 6.Write a Python program to check whether all dictionaries in a list are empty or not"
   ]
  },
  {
   "cell_type": "code",
   "execution_count": 63,
   "id": "f41b5a33",
   "metadata": {},
   "outputs": [
    {
     "name": "stdout",
     "output_type": "stream",
     "text": [
      "dictionary empty list.\n"
     ]
    }
   ],
   "source": [
    "my_list = [{}, {}, {}] # list of empty dictionaries\n",
    "\n",
    "empty = True\n",
    "for i in my_list:\n",
    "    if i:\n",
    "        empty = False\n",
    "        break\n",
    "\n",
    "if empty:\n",
    "    print(\"dictionary empty list.\")\n",
    "else:\n",
    "    print(\" not empty dictionary .\")"
   ]
  },
  {
   "cell_type": "code",
   "execution_count": 19,
   "id": "62801fdd",
   "metadata": {},
   "outputs": [
    {
     "name": "stdout",
     "output_type": "stream",
     "text": [
      "dict is empty\n"
     ]
    }
   ],
   "source": [
    "my_list = [{}, {}, {}]\n",
    "empy=True\n",
    "for i in my_list:\n",
    "    if i:\n",
    "        empy=False\n",
    "        break\n",
    "if empy:\n",
    "    print('dict is empty')\n",
    "else:\n",
    "    print('not empty')\n",
    "    \n"
   ]
  },
  {
   "cell_type": "code",
   "execution_count": 58,
   "id": "42ce787b",
   "metadata": {},
   "outputs": [
    {
     "name": "stdout",
     "output_type": "stream",
     "text": [
      "True\n",
      "False\n"
     ]
    }
   ],
   "source": [
    "my_list = [{},{},{},{}]  # using all function\n",
    "my_list1 = [{'n'},{},{}]\n",
    "print(all(not d for d in my_list))\n",
    "print(all(not d for d in my_list1))"
   ]
  },
  {
   "cell_type": "code",
   "execution_count": null,
   "id": "0e9e483d",
   "metadata": {},
   "outputs": [],
   "source": [
    "# 7.Write a Python program to pack consecutive duplicates of a given list elements into sublists"
   ]
  },
  {
   "cell_type": "code",
   "execution_count": 69,
   "id": "1cec9463",
   "metadata": {},
   "outputs": [
    {
     "name": "stdout",
     "output_type": "stream",
     "text": [
      "[[1, 1], [2, 2], [3, 3, 3], [4, 4], [5, 5]]\n"
     ]
    }
   ],
   "source": [
    "list1 = [1, 1, 2, 2, 3, 3, 3, 4, 4, 5,5] # input list\n",
    "\n",
    "result = []\n",
    "for item in list1:\n",
    "    if not result or item != result[-1][-1]:\n",
    "        result.append([item])\n",
    "    else:\n",
    "        result[-1].append(item)\n",
    "\n",
    "print(result)"
   ]
  },
  {
   "cell_type": "code",
   "execution_count": 28,
   "id": "b0f8b465",
   "metadata": {},
   "outputs": [
    {
     "data": {
      "text/plain": [
       "[1, 2]"
      ]
     },
     "execution_count": 28,
     "metadata": {},
     "output_type": "execute_result"
    }
   ],
   "source": [
    "list1 = [1, 1, 2, 2, 3, 3, 3, 4, 4, 5,5]\n",
    "list1[]"
   ]
  },
  {
   "cell_type": "code",
   "execution_count": null,
   "id": "bc8d0b95",
   "metadata": {},
   "outputs": [],
   "source": [
    "# 8.Write a Python program to create a list reflecting the run-length encoding from a given\n",
    "# list of integers or a given list of characters.\n",
    "Sample_data:-  [1,1,2,3,4,4.3,5,1]\n",
    "[(1, 2), (2, 1), (3, 1), (4, 1), (4.3, 1), (5, 1), (1, 1)]\n",
    "my_string = \"aaabbcccddd\""
   ]
  },
  {
   "cell_type": "code",
   "execution_count": 84,
   "id": "7643c039",
   "metadata": {},
   "outputs": [],
   "source": [
    "def new(my_list):\n",
    "    result = []\n",
    "    count = 1\n",
    "    for i in range(1, len(my_list)):\n",
    "        if my_list[i] == my_list[i]:\n",
    "            count += 1\n",
    "        else:\n",
    "            if count == 1:\n",
    "                result.append(my_list[i-1])\n",
    "            else:\n",
    "                result.append([count, my_list[i-1]])\n",
    "            count = 1\n",
    "\n",
    "    if count == 1:\n",
    "        result.append(my_list[-1])\n",
    "    else:\n",
    "        result.append([count, my_list[1]])\n",
    "\n",
    "    return result\n"
   ]
  },
  {
   "cell_type": "code",
   "execution_count": 85,
   "id": "42515033",
   "metadata": {},
   "outputs": [
    {
     "name": "stdout",
     "output_type": "stream",
     "text": [
      "[1, 1, 2, 3, 4, 4, 5, 1]\n",
      "[[8, 1]]\n",
      "string:  aabcddddadnss\n",
      "[[13, 'a']]\n"
     ]
    }
   ],
   "source": [
    "list1 = [1, 1, 2, 3, 4, 4, 5, 1]\n",
    "result = new(list1)\n",
    "print(list1)\n",
    "print(result)\n",
    "\n",
    "string = \"aabcddddadnss\"\n",
    "result = new(original_string)\n",
    "print(\"string: \" ,string)\n",
    "print(result)"
   ]
  },
  {
   "cell_type": "code",
   "execution_count": 81,
   "id": "a80fbf79",
   "metadata": {},
   "outputs": [],
   "source": [
    "from itertools import groupby\n"
   ]
  },
  {
   "cell_type": "code",
   "execution_count": null,
   "id": "a42441ba",
   "metadata": {},
   "outputs": [],
   "source": []
  },
  {
   "cell_type": "code",
   "execution_count": null,
   "id": "0a008d94",
   "metadata": {},
   "outputs": [],
   "source": []
  }
 ],
 "metadata": {
  "kernelspec": {
   "display_name": "Python 3 (ipykernel)",
   "language": "python",
   "name": "python3"
  },
  "language_info": {
   "codemirror_mode": {
    "name": "ipython",
    "version": 3
   },
   "file_extension": ".py",
   "mimetype": "text/x-python",
   "name": "python",
   "nbconvert_exporter": "python",
   "pygments_lexer": "ipython3",
   "version": "3.10.9"
  }
 },
 "nbformat": 4,
 "nbformat_minor": 5
}
