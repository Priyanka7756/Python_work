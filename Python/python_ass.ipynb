{
 "cells": [
  {
   "cell_type": "markdown",
   "id": "876654b0",
   "metadata": {},
   "source": [
    "### 1.Write a Python program to read a file line by line and store it into a list."
   ]
  },
  {
   "cell_type": "code",
   "execution_count": 1,
   "id": "2de22cae",
   "metadata": {},
   "outputs": [],
   "source": [
    "# first need to create txt file\n",
    "f= open(\"test.txt\",\"w+\") \n"
   ]
  },
  {
   "cell_type": "code",
   "execution_count": 2,
   "id": "12533e3f",
   "metadata": {},
   "outputs": [],
   "source": [
    "for i in range(3):                      # add data on file\n",
    "     f.write(\"new home price 12373888  %d\\r\\n\" % (i+1))"
   ]
  },
  {
   "cell_type": "code",
   "execution_count": 3,
   "id": "3e9bb4c9",
   "metadata": {},
   "outputs": [
    {
     "data": {
      "text/plain": [
       "<_io.TextIOWrapper name='test.txt' mode='r' encoding='cp1252'>"
      ]
     },
     "execution_count": 3,
     "metadata": {},
     "output_type": "execute_result"
    }
   ],
   "source": [
    "f=open(\"test.txt\", \"r\")\n",
    "f"
   ]
  },
  {
   "cell_type": "code",
   "execution_count": 6,
   "id": "642f40a6",
   "metadata": {},
   "outputs": [],
   "source": [
    "with open('test.txt', 'w') as file:\n",
    "    file.write('home price 1 23344\\n')\n",
    "    file.write('home price 2 234223\\n')\n",
    "    file.write('homw price 3 455664 \\n')\n",
    "   "
   ]
  },
  {
   "cell_type": "code",
   "execution_count": 7,
   "id": "24c52e6e",
   "metadata": {},
   "outputs": [],
   "source": [
    "# Read the content of test.txt and skip line number 5\n",
    "with open('test.txt', 'r') as file:\n",
    "    lines = file.readlines()"
   ]
  },
  {
   "cell_type": "code",
   "execution_count": 8,
   "id": "48bb04d8",
   "metadata": {},
   "outputs": [
    {
     "name": "stdout",
     "output_type": "stream",
     "text": [
      "['home price 1 23344\\n', 'home price 2 234223\\n', 'homw price 3 455664 \\n']\n",
      "['home price 1 23344', 'home price 2 234223', 'homw price 3 455664']\n"
     ]
    }
   ],
   "source": [
    "with open(\"test.txt\") as f:\n",
    "    content_list = f.readlines()\n",
    "\n",
    "# print the list\n",
    "print(content_list)\n",
    "\n",
    "# remove new line characters\n",
    "content_list = [x.strip() for x in content_list]\n",
    "print(content_list)"
   ]
  },
  {
   "cell_type": "code",
   "execution_count": null,
   "id": "381c2918",
   "metadata": {},
   "outputs": [],
   "source": []
  },
  {
   "cell_type": "markdown",
   "id": "658703a4",
   "metadata": {},
   "source": [
    "### 2.Write a Python program to count the number of lines in a text file. "
   ]
  },
  {
   "cell_type": "code",
   "execution_count": 10,
   "id": "17025c0d",
   "metadata": {},
   "outputs": [
    {
     "name": "stdout",
     "output_type": "stream",
     "text": [
      "Total Number lines: 3\n"
     ]
    }
   ],
   "source": [
    "with open(r\"test.txt\", 'r') as fp:\n",
    "    lines = len(fp.readlines())\n",
    "    print('Total Number lines:', lines)"
   ]
  },
  {
   "cell_type": "code",
   "execution_count": 36,
   "id": "f2e1f6f9",
   "metadata": {},
   "outputs": [
    {
     "name": "stdout",
     "output_type": "stream",
     "text": [
      "Total number of lines: 3\n"
     ]
    }
   ],
   "source": [
    "with open('test.txt', 'r') as file:\n",
    "    # initialize a counter variable\n",
    "    count = 0\n",
    "                                                   # loop the file\n",
    "    for line in file:\n",
    "                                             # increment the counter for each line\n",
    "        count += 1\n",
    "print(\"Total number of lines:\", count)"
   ]
  },
  {
   "cell_type": "markdown",
   "id": "665822ee",
   "metadata": {},
   "source": [
    "### 3.Write a Python program to list the name of text files only from directory and count each word in text file and print with  files name and count of words."
   ]
  },
  {
   "cell_type": "code",
   "execution_count": 37,
   "id": "d5a4e7ed",
   "metadata": {},
   "outputs": [
    {
     "data": {
      "text/plain": [
       "'C:\\\\Users\\\\CITS\\\\Downloads'"
      ]
     },
     "execution_count": 37,
     "metadata": {},
     "output_type": "execute_result"
    }
   ],
   "source": [
    "pwd"
   ]
  },
  {
   "cell_type": "code",
   "execution_count": 13,
   "id": "13fb6b7c",
   "metadata": {},
   "outputs": [
    {
     "name": "stdout",
     "output_type": "stream",
     "text": [
      "12\n"
     ]
    }
   ],
   "source": [
    "# number of words\n",
    "num = 0\n",
    " \n",
    "with open(r'test.txt','r') as file:\n",
    " \n",
    "    # Read of the file\n",
    "  \n",
    "    data = file.read()\n",
    " \n",
    "   \n",
    "    # using the split() function\n",
    "    lines = data.split()\n",
    " \n",
    "    # Adding the length \n",
    "    \n",
    "    num += len(lines)\n",
    " \n",
    "print(num)"
   ]
  },
  {
   "cell_type": "markdown",
   "id": "192d79a7",
   "metadata": {},
   "source": [
    "### 4.Write a Python program that calculates the area and perimeter of Rectangle based on the length and breadth entered by the user."
   ]
  },
  {
   "cell_type": "code",
   "execution_count": 11,
   "id": "cb5049fb",
   "metadata": {},
   "outputs": [
    {
     "name": "stdout",
     "output_type": "stream",
     "text": [
      "Enter Length  Rectangle: \n",
      "6\n",
      "Enter Breadth  Rectangle: \n",
      "7\n",
      "\n",
      "Perimeter =  26\n"
     ]
    }
   ],
   "source": [
    "print(\"Enter Length  Rectangle: \")\n",
    "l = float(input())\n",
    "print(\"Enter Breadth  Rectangle: \")\n",
    "b = float(input())\n",
    "p = 2*(l+b)\n",
    "print(\"Perimeter : \", p)"
   ]
  },
  {
   "cell_type": "markdown",
   "id": "1f2e49e6",
   "metadata": {},
   "source": [
    "### 5.Write a Python program that removes and prints every third number from a list of numbers until the list is empty."
   ]
  },
  {
   "cell_type": "code",
   "execution_count": 52,
   "id": "aa0d04c3",
   "metadata": {},
   "outputs": [
    {
     "name": "stdout",
     "output_type": "stream",
     "text": [
      "3\n",
      "4\n",
      "5\n",
      "6\n",
      "7\n",
      "8\n",
      "9\n",
      "10\n",
      "1\n",
      "2\n"
     ]
    },
    {
     "data": {
      "text/plain": [
       "[]"
      ]
     },
     "execution_count": 52,
     "metadata": {},
     "output_type": "execute_result"
    }
   ],
   "source": [
    "# define a list of numbers\n",
    "numbers = [1, 2, 3, 4, 5, 6, 7, 8, 9, 10]\n",
    "\n",
    "# loop until the list is empty\n",
    "while numbers:\n",
    "    # calculate the index of the 3rd number\n",
    "    index = 2 % len(numbers)\n",
    "    # remove and print 3rd number\n",
    "    print(numbers.pop(index))\n",
    "numbers"
   ]
  },
  {
   "cell_type": "code",
   "execution_count": 7,
   "id": "3dfdc7ef",
   "metadata": {},
   "outputs": [
    {
     "data": {
      "text/plain": [
       "2"
      ]
     },
     "execution_count": 7,
     "metadata": {},
     "output_type": "execute_result"
    }
   ],
   "source": [
    "n=[1,2,3]\n",
    "p=2%len(n)\n",
    "p"
   ]
  },
  {
   "cell_type": "code",
   "execution_count": 37,
   "id": "6f687b10",
   "metadata": {},
   "outputs": [
    {
     "data": {
      "text/plain": [
       "1"
      ]
     },
     "execution_count": 37,
     "metadata": {},
     "output_type": "execute_result"
    }
   ],
   "source": [
    "35%2"
   ]
  },
  {
   "cell_type": "code",
   "execution_count": 31,
   "id": "4cb2b5bd",
   "metadata": {},
   "outputs": [
    {
     "data": {
      "text/plain": [
       "0"
      ]
     },
     "execution_count": 31,
     "metadata": {},
     "output_type": "execute_result"
    }
   ],
   "source": [
    "12%4"
   ]
  },
  {
   "cell_type": "code",
   "execution_count": null,
   "id": "856ab97a",
   "metadata": {},
   "outputs": [],
   "source": []
  },
  {
   "cell_type": "markdown",
   "id": "d07aad15",
   "metadata": {},
   "source": [
    "### 6.Write a Python program to find the median among three given numbers."
   ]
  },
  {
   "cell_type": "code",
   "execution_count": 14,
   "id": "60f2ad4b",
   "metadata": {},
   "outputs": [
    {
     "name": "stdout",
     "output_type": "stream",
     "text": [
      "Enter first number: 12\n",
      "Enter second number: 13\n",
      "Enter third number: 14\n",
      "The median number is 13.0\n"
     ]
    }
   ],
   "source": [
    "num1 = float(input(\"Enter 1st number: \"))\n",
    "num2 = float(input(\"Enter 2nd number: \"))\n",
    "num3 = float(input(\"Enter 3rd number: \"))\n",
    "if num1 > num2:                   # use if else \n",
    "    if num1 < num3:\n",
    "        median = num1\n",
    "    elif num2 > num3:\n",
    "        median = num2\n",
    "    else:\n",
    "        median = num3\n",
    "else:\n",
    "    if num1 > num3:\n",
    "        median = num1\n",
    "    elif num2 < num3:\n",
    "        median = num2\n",
    "    else:\n",
    "        median = num3\n",
    " \n",
    "print(\"median number: \", median)"
   ]
  },
  {
   "cell_type": "markdown",
   "id": "8cba47fa",
   "metadata": {},
   "source": [
    "### 7.Write a Python program to swap commas and dots in a string."
   ]
  },
  {
   "cell_type": "code",
   "execution_count": 44,
   "id": "737b0b72",
   "metadata": {},
   "outputs": [
    {
     "name": "stdout",
     "output_type": "stream",
     "text": [
      "i am learning data analyst .skill required pyhton .excel and sql, so learn\n"
     ]
    }
   ],
   "source": [
    "a='i am learning data analyst , skill required pyhton , excel and sql.so learn' \n",
    "def Replace(s):\n",
    "    s = s.replace(', ', 'third')\n",
    "    s = s.replace('.', ', ')\n",
    "    s = s.replace('third', '.')\n",
    "  \n",
    "    return s\n",
    "   \n",
    "\n",
    "print(Replace(a))"
   ]
  },
  {
   "cell_type": "markdown",
   "id": "47ccfee5",
   "metadata": {},
   "source": [
    "### 8.Write a Python program to extract numbers from a given string."
   ]
  },
  {
   "cell_type": "code",
   "execution_count": 21,
   "id": "9cfe2224",
   "metadata": {},
   "outputs": [
    {
     "name": "stdout",
     "output_type": "stream",
     "text": [
      "9975"
     ]
    }
   ],
   "source": [
    "s=\"priya9975\"\n",
    "#using for loop\n",
    "for i in s:\n",
    "    if(i.isnumeric()):\n",
    "        print(i,end=\"\")"
   ]
  },
  {
   "cell_type": "markdown",
   "id": "6f1e2d0d",
   "metadata": {},
   "source": [
    "### 9.Write a Python program to create a dictionary from a string."
   ]
  },
  {
   "cell_type": "code",
   "execution_count": 27,
   "id": "986c804e",
   "metadata": {},
   "outputs": [
    {
     "name": "stdout",
     "output_type": "stream",
     "text": [
      "{'priya': '3445', 'city': 'pune'}\n"
     ]
    }
   ],
   "source": [
    "string='priya:3445, city :pune'\n",
    " \n",
    "# Converting string to dictionary        \n",
    "Dict = dict((x.strip(), y.strip())\n",
    "             for x, y in (element.split(':')\n",
    "             for element in string.split(', ')))\n",
    " \n",
    "print(Dict)\n"
   ]
  },
  {
   "cell_type": "markdown",
   "id": "7ea816bf",
   "metadata": {},
   "source": [
    "### 10.Write a Python program to check if multiple keys exist in a dictionary"
   ]
  },
  {
   "cell_type": "code",
   "execution_count": 2,
   "id": "0e1711fa",
   "metadata": {},
   "outputs": [
    {
     "name": "stdout",
     "output_type": "stream",
     "text": [
      "True\n",
      "False\n"
     ]
    }
   ],
   "source": [
    "dict1= {'name': 'priya','city': 'pune','num': '3'}\n",
    "print(dict1.keys() >= { 'name'})\n",
    "\n",
    "print(dict1.keys() >= {'num', 'name','no'})"
   ]
  },
  {
   "cell_type": "markdown",
   "id": "a5523be1",
   "metadata": {},
   "source": [
    "### 11.\tBuild a calculator using Python program. Take input as required and do all the arithmetic operations."
   ]
  },
  {
   "cell_type": "code",
   "execution_count": 33,
   "id": "dfe0bc1c",
   "metadata": {},
   "outputs": [
    {
     "name": "stdout",
     "output_type": "stream",
     "text": [
      "Enter 1st num: 4\n",
      "Enter 2nd num: 0\n",
      "choose arithmetic operation (+, -, *, /): /\n",
      "Error: division by zero\n"
     ]
    }
   ],
   "source": [
    "\n",
    "num1 = float(input(\"Enter 1st num: \"))\n",
    "num2 = float(input(\"Enter 2nd num: \"))\n",
    "\n",
    "# user input for the arithmetic operation\n",
    "operation = input(\"choose arithmetic operation (+, -, *, /): \")\n",
    "\n",
    "# perform the selected operation\n",
    "if operation == '+':\n",
    "    print(num1 + num2)\n",
    "elif operation == '-':\n",
    "    print(num1 - num2)\n",
    "elif operation == '*':\n",
    "    print(num1 * num2)\n",
    "elif operation == '/':\n",
    "    if num2 == 0:\n",
    "        print(\"Error: num division by zero\")\n",
    "    else:\n",
    "        print(num1 / num2)\n",
    "else:\n",
    "    print(\"Error: invalid operation\")"
   ]
  },
  {
   "cell_type": "markdown",
   "id": "1bd61a18",
   "metadata": {},
   "source": [
    "### 12.Write a Python program to extract mobile number and pan number from text."
   ]
  },
  {
   "cell_type": "code",
   "execution_count": 54,
   "id": "fd3938c4",
   "metadata": {},
   "outputs": [
    {
     "name": "stdout",
     "output_type": "stream",
     "text": [
      "PAN :  []\n"
     ]
    }
   ],
   "source": [
    "# define  extract mobile numbers\n",
    "def mobile_numbers(text):\n",
    "    # split the text into words\n",
    "    words = text.split()\n",
    "\n",
    "    mobile_numbers = []\n",
    "    for word in words:\n",
    "        if word.isdigit() and len(word) == 10:\n",
    "            mobile_numbers.append(word)\n",
    "    return mobile_numbers\n",
    "\n",
    "\n",
    "print(\"PAN : \", pan_numbers)     \n"
   ]
  },
  {
   "cell_type": "code",
   "execution_count": null,
   "id": "28eaff3f",
   "metadata": {},
   "outputs": [],
   "source": []
  },
  {
   "cell_type": "code",
   "execution_count": null,
   "id": "6cb3095e",
   "metadata": {},
   "outputs": [],
   "source": []
  },
  {
   "cell_type": "code",
   "execution_count": null,
   "id": "41768015",
   "metadata": {},
   "outputs": [],
   "source": []
  }
 ],
 "metadata": {
  "kernelspec": {
   "display_name": "Python 3 (ipykernel)",
   "language": "python",
   "name": "python3"
  },
  "language_info": {
   "codemirror_mode": {
    "name": "ipython",
    "version": 3
   },
   "file_extension": ".py",
   "mimetype": "text/x-python",
   "name": "python",
   "nbconvert_exporter": "python",
   "pygments_lexer": "ipython3",
   "version": "3.10.9"
  }
 },
 "nbformat": 4,
 "nbformat_minor": 5
}
