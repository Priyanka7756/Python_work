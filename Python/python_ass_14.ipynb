{
 "cells": [
  {
   "cell_type": "markdown",
   "id": "bc624848",
   "metadata": {},
   "source": [
    "### 01. Write a Python program to print all unique values in a dictionary\n"
   ]
  },
  {
   "cell_type": "code",
   "execution_count": 50,
   "id": "5ebd4615",
   "metadata": {},
   "outputs": [
    {
     "name": "stdout",
     "output_type": "stream",
     "text": [
      "{1, 2, 3}\n"
     ]
    }
   ],
   "source": [
    "dict1={'a':1,'b':2,'c':3,'d':1}\n",
    "a=set()\n",
    "\n",
    "for i in dict1.values():\n",
    "    # add the value to the set\n",
    "    a.add(i)\n",
    "\n",
    "print( a)\n"
   ]
  },
  {
   "cell_type": "code",
   "execution_count": null,
   "id": "2eceb1cb",
   "metadata": {},
   "outputs": [],
   "source": [
    "a=set()\n",
    "for i in dict1.values():\n",
    "    a.add(i)"
   ]
  },
  {
   "cell_type": "code",
   "execution_count": 2,
   "id": "c9ef1749",
   "metadata": {},
   "outputs": [
    {
     "data": {
      "text/plain": [
       "{'a', 'b', 'c', 'd'}"
      ]
     },
     "execution_count": 2,
     "metadata": {},
     "output_type": "execute_result"
    }
   ],
   "source": [
    "dict1={'a':1,'b':2,'c':3,'d':1}\n",
    "a=set(dict1)\n",
    "a"
   ]
  },
  {
   "cell_type": "markdown",
   "id": "ca19f225",
   "metadata": {},
   "source": [
    "### 02. Write a Python program to combine two dictionary adding values for common keys"
   ]
  },
  {
   "cell_type": "code",
   "execution_count": 49,
   "id": "457e7279",
   "metadata": {},
   "outputs": [
    {
     "name": "stdout",
     "output_type": "stream",
     "text": [
      "{'priya': 20, 'city': 50, 'pune': 123}\n"
     ]
    }
   ],
   "source": [
    "dict1 = {'a': 15, 'pune': 23, 'c': 9}\n",
    "dict2 = {'priya': 20, 'city': 50, 'pune': 100}\n",
    "\n",
    "for key in dict2:\n",
    "    if key in dict1:\n",
    "        dict2[key] = dict2[key] + dict1[key]\n",
    "    else:\n",
    "        pass\n",
    "         \n",
    "print(dict2)"
   ]
  },
  {
   "cell_type": "markdown",
   "id": "1150ee97",
   "metadata": {},
   "source": [
    "### 03. Write a Python program to check a dictionary is empty or not"
   ]
  },
  {
   "cell_type": "code",
   "execution_count": 6,
   "id": "3dc65b55",
   "metadata": {},
   "outputs": [
    {
     "name": "stdout",
     "output_type": "stream",
     "text": [
      "not empty\n"
     ]
    }
   ],
   "source": [
    "dict1={}\n",
    "if len(dict1)==0:\n",
    "    print('empty')\n",
    "else:\n",
    "    print('not empty')"
   ]
  },
  {
   "cell_type": "markdown",
   "id": "88f65231",
   "metadata": {},
   "source": [
    "### 04. Write a Python program to remove duplicates from Dictionary."
   ]
  },
  {
   "cell_type": "code",
   "execution_count": 7,
   "id": "666a632e",
   "metadata": {},
   "outputs": [
    {
     "name": "stdout",
     "output_type": "stream",
     "text": [
      "{('c', 3), ('a', 1), ('b', 2)}\n",
      "{('c', 3), ('a', 1), ('b', 2)}\n"
     ]
    }
   ],
   "source": [
    "dict2={'a':1,'b':2,'c':3,'a':1}\n",
    "d=set()\n",
    "for item in dict2.items():\n",
    "    d.add(item)\n",
    "print(d)\n",
    "dict(d)\n",
    "print(d)"
   ]
  },
  {
   "cell_type": "markdown",
   "id": "62dfb6f1",
   "metadata": {},
   "source": [
    "### 05. Write a Python program to get a dictionary from an object's fields."
   ]
  },
  {
   "cell_type": "code",
   "execution_count": 53,
   "id": "ba947079",
   "metadata": {},
   "outputs": [
    {
     "name": "stdout",
     "output_type": "stream",
     "text": [
      "{'name': 'priya', 'color': 'white'}\n"
     ]
    }
   ],
   "source": [
    "class color:\n",
    "    def __init__(self, name, color):\n",
    "        self.name = name\n",
    "        self.color = color\n",
    "\n",
    "obj = color(\"priya\",'white' )\n",
    "\n",
    "# get a dictionary from the objects\n",
    "color_dict = obj.__dict__\n",
    "\n",
    "print(color_dict)\n",
    "\n"
   ]
  },
  {
   "cell_type": "code",
   "execution_count": null,
   "id": "de9f1046",
   "metadata": {},
   "outputs": [],
   "source": []
  },
  {
   "cell_type": "markdown",
   "id": "ed4a58f4",
   "metadata": {},
   "source": [
    "### 06. Write a Python program to get the maximum and minimum value in a dictionary."
   ]
  },
  {
   "cell_type": "code",
   "execution_count": 32,
   "id": "4f36712c",
   "metadata": {},
   "outputs": [
    {
     "name": "stdout",
     "output_type": "stream",
     "text": [
      "50\n",
      "23\n"
     ]
    }
   ],
   "source": [
    "dict3={'a':23,'b':25,'c':50}\n",
    "b=max(dict3.values())\n",
    "print(b)\n",
    "c=min(dict3.values())\n",
    "print(c)"
   ]
  },
  {
   "cell_type": "markdown",
   "id": "431075aa",
   "metadata": {},
   "source": [
    "### 07. Write a Python script to sort (ascending and descending) a dictionary by value"
   ]
  },
  {
   "cell_type": "code",
   "execution_count": 15,
   "id": "4a135830",
   "metadata": {},
   "outputs": [
    {
     "name": "stdout",
     "output_type": "stream",
     "text": [
      "ascending order: {'b': 1, 'c': 2, 'd': 3, 'a': 4, 'e': 5}\n",
      " descending order: {'e': 5, 'a': 4, 'd': 3, 'c': 2, 'b': 1}\n"
     ]
    }
   ],
   "source": [
    "dict1 = {\"a\": 4, \"b\": 1, \"c\": 2, \"d\": 3, \"e\": 5}\n",
    "\n",
    "asc = dict(sorted(dict1.items(), key=lambda x: x[1]))\n",
    "\n",
    "# sort the dictionary by value in descending order using key parameter\n",
    "desc = dict(sorted(dict1.items(), key=lambda x: x[1], reverse=True))\n",
    "\n",
    "print(\"ascending order:\", asc)\n",
    "print(\" descending order:\", desc)"
   ]
  },
  {
   "cell_type": "code",
   "execution_count": 17,
   "id": "03c89151",
   "metadata": {},
   "outputs": [
    {
     "data": {
      "text/plain": [
       "{'b': 1, 'c': 2, 'd': 3, 'a': 4, 'e': 5}"
      ]
     },
     "execution_count": 17,
     "metadata": {},
     "output_type": "execute_result"
    }
   ],
   "source": [
    "dict1 = {\"a\": 4, \"b\": 1, \"c\": 2, \"d\": 3, \"e\": 5}\n",
    "l=dict(sorted(dict1.items(),key=lambda p:p[1]))\n",
    "\n",
    "l"
   ]
  },
  {
   "cell_type": "markdown",
   "id": "ba2e2c62",
   "metadata": {},
   "source": [
    "### 08. Write a Python script to add a key to a dictionary."
   ]
  },
  {
   "cell_type": "code",
   "execution_count": 46,
   "id": "a12c62a3",
   "metadata": {},
   "outputs": [
    {
     "data": {
      "text/plain": [
       "{'name': 'priya', 'city': 'latur', 'color': 'blue'}"
      ]
     },
     "execution_count": 46,
     "metadata": {},
     "output_type": "execute_result"
    }
   ],
   "source": [
    "dict2={'name':'priya','city':'latur'}\n",
    "dict2.update({'color':'blue' })\n",
    "dict2"
   ]
  },
  {
   "cell_type": "code",
   "execution_count": null,
   "id": "33e90e61",
   "metadata": {},
   "outputs": [],
   "source": []
  }
 ],
 "metadata": {
  "kernelspec": {
   "display_name": "Python 3 (ipykernel)",
   "language": "python",
   "name": "python3"
  },
  "language_info": {
   "codemirror_mode": {
    "name": "ipython",
    "version": 3
   },
   "file_extension": ".py",
   "mimetype": "text/x-python",
   "name": "python",
   "nbconvert_exporter": "python",
   "pygments_lexer": "ipython3",
   "version": "3.10.9"
  }
 },
 "nbformat": 4,
 "nbformat_minor": 5
}
