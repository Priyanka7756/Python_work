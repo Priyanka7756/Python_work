{
 "cells": [
  {
   "cell_type": "code",
   "execution_count": null,
   "id": "63963ec2",
   "metadata": {},
   "outputs": [],
   "source": []
  },
  {
   "cell_type": "markdown",
   "id": "36b1fb1e",
   "metadata": {},
   "source": [
    "### 1.Write a Python script to concatenate following dictionaries to create a new one."
   ]
  },
  {
   "cell_type": "code",
   "execution_count": 5,
   "id": "ba2af236",
   "metadata": {},
   "outputs": [
    {
     "name": "stdout",
     "output_type": "stream",
     "text": [
      "{'hi': 'hello', 'name': 'priya', 'is': 'tia', 'num': 'seri', 'py': 'pyhton'}\n"
     ]
    }
   ],
   "source": [
    "a={'hi':'hello','name':'priya','is':'tia'}\n",
    "b={'num':'seri','py':'pyhton'}\n",
    "c={}\n",
    "c.update(a)\n",
    "c.update(b)\n",
    "print(c)\n"
   ]
  },
  {
   "cell_type": "markdown",
   "id": "68ef0f8d",
   "metadata": {},
   "source": [
    "### 2.Write a Python script to check whether a given key already exists in a dictionary."
   ]
  },
  {
   "cell_type": "code",
   "execution_count": 10,
   "id": "6e9ccb03",
   "metadata": {},
   "outputs": [],
   "source": [
    "dict1={2:3,3:4,5:6}\n",
    "def exist(a):\n",
    "    if a in dict1:\n",
    "        print('yes')\n",
    "    else:\n",
    "        print('no')"
   ]
  },
  {
   "cell_type": "code",
   "execution_count": 11,
   "id": "994a9d4d",
   "metadata": {},
   "outputs": [
    {
     "name": "stdout",
     "output_type": "stream",
     "text": [
      "yes\n"
     ]
    }
   ],
   "source": [
    "exist(2)"
   ]
  },
  {
   "cell_type": "markdown",
   "id": "2ad4f7da",
   "metadata": {},
   "source": [
    "### 3.Write a Python program to sum all the items in a dictionary."
   ]
  },
  {
   "cell_type": "code",
   "execution_count": 7,
   "id": "c427b004",
   "metadata": {},
   "outputs": [
    {
     "data": {
      "text/plain": [
       "47"
      ]
     },
     "execution_count": 7,
     "metadata": {},
     "output_type": "execute_result"
    }
   ],
   "source": [
    "dict1={20:12,2:3,4:6}\n",
    "b=sum(dict1.keys())\n",
    "c=sum(dict1.values())\n",
    "t=b+c\n",
    "t"
   ]
  },
  {
   "cell_type": "markdown",
   "id": "55dd6764",
   "metadata": {},
   "source": [
    "### 4 Write a NumPy program to get the powers of an array values element"
   ]
  },
  {
   "cell_type": "code",
   "execution_count": 14,
   "id": "2b707169",
   "metadata": {},
   "outputs": [],
   "source": [
    "import numpy as np"
   ]
  },
  {
   "cell_type": "code",
   "execution_count": 20,
   "id": "3a5dc589",
   "metadata": {},
   "outputs": [
    {
     "data": {
      "text/plain": [
       "array([1, 4, 9])"
      ]
     },
     "execution_count": 20,
     "metadata": {},
     "output_type": "execute_result"
    }
   ],
   "source": [
    "n=np.array([1,2,3])\n",
    "c=n**2\n",
    "c"
   ]
  },
  {
   "cell_type": "markdown",
   "id": "764439af",
   "metadata": {},
   "source": [
    "### 5.Write a NumPy program to get the element-wise remainder of an array of division."
   ]
  },
  {
   "cell_type": "code",
   "execution_count": 22,
   "id": "ae55de6f",
   "metadata": {},
   "outputs": [
    {
     "name": "stdout",
     "output_type": "stream",
     "text": [
      "[2 6 0 5]\n"
     ]
    }
   ],
   "source": [
    "p=np.array([2,16,20,15])\n",
    "t=p%10\n",
    "print(t)"
   ]
  },
  {
   "cell_type": "code",
   "execution_count": 27,
   "id": "f9821074",
   "metadata": {},
   "outputs": [
    {
     "name": "stdout",
     "output_type": "stream",
     "text": [
      "[2 6 0 5]\n"
     ]
    }
   ],
   "source": [
    "k=np.array([2,16,20,15])\n",
    "o=np.array([10])\n",
    "s=np.remainder(k,o)\n",
    "print(s)"
   ]
  },
  {
   "cell_type": "code",
   "execution_count": 28,
   "id": "c408e960",
   "metadata": {},
   "outputs": [
    {
     "name": "stdout",
     "output_type": "stream",
     "text": [
      "[0 1 0]\n"
     ]
    }
   ],
   "source": [
    "k=np.array([14,16,20])\n",
    "o=np.array([2,3,5])\n",
    "s=np.remainder(k,o)\n",
    "print(s)"
   ]
  },
  {
   "cell_type": "markdown",
   "id": "fd33a819",
   "metadata": {},
   "source": [
    "### 6.Write a NumPy program to insert a space between characters of all the elements of a given array."
   ]
  },
  {
   "cell_type": "code",
   "execution_count": 32,
   "id": "c33d8acb",
   "metadata": {},
   "outputs": [
    {
     "name": "stderr",
     "output_type": "stream",
     "text": [
      "C:\\Users\\CITS\\AppData\\Local\\Temp\\ipykernel_1612\\790138326.py:1: DeprecationWarning: `np.str` is a deprecated alias for the builtin `str`. To silence this warning, use `str` by itself. Doing this will not modify any behavior and is safe. If you specifically wanted the numpy scalar type, use `np.str_` here.\n",
      "Deprecated in NumPy 1.20; for more details and guidance: https://numpy.org/devdocs/release/1.20.0-notes.html#deprecations\n",
      "  t=np.array(['priya','latur'],dtype=np.str)\n"
     ]
    },
    {
     "name": "stdout",
     "output_type": "stream",
     "text": [
      "['p r i y a' 'l a t u r']\n"
     ]
    }
   ],
   "source": [
    "t=np.array(['priya','latur'],dtype=np.str)\n",
    "n=np.char.join(\" \",t)\n",
    "print(n)"
   ]
  },
  {
   "cell_type": "markdown",
   "id": "f39a6be4",
   "metadata": {},
   "source": [
    "### 7.Write a NumPy program to remove the leading and trailing whitespaces of all the elements of a given array"
   ]
  },
  {
   "cell_type": "code",
   "execution_count": 43,
   "id": "9317c341",
   "metadata": {},
   "outputs": [
    {
     "name": "stdout",
     "output_type": "stream",
     "text": [
      "['book' 'pen' 'try']\n"
     ]
    }
   ],
   "source": [
    "m=np.array([ 'book'  ,'pen' ,'try'  ])\n",
    "n=np.char.strip(m)\n",
    "print(n)"
   ]
  },
  {
   "cell_type": "code",
   "execution_count": null,
   "id": "9c7e5902",
   "metadata": {},
   "outputs": [],
   "source": []
  },
  {
   "cell_type": "code",
   "execution_count": null,
   "id": "2cc4987b",
   "metadata": {},
   "outputs": [],
   "source": []
  },
  {
   "cell_type": "code",
   "execution_count": null,
   "id": "ddacac0c",
   "metadata": {},
   "outputs": [],
   "source": []
  }
 ],
 "metadata": {
  "kernelspec": {
   "display_name": "Python 3 (ipykernel)",
   "language": "python",
   "name": "python3"
  },
  "language_info": {
   "codemirror_mode": {
    "name": "ipython",
    "version": 3
   },
   "file_extension": ".py",
   "mimetype": "text/x-python",
   "name": "python",
   "nbconvert_exporter": "python",
   "pygments_lexer": "ipython3",
   "version": "3.10.9"
  }
 },
 "nbformat": 4,
 "nbformat_minor": 5
}
