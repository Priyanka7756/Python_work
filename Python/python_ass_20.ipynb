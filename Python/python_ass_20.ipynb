{
 "cells": [
  {
   "cell_type": "markdown",
   "id": "16cf0abc",
   "metadata": {},
   "source": [
    "### 1.Write a lambda function to calculate the mode of a list.\n"
   ]
  },
  {
   "cell_type": "code",
   "execution_count": 6,
   "id": "e6eded16",
   "metadata": {},
   "outputs": [],
   "source": [
    "m=lambda x:max(set(x),key=x.count)"
   ]
  },
  {
   "cell_type": "code",
   "execution_count": 8,
   "id": "21cf1365",
   "metadata": {},
   "outputs": [
    {
     "data": {
      "text/plain": [
       "5"
      ]
     },
     "execution_count": 8,
     "metadata": {},
     "output_type": "execute_result"
    }
   ],
   "source": [
    "x=[1,2,3,4,5,5,5]\n",
    "m(x)"
   ]
  },
  {
   "cell_type": "markdown",
   "id": "e1bf74b1",
   "metadata": {},
   "source": [
    "### 2.Write a lambda function to remove vowels from a string."
   ]
  },
  {
   "cell_type": "code",
   "execution_count": 16,
   "id": "afeff070",
   "metadata": {},
   "outputs": [
    {
     "data": {
      "text/plain": [
       "'my nm'"
      ]
     },
     "execution_count": 16,
     "metadata": {},
     "output_type": "execute_result"
    }
   ],
   "source": [
    "\n",
    "v=lambda c: ''.join(s for s in c if  s not in 'aeiou')\n",
    "c='my name'\n",
    "v(c)"
   ]
  },
  {
   "cell_type": "markdown",
   "id": "4bbc7a1e",
   "metadata": {},
   "source": [
    "### 3. Write a lambda function to convert a list of integers to binary."
   ]
  },
  {
   "cell_type": "code",
   "execution_count": 41,
   "id": "39524fe3",
   "metadata": {},
   "outputs": [
    {
     "data": {
      "text/plain": [
       "[3, 4]"
      ]
     },
     "execution_count": 41,
     "metadata": {},
     "output_type": "execute_result"
    }
   ],
   "source": [
    "l=[1,2,3,4]\n",
    "l[2:]"
   ]
  },
  {
   "cell_type": "code",
   "execution_count": 21,
   "id": "18391055",
   "metadata": {},
   "outputs": [],
   "source": [
    "t = lambda lst: [bin(x)[2:] for x in lst]"
   ]
  },
  {
   "cell_type": "code",
   "execution_count": 22,
   "id": "6fa53951",
   "metadata": {},
   "outputs": [
    {
     "data": {
      "text/plain": [
       "['1', '10', '11', '100', '101']"
      ]
     },
     "execution_count": 22,
     "metadata": {},
     "output_type": "execute_result"
    }
   ],
   "source": [
    "lst = [1, 2, 3, 4, 5]\n",
    "t(lst)"
   ]
  },
  {
   "cell_type": "code",
   "execution_count": 23,
   "id": "009d50da",
   "metadata": {},
   "outputs": [
    {
     "data": {
      "text/plain": [
       "[3, 4]"
      ]
     },
     "execution_count": 23,
     "metadata": {},
     "output_type": "execute_result"
    }
   ],
   "source": []
  },
  {
   "cell_type": "markdown",
   "id": "e35b8aed",
   "metadata": {},
   "source": [
    "### 4.Write a lambda function to filter negative numbers from a list.\n"
   ]
  },
  {
   "cell_type": "code",
   "execution_count": 31,
   "id": "1b80f257",
   "metadata": {},
   "outputs": [
    {
     "data": {
      "text/plain": [
       "[1, 2, 4]"
      ]
     },
     "execution_count": 31,
     "metadata": {},
     "output_type": "execute_result"
    }
   ],
   "source": [
    "l=lambda x:list(filter(lambda y:y>=0,x))\n",
    "x=[1,-2,2,4]\n",
    "l(x)"
   ]
  },
  {
   "cell_type": "code",
   "execution_count": 30,
   "id": "6d965ae5",
   "metadata": {},
   "outputs": [
    {
     "data": {
      "text/plain": [
       "[-2, -3]"
      ]
     },
     "execution_count": 30,
     "metadata": {},
     "output_type": "execute_result"
    }
   ],
   "source": [
    "l=lambda x:list(filter(lambda y:y<=0,x))\n",
    "x=[1,-2,3,-3]\n",
    "l(x)"
   ]
  },
  {
   "cell_type": "markdown",
   "id": "e91e6745",
   "metadata": {},
   "source": [
    "### 5. Write a lambda function to remove whitespace from the beginning and end of a string."
   ]
  },
  {
   "cell_type": "code",
   "execution_count": 37,
   "id": "ec4fedd2",
   "metadata": {},
   "outputs": [
    {
     "data": {
      "text/plain": [
       "'pyhton programming'"
      ]
     },
     "execution_count": 37,
     "metadata": {},
     "output_type": "execute_result"
    }
   ],
   "source": [
    "c = lambda s: s.strip()\n",
    "s = \" pyhton programming     \"\n",
    "c(s)"
   ]
  },
  {
   "cell_type": "markdown",
   "id": "fab7b726",
   "metadata": {},
   "source": [
    "### 6.Write a lambda function to sort a list based on the length of the strings."
   ]
  },
  {
   "cell_type": "code",
   "execution_count": 40,
   "id": "88c49a80",
   "metadata": {},
   "outputs": [
    {
     "data": {
      "text/plain": [
       "['sia', 'priya', 'python', 'gaikwad']"
      ]
     },
     "execution_count": 40,
     "metadata": {},
     "output_type": "execute_result"
    }
   ],
   "source": [
    "l = lambda x: sorted(x, key=lambda y: len(y))\n",
    "x = [\"priya\", \"sia\", \"gaikwad\", \"python\"]\n",
    "l(x)\n"
   ]
  },
  {
   "cell_type": "code",
   "execution_count": null,
   "id": "d3924a7d",
   "metadata": {},
   "outputs": [],
   "source": []
  },
  {
   "cell_type": "code",
   "execution_count": null,
   "id": "e062fe1e",
   "metadata": {},
   "outputs": [],
   "source": []
  }
 ],
 "metadata": {
  "kernelspec": {
   "display_name": "Python 3 (ipykernel)",
   "language": "python",
   "name": "python3"
  },
  "language_info": {
   "codemirror_mode": {
    "name": "ipython",
    "version": 3
   },
   "file_extension": ".py",
   "mimetype": "text/x-python",
   "name": "python",
   "nbconvert_exporter": "python",
   "pygments_lexer": "ipython3",
   "version": "3.10.9"
  }
 },
 "nbformat": 4,
 "nbformat_minor": 5
}
