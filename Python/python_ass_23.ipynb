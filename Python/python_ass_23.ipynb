{
 "cells": [
  {
   "cell_type": "markdown",
   "id": "127bf944",
   "metadata": {},
   "source": [
    "### 1. Write a lambda function to remove punctuation from a string.\n"
   ]
  },
  {
   "cell_type": "code",
   "execution_count": null,
   "id": "8e8646b6",
   "metadata": {},
   "outputs": [],
   "source": [
    "y=lambda x:x"
   ]
  },
  {
   "cell_type": "code",
   "execution_count": 2,
   "id": "7ad80713",
   "metadata": {},
   "outputs": [],
   "source": [
    "y = lambda s: ''.join(c for c in s if c.isalnum() or c.isspace())"
   ]
  },
  {
   "cell_type": "code",
   "execution_count": 4,
   "id": "1eb5deb2",
   "metadata": {},
   "outputs": [
    {
     "name": "stdout",
     "output_type": "stream",
     "text": [
      "python programming\n"
     ]
    }
   ],
   "source": [
    "s = \"python programming!\"\n",
    "remove = y(s)\n",
    "print(remove)   # Output: \"Hello world\""
   ]
  },
  {
   "cell_type": "markdown",
   "id": "6d841331",
   "metadata": {},
   "source": [
    "### 2. Write a lambda function to calculate the absolute value of a number.\n"
   ]
  },
  {
   "cell_type": "code",
   "execution_count": 5,
   "id": "ce7a1bdf",
   "metadata": {},
   "outputs": [
    {
     "data": {
      "text/plain": [
       "5"
      ]
     },
     "execution_count": 5,
     "metadata": {},
     "output_type": "execute_result"
    }
   ],
   "source": [
    "x=lambda y:abs(y)\n",
    "y=-5\n",
    "x(y)"
   ]
  },
  {
   "cell_type": "markdown",
   "id": "393a0aee",
   "metadata": {},
   "source": [
    "### 3. Write a lambda function to check if a string contains a certain substring.\n"
   ]
  },
  {
   "cell_type": "code",
   "execution_count": 8,
   "id": "6fd4c49a",
   "metadata": {},
   "outputs": [
    {
     "data": {
      "text/plain": [
       "True"
      ]
     },
     "execution_count": 8,
     "metadata": {},
     "output_type": "execute_result"
    }
   ],
   "source": [
    "s=lambda t,y:y in t\n",
    "\n",
    "s('lambda function ','lambda')"
   ]
  },
  {
   "cell_type": "markdown",
   "id": "e4161259",
   "metadata": {},
   "source": [
    "### 4.Write a lambda function to convert a string to lowercase.\n"
   ]
  },
  {
   "cell_type": "code",
   "execution_count": 9,
   "id": "9402c03b",
   "metadata": {},
   "outputs": [
    {
     "data": {
      "text/plain": [
       "'my'"
      ]
     },
     "execution_count": 9,
     "metadata": {},
     "output_type": "execute_result"
    }
   ],
   "source": [
    "t=lambda x:x.lower()\n",
    "t('My')\n",
    " "
   ]
  },
  {
   "cell_type": "markdown",
   "id": "5ce9cf4a",
   "metadata": {},
   "source": [
    "### 5.Write a lambda function to check if a number is prime.\n"
   ]
  },
  {
   "cell_type": "code",
   "execution_count": 25,
   "id": "3b479948",
   "metadata": {},
   "outputs": [
    {
     "data": {
      "text/plain": [
       "True"
      ]
     },
     "execution_count": 25,
     "metadata": {},
     "output_type": "execute_result"
    }
   ],
   "source": [
    "y=lambda x: x>1& all (x%i !=0  for i in range (2,int(x**0.5)+1))\n",
    "y(9)"
   ]
  },
  {
   "cell_type": "markdown",
   "id": "c7a6f8a7",
   "metadata": {},
   "source": [
    "### 6.Write a lambda function to sort a list in descending order.\n"
   ]
  },
  {
   "cell_type": "code",
   "execution_count": 27,
   "id": "228922d0",
   "metadata": {},
   "outputs": [
    {
     "data": {
      "text/plain": [
       "[5, 4, 3, 2, 1]"
      ]
     },
     "execution_count": 27,
     "metadata": {},
     "output_type": "execute_result"
    }
   ],
   "source": [
    "y=lambda x:sorted(x,reverse=True)\n",
    "x=[1,2,3,4,5]\n",
    "y(x)"
   ]
  },
  {
   "cell_type": "markdown",
   "id": "aa207780",
   "metadata": {},
   "source": [
    "### 7.Write a lambda function to calculate the standard deviation of a list.\n"
   ]
  },
  {
   "cell_type": "code",
   "execution_count": 30,
   "id": "87a8e796",
   "metadata": {},
   "outputs": [
    {
     "ename": "NameError",
     "evalue": "name 'std' is not defined",
     "output_type": "error",
     "traceback": [
      "\u001b[1;31m---------------------------------------------------------------------------\u001b[0m",
      "\u001b[1;31mNameError\u001b[0m                                 Traceback (most recent call last)",
      "Cell \u001b[1;32mIn[30], line 3\u001b[0m\n\u001b[0;32m      1\u001b[0m s\u001b[38;5;241m=\u001b[39m\u001b[38;5;28;01mlambda\u001b[39;00m x:\u001b[38;5;28mlist\u001b[39m(std\u001b[38;5;241m.\u001b[39mx)\n\u001b[0;32m      2\u001b[0m x\u001b[38;5;241m=\u001b[39m[\u001b[38;5;241m1\u001b[39m,\u001b[38;5;241m2\u001b[39m,\u001b[38;5;241m3\u001b[39m,\u001b[38;5;241m4\u001b[39m]\n\u001b[1;32m----> 3\u001b[0m \u001b[43ms\u001b[49m\u001b[43m(\u001b[49m\u001b[43mx\u001b[49m\u001b[43m)\u001b[49m\n",
      "Cell \u001b[1;32mIn[30], line 1\u001b[0m, in \u001b[0;36m<lambda>\u001b[1;34m(x)\u001b[0m\n\u001b[1;32m----> 1\u001b[0m s\u001b[38;5;241m=\u001b[39m\u001b[38;5;28;01mlambda\u001b[39;00m x:\u001b[38;5;28mlist\u001b[39m(\u001b[43mstd\u001b[49m\u001b[38;5;241m.\u001b[39mx)\n\u001b[0;32m      2\u001b[0m x\u001b[38;5;241m=\u001b[39m[\u001b[38;5;241m1\u001b[39m,\u001b[38;5;241m2\u001b[39m,\u001b[38;5;241m3\u001b[39m,\u001b[38;5;241m4\u001b[39m]\n\u001b[0;32m      3\u001b[0m s(x)\n",
      "\u001b[1;31mNameError\u001b[0m: name 'std' is not defined"
     ]
    }
   ],
   "source": [
    "s=lambda x:list(std.x)\n",
    "x=[1,2,3,4]\n",
    "s(x)\n",
    " "
   ]
  },
  {
   "cell_type": "markdown",
   "id": "d9d39232",
   "metadata": {},
   "source": [
    "### 8.Write a lambda function to filter unique values from a list.\n"
   ]
  },
  {
   "cell_type": "code",
   "execution_count": 34,
   "id": "1e7918aa",
   "metadata": {},
   "outputs": [
    {
     "data": {
      "text/plain": [
       "[1, 2, 3, 4, 5]"
      ]
     },
     "execution_count": 34,
     "metadata": {},
     "output_type": "execute_result"
    }
   ],
   "source": [
    "y=lambda x:list(set(x))\n",
    "x=[1,2,3,4,4,5]\n",
    "y(x)"
   ]
  },
  {
   "cell_type": "markdown",
   "id": "ad543fb9",
   "metadata": {},
   "source": [
    "### 9.Write a lambda function to convert a list of strings to integers.\n"
   ]
  },
  {
   "cell_type": "code",
   "execution_count": 37,
   "id": "0deb462b",
   "metadata": {},
   "outputs": [
    {
     "name": "stdout",
     "output_type": "stream",
     "text": [
      "[1, 2, 3]\n"
     ]
    }
   ],
   "source": [
    "y=lambda x:list(map(int,x))\n",
    "x=['1','2','3']\n",
    "new=y(x)\n",
    "print(new)"
   ]
  },
  {
   "cell_type": "markdown",
   "id": "97c62eb2",
   "metadata": {},
   "source": [
    "### 10.Write a lambda function to concatenate two strings.\n"
   ]
  },
  {
   "cell_type": "code",
   "execution_count": 40,
   "id": "a09c5e19",
   "metadata": {},
   "outputs": [
    {
     "data": {
      "text/plain": [
       "'my  name is'"
      ]
     },
     "execution_count": 40,
     "metadata": {},
     "output_type": "execute_result"
    }
   ],
   "source": [
    "y=lambda t,n:t+\"  \"+n\n",
    "y('my','name is')"
   ]
  },
  {
   "cell_type": "markdown",
   "id": "12207321",
   "metadata": {},
   "source": [
    "### 11.Write a lambda function to calculate the median of a list.\n"
   ]
  },
  {
   "cell_type": "code",
   "execution_count": 51,
   "id": "e91b9299",
   "metadata": {},
   "outputs": [],
   "source": [
    "l=lambda x:sorted(x)[len(x)//2] if len(x) %2 !=0 else (sorted (x)[len(x)//2-1]+sorted(x)[len(x)//2])/2"
   ]
  },
  {
   "cell_type": "code",
   "execution_count": 52,
   "id": "2891d460",
   "metadata": {},
   "outputs": [
    {
     "name": "stdout",
     "output_type": "stream",
     "text": [
      "5\n"
     ]
    }
   ],
   "source": [
    "x = [7, 3, 6, 1, 8, 9, 2, 1, 5]\n",
    "print(l(x))"
   ]
  },
  {
   "cell_type": "markdown",
   "id": "28e84ef2",
   "metadata": {},
   "source": [
    "### 12.Write a lambda function to filter words that start with a certain letter from a list of strings.\n"
   ]
  },
  {
   "cell_type": "code",
   "execution_count": 58,
   "id": "7b397d4e",
   "metadata": {},
   "outputs": [],
   "source": [
    "f=lambda x,y:list(filter(lambda t:t.startswith(y),x))"
   ]
  },
  {
   "cell_type": "code",
   "execution_count": 59,
   "id": "8b4448e8",
   "metadata": {},
   "outputs": [
    {
     "name": "stdout",
     "output_type": "stream",
     "text": [
      "['city']\n"
     ]
    }
   ],
   "source": [
    "t=['pune','latur','city']\n",
    "f=f(t,'c')\n",
    "print(f)"
   ]
  },
  {
   "cell_type": "markdown",
   "id": "308b399f",
   "metadata": {},
   "source": [
    "### 13.Write a lambda function to check if a string is a palindrome.\n"
   ]
  },
  {
   "cell_type": "code",
   "execution_count": 62,
   "id": "7d36d15b",
   "metadata": {},
   "outputs": [
    {
     "data": {
      "text/plain": [
       "True"
      ]
     },
     "execution_count": 62,
     "metadata": {},
     "output_type": "execute_result"
    }
   ],
   "source": [
    "y=lambda x:x[::-1]==x\n",
    "x='mmm'\n",
    "y(x)"
   ]
  },
  {
   "cell_type": "markdown",
   "id": "d0a532c7",
   "metadata": {},
   "source": [
    "### 14.Write a lambda function to reverse a string.\n"
   ]
  },
  {
   "cell_type": "code",
   "execution_count": 63,
   "id": "1c0c4e15",
   "metadata": {},
   "outputs": [
    {
     "data": {
      "text/plain": [
       "'gnimmargorp nothyp'"
      ]
     },
     "execution_count": 63,
     "metadata": {},
     "output_type": "execute_result"
    }
   ],
   "source": [
    "y=lambda x:x[::-1]\n",
    "x='pyhton programming'\n",
    "y(x)"
   ]
  },
  {
   "cell_type": "markdown",
   "id": "08f4c830",
   "metadata": {},
   "source": [
    "### 15. Write a lambda function to calculate the factorial of a number.\n"
   ]
  },
  {
   "cell_type": "code",
   "execution_count": 74,
   "id": "4a4c7093",
   "metadata": {},
   "outputs": [
    {
     "data": {
      "text/plain": [
       "120"
      ]
     },
     "execution_count": 74,
     "metadata": {},
     "output_type": "execute_result"
    }
   ],
   "source": [
    "fac= lambda n: 1 if n == 0 else n * fac(n-1)\n",
    "f(5)"
   ]
  },
  {
   "cell_type": "code",
   "execution_count": 70,
   "id": "d212a50e",
   "metadata": {},
   "outputs": [
    {
     "name": "stdout",
     "output_type": "stream",
     "text": [
      "120\n"
     ]
    }
   ],
   "source": [
    "n=5\n",
    "fac=1\n",
    "if i <0:\n",
    "    print('enter m')\n",
    "elif i==1:\n",
    "    print('enter 1')\n",
    "else:\n",
    "    for i in range(1,n+1):\n",
    "        fac=fac*i\n",
    "    print(fac)"
   ]
  },
  {
   "cell_type": "markdown",
   "id": "47ec3cc2",
   "metadata": {},
   "source": [
    "### 16.Write a lambda function to calculate the sum of the digits of a number.\n"
   ]
  },
  {
   "cell_type": "code",
   "execution_count": 75,
   "id": "ac5575e2",
   "metadata": {},
   "outputs": [],
   "source": [
    "sum1 = lambda n: sum(int(i) for i in str(n))"
   ]
  },
  {
   "cell_type": "code",
   "execution_count": 77,
   "id": "18ce4e8e",
   "metadata": {},
   "outputs": [
    {
     "data": {
      "text/plain": [
       "13"
      ]
     },
     "execution_count": 77,
     "metadata": {},
     "output_type": "execute_result"
    }
   ],
   "source": [
    "\n",
    "sum1(12334)"
   ]
  },
  {
   "cell_type": "code",
   "execution_count": null,
   "id": "e50ba99b",
   "metadata": {},
   "outputs": [],
   "source": []
  }
 ],
 "metadata": {
  "kernelspec": {
   "display_name": "Python 3 (ipykernel)",
   "language": "python",
   "name": "python3"
  },
  "language_info": {
   "codemirror_mode": {
    "name": "ipython",
    "version": 3
   },
   "file_extension": ".py",
   "mimetype": "text/x-python",
   "name": "python",
   "nbconvert_exporter": "python",
   "pygments_lexer": "ipython3",
   "version": "3.10.9"
  }
 },
 "nbformat": 4,
 "nbformat_minor": 5
}
