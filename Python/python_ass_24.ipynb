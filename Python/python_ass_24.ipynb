{
 "cells": [
  {
   "cell_type": "code",
   "execution_count": 1,
   "id": "2afea2ae",
   "metadata": {},
   "outputs": [],
   "source": [
    "import numpy as np"
   ]
  },
  {
   "cell_type": "markdown",
   "id": "156ef885",
   "metadata": {},
   "source": [
    "### 1.Write a NumPy program to compute cross-correlation of two given arrays"
   ]
  },
  {
   "cell_type": "code",
   "execution_count": 5,
   "id": "5d968b36",
   "metadata": {},
   "outputs": [
    {
     "name": "stdout",
     "output_type": "stream",
     "text": [
      "[80]\n"
     ]
    }
   ],
   "source": [
    "a=np.array([1,2,3,4])\n",
    "b=np.array([6,7,8,9])\n",
    "n=np.correlate(a,b)\n",
    "print(n)"
   ]
  },
  {
   "cell_type": "code",
   "execution_count": 6,
   "id": "a831b428",
   "metadata": {},
   "outputs": [
    {
     "name": "stdout",
     "output_type": "stream",
     "text": [
      "[ 9 26 50 80 65 46 24]\n"
     ]
    }
   ],
   "source": [
    "a=np.array([1,2,3,4])\n",
    "b=np.array([6,7,8,9])\n",
    "n=np.correlate(a,b,mode='full')\n",
    "print(n)"
   ]
  },
  {
   "cell_type": "markdown",
   "id": "8499afa5",
   "metadata": {},
   "source": [
    "### 2.Write a NumPy program to compute Pearson product-moment correlation coefficients of two given arrays"
   ]
  },
  {
   "cell_type": "code",
   "execution_count": 9,
   "id": "9de6fcc4",
   "metadata": {},
   "outputs": [
    {
     "name": "stdout",
     "output_type": "stream",
     "text": [
      "[[1. 1.]\n",
      " [1. 1.]]\n"
     ]
    }
   ],
   "source": [
    "a=np.array([1,2,3,4])\n",
    "b=np.array([6,7,8,9])\n",
    "n=np.corrcoef(a,b)\n",
    "print(n)"
   ]
  },
  {
   "cell_type": "code",
   "execution_count": 10,
   "id": "99f561e8",
   "metadata": {},
   "outputs": [
    {
     "name": "stdout",
     "output_type": "stream",
     "text": [
      "1.0\n"
     ]
    }
   ],
   "source": [
    "a=np.array([1,2,3,4])\n",
    "b=np.array([6,7,8,9])\n",
    "n=np.corrcoef(a,b)[0][1]\n",
    "print(n)"
   ]
  },
  {
   "cell_type": "markdown",
   "id": "181c0330",
   "metadata": {},
   "source": [
    "### 3.Write a NumPy program to compute the median of flattened given array."
   ]
  },
  {
   "cell_type": "code",
   "execution_count": 13,
   "id": "e24c9fc8",
   "metadata": {},
   "outputs": [
    {
     "name": "stdout",
     "output_type": "stream",
     "text": [
      "[1 2 3 4 5 6]\n"
     ]
    }
   ],
   "source": [
    "n=np.array([[1,2,3],[4,5,6]])\n",
    "new=n.flatten()\n",
    "print(new)"
   ]
  },
  {
   "cell_type": "code",
   "execution_count": 14,
   "id": "a250391b",
   "metadata": {},
   "outputs": [
    {
     "name": "stdout",
     "output_type": "stream",
     "text": [
      "3.5\n"
     ]
    }
   ],
   "source": [
    "t=np.median(new)\n",
    "print(t)"
   ]
  },
  {
   "cell_type": "markdown",
   "id": "21af45dd",
   "metadata": {},
   "source": [
    "### 4.Write a NumPy program to compute the weighted of a given array."
   ]
  },
  {
   "cell_type": "code",
   "execution_count": 19,
   "id": "f2c579b2",
   "metadata": {},
   "outputs": [
    {
     "name": "stdout",
     "output_type": "stream",
     "text": [
      "2.7222222222222223\n"
     ]
    }
   ],
   "source": [
    "n=np.array([1,2,3,4])\n",
    "w=np.array([0.5,0.2,0.4,0.7])\n",
    "new=np.average(n,weights=w)\n",
    "print(new)\n"
   ]
  },
  {
   "cell_type": "code",
   "execution_count": null,
   "id": "3b41c03c",
   "metadata": {},
   "outputs": [],
   "source": []
  },
  {
   "cell_type": "markdown",
   "id": "97163630",
   "metadata": {},
   "source": [
    "### 5. Write a NumPy program to calculate the difference between the maximum and the minimum values of a given array along the second axis"
   ]
  },
  {
   "cell_type": "code",
   "execution_count": 21,
   "id": "5f3e7963",
   "metadata": {},
   "outputs": [
    {
     "data": {
      "text/plain": [
       "7"
      ]
     },
     "execution_count": 21,
     "metadata": {},
     "output_type": "execute_result"
    }
   ],
   "source": [
    "n=np.array([2,3,6,7])\n",
    "t=n.max()\n",
    "t"
   ]
  },
  {
   "cell_type": "code",
   "execution_count": 23,
   "id": "f25dd197",
   "metadata": {},
   "outputs": [
    {
     "data": {
      "text/plain": [
       "2"
      ]
     },
     "execution_count": 23,
     "metadata": {},
     "output_type": "execute_result"
    }
   ],
   "source": [
    "m=n.min()\n",
    "m"
   ]
  },
  {
   "cell_type": "code",
   "execution_count": 24,
   "id": "89fbc017",
   "metadata": {},
   "outputs": [
    {
     "data": {
      "text/plain": [
       "5"
      ]
     },
     "execution_count": 24,
     "metadata": {},
     "output_type": "execute_result"
    }
   ],
   "source": [
    "f=t-m\n",
    "f"
   ]
  },
  {
   "cell_type": "code",
   "execution_count": 30,
   "id": "9822e020",
   "metadata": {},
   "outputs": [
    {
     "data": {
      "text/plain": [
       "array([3, 4])"
      ]
     },
     "execution_count": 30,
     "metadata": {},
     "output_type": "execute_result"
    }
   ],
   "source": [
    "# 2d array\n",
    "d=np.array([[2,3,4,5],[10,6,7,8]])\n",
    "x=np.max(d,axis=1)-np.min(d,axis=1)\n",
    "x"
   ]
  },
  {
   "cell_type": "markdown",
   "id": "78c19802",
   "metadata": {},
   "source": [
    "### 7.Write a NumPy program to get the indices of the sorted elements of a given array."
   ]
  },
  {
   "cell_type": "code",
   "execution_count": 32,
   "id": "83690a3b",
   "metadata": {},
   "outputs": [
    {
     "data": {
      "text/plain": [
       "array([0, 1, 2, 3, 4], dtype=int64)"
      ]
     },
     "execution_count": 32,
     "metadata": {},
     "output_type": "execute_result"
    }
   ],
   "source": [
    "n=np.array([2,3,5,6,7])\n",
    "t=np.argsort(n)\n",
    "t"
   ]
  },
  {
   "cell_type": "code",
   "execution_count": null,
   "id": "7c93d355",
   "metadata": {},
   "outputs": [],
   "source": []
  },
  {
   "cell_type": "markdown",
   "id": "4eafa967",
   "metadata": {},
   "source": [
    "### 8.Write a NumPy program to sort a given complex array using the real part first, then the imaginary part."
   ]
  },
  {
   "cell_type": "code",
   "execution_count": null,
   "id": "7bfc84e0",
   "metadata": {},
   "outputs": [],
   "source": [
    "# complex num=3j,2j\n",
    "arr = np.array([2+3j, 4-1j, 3+4j, 2-1j])"
   ]
  },
  {
   "cell_type": "code",
   "execution_count": null,
   "id": "bfc8afc2",
   "metadata": {},
   "outputs": [],
   "source": []
  },
  {
   "cell_type": "markdown",
   "id": "684aaa53",
   "metadata": {},
   "source": [
    "### 9.Write a NumPy program to sort the student id with increasing height of the students from given students id and height. Print the integer indices that describes the sort order by multiple columns and the sorted data"
   ]
  },
  {
   "cell_type": "code",
   "execution_count": null,
   "id": "08bdf2a6",
   "metadata": {},
   "outputs": [],
   "source": [
    "id=np.array([1,2,3,4])\n",
    "height=np.array([145,160,154,135])\n"
   ]
  },
  {
   "cell_type": "code",
   "execution_count": null,
   "id": "9df8827d",
   "metadata": {},
   "outputs": [],
   "source": []
  },
  {
   "cell_type": "code",
   "execution_count": null,
   "id": "b64a8b4d",
   "metadata": {},
   "outputs": [],
   "source": []
  },
  {
   "cell_type": "code",
   "execution_count": null,
   "id": "9d831cf0",
   "metadata": {},
   "outputs": [],
   "source": []
  }
 ],
 "metadata": {
  "kernelspec": {
   "display_name": "Python 3 (ipykernel)",
   "language": "python",
   "name": "python3"
  },
  "language_info": {
   "codemirror_mode": {
    "name": "ipython",
    "version": 3
   },
   "file_extension": ".py",
   "mimetype": "text/x-python",
   "name": "python",
   "nbconvert_exporter": "python",
   "pygments_lexer": "ipython3",
   "version": "3.10.9"
  }
 },
 "nbformat": 4,
 "nbformat_minor": 5
}
