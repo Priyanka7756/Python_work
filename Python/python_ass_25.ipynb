{
 "cells": [
  {
   "cell_type": "code",
   "execution_count": null,
   "id": "9f235b28",
   "metadata": {},
   "outputs": [],
   "source": []
  },
  {
   "cell_type": "code",
   "execution_count": null,
   "id": "6eacb28b",
   "metadata": {},
   "outputs": [],
   "source": [
    "# 1.Write a function that takes two numbers as arguments and returns their sum"
   ]
  },
  {
   "cell_type": "code",
   "execution_count": 1,
   "id": "e2620da8",
   "metadata": {},
   "outputs": [
    {
     "data": {
      "text/plain": [
       "11"
      ]
     },
     "execution_count": 1,
     "metadata": {},
     "output_type": "execute_result"
    }
   ],
   "source": [
    "def sum1(a,b):\n",
    "    return a+b\n",
    "sum1(5,6)\n",
    "    "
   ]
  },
  {
   "cell_type": "code",
   "execution_count": 2,
   "id": "19a164a5",
   "metadata": {},
   "outputs": [
    {
     "data": {
      "text/plain": [
       "'python programming'"
      ]
     },
     "execution_count": 2,
     "metadata": {},
     "output_type": "execute_result"
    }
   ],
   "source": [
    "# 2 Write a function that takes a string as an argument and prints it.\n",
    "def str1(a):\n",
    "   \n",
    "    return a\n",
    "str1('python programming')\n"
   ]
  },
  {
   "cell_type": "code",
   "execution_count": null,
   "id": "1add7f0f",
   "metadata": {},
   "outputs": [],
   "source": [
    "# 3 write a function that takes a list of numbers as an argument and returns the average of the numbers.\n"
   ]
  },
  {
   "cell_type": "code",
   "execution_count": 8,
   "id": "8ce57b0b",
   "metadata": {},
   "outputs": [
    {
     "name": "stdout",
     "output_type": "stream",
     "text": [
      "2.5\n"
     ]
    }
   ],
   "source": [
    "def lst1(a):\n",
    "    avg=sum(a)/len(a)\n",
    "    return avg\n",
    "new=[1,2,3,4]\n",
    "result=lst1(new)\n",
    "print(result)\n",
    "\n"
   ]
  },
  {
   "cell_type": "code",
   "execution_count": 7,
   "id": "3abcb04f",
   "metadata": {},
   "outputs": [
    {
     "data": {
      "text/plain": [
       "7"
      ]
     },
     "execution_count": 7,
     "metadata": {},
     "output_type": "execute_result"
    }
   ],
   "source": [
    "# 4 Write a function that takes a string as an argument and returns the number of words in the string.\n",
    "def num(a):\n",
    "    l=len(a)\n",
    "    return l\n",
    "num('python ')"
   ]
  },
  {
   "cell_type": "code",
   "execution_count": 9,
   "id": "6083ee44",
   "metadata": {},
   "outputs": [
    {
     "name": "stdout",
     "output_type": "stream",
     "text": [
      "1\n"
     ]
    }
   ],
   "source": [
    "# 5 Write a function that takes a list of numbers as an argument and returns the smallest number in the list\n",
    "def lst(a):\n",
    "    m=min(a)\n",
    "    return m\n",
    "new=[1,2,3,4]\n",
    "result=lst(new)\n",
    "print(result)\n"
   ]
  },
  {
   "cell_type": "code",
   "execution_count": 11,
   "id": "d1f26dc8",
   "metadata": {},
   "outputs": [
    {
     "data": {
      "text/plain": [
       "'pythonprogram'"
      ]
     },
     "execution_count": 11,
     "metadata": {},
     "output_type": "execute_result"
    }
   ],
   "source": [
    "# 6. Write a function that takes two strings as arguments and concatenates them.\n",
    "def str1(a,b):\n",
    "    c=a+b\n",
    "    return c\n",
    "str1('python','program')\n"
   ]
  },
  {
   "cell_type": "code",
   "execution_count": 16,
   "id": "475b0fab",
   "metadata": {},
   "outputs": [
    {
     "name": "stdout",
     "output_type": "stream",
     "text": [
      "2\n",
      "4\n",
      "6\n",
      "8\n",
      "10\n",
      "None\n"
     ]
    }
   ],
   "source": [
    "# 7.Write a function that takes a number as an argument and prints all the even numbers up to that number.\n",
    "def num(a):\n",
    "    for i in range(2,a+1,2):\n",
    "        print(i)\n",
    "        \n",
    "new=10\n",
    "result=num(new)\n",
    "print(result)\n"
   ]
  },
  {
   "cell_type": "code",
   "execution_count": null,
   "id": "9bdbc376",
   "metadata": {},
   "outputs": [],
   "source": [
    "# 8. Write a function that takes a list of numbers as an argument and returns a new list with the numbers squared."
   ]
  },
  {
   "cell_type": "code",
   "execution_count": 18,
   "id": "14527e18",
   "metadata": {},
   "outputs": [
    {
     "name": "stdout",
     "output_type": "stream",
     "text": [
      "[1, 4, 9, 16]\n"
     ]
    }
   ],
   "source": [
    "def sq(a):\n",
    "    s=[]\n",
    "    for i in a:\n",
    "        s.append(i**2)\n",
    "    return s\n",
    "new=[1,2,3,4]\n",
    "result=sq(new)\n",
    "print(result)"
   ]
  },
  {
   "cell_type": "code",
   "execution_count": 26,
   "id": "570e9ad0",
   "metadata": {},
   "outputs": [
    {
     "name": "stdout",
     "output_type": "stream",
     "text": [
      "True\n"
     ]
    }
   ],
   "source": [
    "# 9 Write a function that takes a string as an argument and returns True if the string is a palindrome, and False otherwise.\n",
    "\n",
    "def pali(a):\n",
    "    return a==a[::-1]\n",
    "\n",
    "n='ppp'\n",
    "result=pali(n)\n",
    "print(result)\n",
    "    "
   ]
  },
  {
   "cell_type": "code",
   "execution_count": 28,
   "id": "d30ac9ae",
   "metadata": {},
   "outputs": [
    {
     "data": {
      "text/plain": [
       "'MY NAME'"
      ]
     },
     "execution_count": 28,
     "metadata": {},
     "output_type": "execute_result"
    }
   ],
   "source": [
    "\n",
    "# 10. Write a function that takes a list of strings as an argument and prints each string in uppercase.\n",
    "def st(a):\n",
    "    l=a.upper()\n",
    "    return l\n",
    "st('my name')"
   ]
  },
  {
   "cell_type": "code",
   "execution_count": null,
   "id": "968db5fb",
   "metadata": {},
   "outputs": [],
   "source": [
    "# 11 Write a function that takes a list of strings as an argument and returns the length of the longest common prefix among the strings."
   ]
  },
  {
   "cell_type": "code",
   "execution_count": null,
   "id": "f36dcd47",
   "metadata": {},
   "outputs": [],
   "source": []
  },
  {
   "cell_type": "code",
   "execution_count": null,
   "id": "340b85bc",
   "metadata": {},
   "outputs": [],
   "source": []
  },
  {
   "cell_type": "code",
   "execution_count": null,
   "id": "c384a412",
   "metadata": {},
   "outputs": [],
   "source": []
  },
  {
   "cell_type": "code",
   "execution_count": null,
   "id": "b7ab9b88",
   "metadata": {},
   "outputs": [],
   "source": []
  }
 ],
 "metadata": {
  "kernelspec": {
   "display_name": "Python 3 (ipykernel)",
   "language": "python",
   "name": "python3"
  },
  "language_info": {
   "codemirror_mode": {
    "name": "ipython",
    "version": 3
   },
   "file_extension": ".py",
   "mimetype": "text/x-python",
   "name": "python",
   "nbconvert_exporter": "python",
   "pygments_lexer": "ipython3",
   "version": "3.10.9"
  }
 },
 "nbformat": 4,
 "nbformat_minor": 5
}
