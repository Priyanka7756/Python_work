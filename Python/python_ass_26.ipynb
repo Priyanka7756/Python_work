{
 "cells": [
  {
   "cell_type": "code",
   "execution_count": 3,
   "id": "d06ab91e",
   "metadata": {},
   "outputs": [
    {
     "name": "stdout",
     "output_type": "stream",
     "text": [
      "True\n"
     ]
    }
   ],
   "source": [
    "# 1.Write a function that takes a number as an argument and returns True if it is a prime number, and False otherwise.\n",
    "def num(a):\n",
    "    if a==1:\n",
    "        return False\n",
    "    elif a==2:\n",
    "        return True\n",
    "    else:\n",
    "        for i in range(2,a):\n",
    "            if (a%i==0):\n",
    "                return False\n",
    "        return True\n",
    "print(num(5))"
   ]
  },
  {
   "cell_type": "code",
   "execution_count": 5,
   "id": "2541c72a",
   "metadata": {},
   "outputs": [
    {
     "name": "stdout",
     "output_type": "stream",
     "text": [
      "6\n"
     ]
    }
   ],
   "source": [
    "# 2.Write a function that takes a list of numbers as an argument and returns the sum of the even numbers in the list.\n",
    "def num(a):\n",
    "    c=0\n",
    "    for i in a:\n",
    "        if i%2==0:\n",
    "            c=c+i\n",
    "        \n",
    "    \n",
    "    return c\n",
    "new=[1,2,3,4]\n",
    "result=num(new)\n",
    "print(result)"
   ]
  },
  {
   "cell_type": "code",
   "execution_count": 6,
   "id": "c2411fe4",
   "metadata": {},
   "outputs": [
    {
     "name": "stdout",
     "output_type": "stream",
     "text": [
      "pyth*n pr*gr*m\n"
     ]
    }
   ],
   "source": [
    "# 3.Write a function that takes a string as an argument and returns a new string with the vowels replaced by '*'.\n",
    "def st(a):\n",
    "    v='aeiouAEIOU'\n",
    "    l=''\n",
    "    for i in a:\n",
    "        if i in v:\n",
    "            l=l+\"*\"\n",
    "        else:\n",
    "            l=l+i\n",
    "    return l\n",
    "new='python program'\n",
    "result=st(new)\n",
    "print(result)\n",
    "    "
   ]
  },
  {
   "cell_type": "code",
   "execution_count": null,
   "id": "d310d1ad",
   "metadata": {},
   "outputs": [],
   "source": [
    "# 4 Write a function that takes a list of numbers as an argument and returns a new list with only the prime numbers."
   ]
  },
  {
   "cell_type": "code",
   "execution_count": 7,
   "id": "2dbf4714",
   "metadata": {},
   "outputs": [
    {
     "ename": "TypeError",
     "evalue": "'list' object cannot be interpreted as an integer",
     "output_type": "error",
     "traceback": [
      "\u001b[1;31m---------------------------------------------------------------------------\u001b[0m",
      "\u001b[1;31mTypeError\u001b[0m                                 Traceback (most recent call last)",
      "Cell \u001b[1;32mIn[7], line 12\u001b[0m\n\u001b[0;32m     10\u001b[0m         \u001b[38;5;28;01mreturn\u001b[39;00m \u001b[38;5;28;01mTrue\u001b[39;00m\n\u001b[0;32m     11\u001b[0m new\u001b[38;5;241m=\u001b[39m[\u001b[38;5;241m1\u001b[39m,\u001b[38;5;241m2\u001b[39m,\u001b[38;5;241m3\u001b[39m,\u001b[38;5;241m4\u001b[39m,\u001b[38;5;241m6\u001b[39m]\n\u001b[1;32m---> 12\u001b[0m result\u001b[38;5;241m=\u001b[39m\u001b[43mprim\u001b[49m\u001b[43m(\u001b[49m\u001b[43mnew\u001b[49m\u001b[43m)\u001b[49m\n\u001b[0;32m     13\u001b[0m \u001b[38;5;28mprint\u001b[39m(result)\n",
      "Cell \u001b[1;32mIn[7], line 7\u001b[0m, in \u001b[0;36mprim\u001b[1;34m(a)\u001b[0m\n\u001b[0;32m      5\u001b[0m     \u001b[38;5;28;01mreturn\u001b[39;00m \u001b[38;5;28;01mTrue\u001b[39;00m\n\u001b[0;32m      6\u001b[0m \u001b[38;5;28;01melse\u001b[39;00m:\n\u001b[1;32m----> 7\u001b[0m     \u001b[38;5;28;01mfor\u001b[39;00m i \u001b[38;5;129;01min\u001b[39;00m \u001b[38;5;28;43mrange\u001b[39;49m\u001b[43m(\u001b[49m\u001b[38;5;241;43m2\u001b[39;49m\u001b[43m,\u001b[49m\u001b[43ma\u001b[49m\u001b[43m)\u001b[49m:\n\u001b[0;32m      8\u001b[0m         \u001b[38;5;28;01mif\u001b[39;00m a\u001b[38;5;241m%\u001b[39mi\u001b[38;5;241m==\u001b[39m\u001b[38;5;241m0\u001b[39m:\n\u001b[0;32m      9\u001b[0m             \u001b[38;5;28;01mreturn\u001b[39;00m \u001b[38;5;28;01mFalse\u001b[39;00m\n",
      "\u001b[1;31mTypeError\u001b[0m: 'list' object cannot be interpreted as an integer"
     ]
    }
   ],
   "source": [
    "def prim(a):\n",
    "    \n",
    "    if a==1:\n",
    "        return False\n",
    "    elif a==2:\n",
    "        return True\n",
    "    else:\n",
    "        for i in range(2,a):\n",
    "            if a%i==0:\n",
    "                return False\n",
    "        return True\n",
    "new=[1,2,3,4,6]\n",
    "result=prim(new)\n",
    "print(result)\n",
    "            "
   ]
  },
  {
   "cell_type": "code",
   "execution_count": 11,
   "id": "4d5442d6",
   "metadata": {},
   "outputs": [
    {
     "name": "stdout",
     "output_type": "stream",
     "text": [
      "[2, 3, 5, 7]\n"
     ]
    }
   ],
   "source": [
    "def prim(n):\n",
    "    lst=[]\n",
    "    for num in n:\n",
    "        if pri(num):\n",
    "            lst.append(num)\n",
    "    return lst\n",
    "def pri(num):\n",
    "    if num<2:\n",
    "        return False\n",
    "    \n",
    "    for i in range(2,int(num**0.5)+1):\n",
    "        if num%i==0:\n",
    "            return False\n",
    "    return True\n",
    "new=[1,2,3,4,5,6,7]\n",
    "result=prim(new)\n",
    "print(result)\n",
    "        "
   ]
  },
  {
   "cell_type": "code",
   "execution_count": 9,
   "id": "5f4ee40b",
   "metadata": {},
   "outputs": [],
   "source": [
    "# 5 Write a function that takes a string as an argument and returns the number of occurrences of a specific character."
   ]
  },
  {
   "cell_type": "code",
   "execution_count": 15,
   "id": "9c0f2560",
   "metadata": {},
   "outputs": [
    {
     "data": {
      "text/plain": [
       "2"
      ]
     },
     "execution_count": 15,
     "metadata": {},
     "output_type": "execute_result"
    }
   ],
   "source": [
    "def st(a,b):\n",
    "    count=0\n",
    "    for i in a:\n",
    "        if i==b:\n",
    "            count=count+1\n",
    "    return count\n",
    "st('python program','p')\n",
    "    "
   ]
  },
  {
   "cell_type": "code",
   "execution_count": 19,
   "id": "1c8ef5a8",
   "metadata": {},
   "outputs": [
    {
     "name": "stdout",
     "output_type": "stream",
     "text": [
      "myp\n"
     ]
    }
   ],
   "source": [
    "# 6.Write a function that takes a list of strings as an argument and returns the concatenation of all the strings.\n",
    "def st(a):\n",
    "    r=\"\"\n",
    "    for i in a:\n",
    "        r=r+i\n",
    "    return r\n",
    "new=['my','p']\n",
    "\n",
    "result=st(new)\n",
    "print(result)"
   ]
  },
  {
   "cell_type": "code",
   "execution_count": 23,
   "id": "fc0e1fef",
   "metadata": {},
   "outputs": [
    {
     "data": {
      "text/plain": [
       "120"
      ]
     },
     "execution_count": 23,
     "metadata": {},
     "output_type": "execute_result"
    }
   ],
   "source": [
    "# 7.Write a function that takes a number as an argument and returns its factorial.\n",
    "def fac(a):\n",
    "    n=1\n",
    "    for i in range(2,a+1):\n",
    "        n=n*i\n",
    "    return n\n",
    "fac(5)"
   ]
  },
  {
   "cell_type": "code",
   "execution_count": null,
   "id": "c79f53f9",
   "metadata": {},
   "outputs": [],
   "source": [
    "# 8.Write a function that takes a list of numbers as an argument and returns the product of all the numbers."
   ]
  },
  {
   "cell_type": "code",
   "execution_count": 35,
   "id": "1e18a4b2",
   "metadata": {},
   "outputs": [
    {
     "name": "stdout",
     "output_type": "stream",
     "text": [
      "24\n"
     ]
    }
   ],
   "source": [
    "def num(a):\n",
    "    c=1\n",
    "    for i in a:\n",
    "        c=c*i\n",
    "    return c\n",
    "new=[1,2,3,4]\n",
    "result=num(new)\n",
    "print(result)"
   ]
  },
  {
   "cell_type": "code",
   "execution_count": null,
   "id": "d2a3c3ba",
   "metadata": {},
   "outputs": [],
   "source": [
    "# 9. Write a function that takes a string as an argument and returns a new string with the words in reverse order."
   ]
  },
  {
   "cell_type": "code",
   "execution_count": 36,
   "id": "4999be57",
   "metadata": {},
   "outputs": [
    {
     "data": {
      "text/plain": [
       "'ayirp'"
      ]
     },
     "execution_count": 36,
     "metadata": {},
     "output_type": "execute_result"
    }
   ],
   "source": [
    "def rev(a):\n",
    "    return a[::-1]\n",
    "rev('priya')"
   ]
  },
  {
   "cell_type": "code",
   "execution_count": null,
   "id": "33a26a42",
   "metadata": {},
   "outputs": [],
   "source": [
    "# 10.Write a function that takes a list of strings as an argument and returns a new list with the strings sorted in alphabetical order."
   ]
  },
  {
   "cell_type": "code",
   "execution_count": 38,
   "id": "feffa48f",
   "metadata": {},
   "outputs": [
    {
     "name": "stdout",
     "output_type": "stream",
     "text": [
      "['my', 'priya']\n"
     ]
    }
   ],
   "source": [
    "def st(b):\n",
    "    a=sorted(b)\n",
    "    return a\n",
    "new=['priya','my']\n",
    "result=st(new)\n",
    "print(result)"
   ]
  },
  {
   "cell_type": "code",
   "execution_count": null,
   "id": "8782aa08",
   "metadata": {},
   "outputs": [],
   "source": []
  }
 ],
 "metadata": {
  "kernelspec": {
   "display_name": "Python 3 (ipykernel)",
   "language": "python",
   "name": "python3"
  },
  "language_info": {
   "codemirror_mode": {
    "name": "ipython",
    "version": 3
   },
   "file_extension": ".py",
   "mimetype": "text/x-python",
   "name": "python",
   "nbconvert_exporter": "python",
   "pygments_lexer": "ipython3",
   "version": "3.10.9"
  }
 },
 "nbformat": 4,
 "nbformat_minor": 5
}
