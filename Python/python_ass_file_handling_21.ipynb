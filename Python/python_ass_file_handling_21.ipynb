{
 "cells": [
  {
   "cell_type": "markdown",
   "id": "e7fc9cfc",
   "metadata": {},
   "source": [
    "### 1.How do you open a file for reading in Python?\n",
    "\n"
   ]
  },
  {
   "cell_type": "code",
   "execution_count": null,
   "id": "bd3ed4cd",
   "metadata": {},
   "outputs": [],
   "source": [
    "# using with open for 'r'\n",
    "with open('test.txt','r') as file\n",
    "pass"
   ]
  },
  {
   "cell_type": "markdown",
   "id": "3eab855c",
   "metadata": {},
   "source": [
    "### 2.How do you open a file for writing in Python?\n"
   ]
  },
  {
   "cell_type": "code",
   "execution_count": 2,
   "id": "32177386",
   "metadata": {},
   "outputs": [
    {
     "data": {
      "text/plain": [
       "12"
      ]
     },
     "execution_count": 2,
     "metadata": {},
     "output_type": "execute_result"
    }
   ],
   "source": [
    "name=open ('temp.txt','w')  # using 'w for write'\n",
    "name.write('hello python')\n",
    "\n"
   ]
  },
  {
   "cell_type": "markdown",
   "id": "a48c9a5f",
   "metadata": {},
   "source": [
    "### 3. How do you read the contents of a file in Python?\n"
   ]
  },
  {
   "cell_type": "code",
   "execution_count": null,
   "id": "e304ae30",
   "metadata": {},
   "outputs": [],
   "source": [
    "with open('temp.txt','r') as file\n",
    "new=file.read()\n",
    "for line in file.readlines():\n",
    "    print(line)\n"
   ]
  },
  {
   "cell_type": "markdown",
   "id": "2ab3f46a",
   "metadata": {},
   "source": [
    "### 4.How do you write to a file in Python?\n"
   ]
  },
  {
   "cell_type": "code",
   "execution_count": null,
   "id": "476144e5",
   "metadata": {},
   "outputs": [],
   "source": [
    "with open(\"new.txt\", \"w\") as f:\n",
    "\n",
    "    f.write(\"python programming\")\n",
    "   \n",
    "   "
   ]
  },
  {
   "cell_type": "markdown",
   "id": "3c063127",
   "metadata": {},
   "source": [
    "### 5.How do you append to a file in Python?\n"
   ]
  },
  {
   "cell_type": "code",
   "execution_count": null,
   "id": "58ab311a",
   "metadata": {},
   "outputs": [],
   "source": [
    "file = open('new.txt', 'a')\n",
    "file.write(\"add new line\")\n",
    "file.close()"
   ]
  },
  {
   "cell_type": "markdown",
   "id": "2495deb7",
   "metadata": {},
   "source": [
    "### 6.How do you close a file in Python?\n"
   ]
  },
  {
   "cell_type": "code",
   "execution_count": null,
   "id": "1a79a709",
   "metadata": {},
   "outputs": [],
   "source": [
    "file=open('new.txt','r')\n",
    "file.close()"
   ]
  },
  {
   "cell_type": "markdown",
   "id": "1e924167",
   "metadata": {},
   "source": [
    "### 7. How do you handle errors while reading or writing a file in Python?\n"
   ]
  },
  {
   "cell_type": "code",
   "execution_count": null,
   "id": "e1d3d5b8",
   "metadata": {},
   "outputs": [],
   "source": [
    "\n",
    "try:\n",
    "    # Open  reading or writing\n",
    "    file = open(\"new.txt\", \"r\")\n",
    "\n",
    "    # read\n",
    "\n",
    "except FileNotFoundError:\n",
    "\n",
    "    print(\"Error: File not found.\")"
   ]
  },
  {
   "cell_type": "markdown",
   "id": "eb42ca0b",
   "metadata": {},
   "source": [
    "### 8.How do you iterate through the lines of a file in Python?\n"
   ]
  },
  {
   "cell_type": "code",
   "execution_count": null,
   "id": "3bb74eaa",
   "metadata": {},
   "outputs": [],
   "source": [
    "# using for loop\n",
    "with open('new.txt', 'r') as f:\n",
    "    for line in f:\n",
    "\n",
    "        print(line.strip())"
   ]
  },
  {
   "cell_type": "markdown",
   "id": "c3fdb5fa",
   "metadata": {},
   "source": [
    "### 9.How do you use the \"with\" statement for file handling in Python?\n"
   ]
  },
  {
   "cell_type": "code",
   "execution_count": null,
   "id": "5d697d01",
   "metadata": {},
   "outputs": [],
   "source": [
    "#  with statement is used to open the file "
   ]
  },
  {
   "cell_type": "code",
   "execution_count": 3,
   "id": "af528d51",
   "metadata": {},
   "outputs": [],
   "source": [
    "### 10. How do you use the \"os\" module for file handling in Python, for example, to check if a file exists or to create a directory?\n"
   ]
  },
  {
   "cell_type": "code",
   "execution_count": 4,
   "id": "2dd3b5a4",
   "metadata": {},
   "outputs": [
    {
     "data": {
      "text/plain": [
       "'C:\\\\Users\\\\CITS\\\\Downloads'"
      ]
     },
     "execution_count": 4,
     "metadata": {},
     "output_type": "execute_result"
    }
   ],
   "source": [
    "pwd"
   ]
  },
  {
   "cell_type": "code",
   "execution_count": 6,
   "id": "0ae92cf6",
   "metadata": {},
   "outputs": [
    {
     "name": "stdout",
     "output_type": "stream",
     "text": [
      "is exists\n"
     ]
    }
   ],
   "source": [
    "# os module in Python provides a set of functions for interacting with the operating system, including file handling.\n",
    "\n",
    "import os\n",
    "\n",
    "file_path = 'C:\\\\Users\\\\CITS\\\\Downloads/temp.txt'\n",
    "\n",
    "if os.path.exists(file_path):\n",
    "    print('is exists')\n",
    "else:\n",
    "    print('File  not exist')"
   ]
  },
  {
   "cell_type": "code",
   "execution_count": null,
   "id": "bd1677bb",
   "metadata": {},
   "outputs": [],
   "source": []
  },
  {
   "cell_type": "code",
   "execution_count": null,
   "id": "f7568722",
   "metadata": {},
   "outputs": [],
   "source": []
  }
 ],
 "metadata": {
  "kernelspec": {
   "display_name": "Python 3 (ipykernel)",
   "language": "python",
   "name": "python3"
  },
  "language_info": {
   "codemirror_mode": {
    "name": "ipython",
    "version": 3
   },
   "file_extension": ".py",
   "mimetype": "text/x-python",
   "name": "python",
   "nbconvert_exporter": "python",
   "pygments_lexer": "ipython3",
   "version": "3.10.9"
  }
 },
 "nbformat": 4,
 "nbformat_minor": 5
}
