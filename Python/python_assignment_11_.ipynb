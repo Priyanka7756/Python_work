{
 "cells": [
  {
   "cell_type": "markdown",
   "id": "cd1647a1",
   "metadata": {},
   "source": [
    "### 1.Q1. Write a Python program to filter the height and width of students, which\t\t\t\t\t\t\t\n",
    "are stored in a dictionary.\t\t\t\t\t\t\t\n",
    "Original Dictionary:\t\t\t\t\t\t\t\n",
    "{'Cierra Vega\": (6.2, 70), ‘Alden Cantrell’: (5.9, 65), 'Kierra Gentry\": {6.0, 68),\t\t\t\t\t\t\t\n",
    "‘Pierre Cox\": (5.8, 66)}\t\t\t\t\t\t\t\n",
    "Height > 6ft and Weight> 70kg:\t\t\t\t\t\t\t\n",
    "{'CierraVega': (6.2, 70)}\t\t\t\t\t\t\t\n"
   ]
  },
  {
   "cell_type": "code",
   "execution_count": 20,
   "id": "57976eab",
   "metadata": {},
   "outputs": [
    {
     "name": "stdout",
     "output_type": "stream",
     "text": [
      "{'Cierra Vega': (6.2, 70), 'Alden Cantrell': (5.9, 65), 'Kierra Gentry': (6.0, 68), 'Pierre Cox': (5.8, 66)}\n",
      "filter dict:  {'Cierra Vega': (6.2, 70)}\n"
     ]
    }
   ],
   "source": [
    "def dict1(students):            # define function\n",
    "    result = {key: value for key, value in students.items() if value[0] >=6.0 and value[1] >=70}  # using for loop \n",
    "    return result    \n",
    " \n",
    "students = {'Cierra Vega': (6.2, 70), 'Alden Cantrell': (5.9, 65), 'Kierra Gentry': (6.0, 68), 'Pierre Cox': (5.8, 66)}\n",
    "\n",
    "print(students)\n",
    "\n",
    "print('filter dict: ',dict1(students))"
   ]
  },
  {
   "cell_type": "markdown",
   "id": "a3f0e58c",
   "metadata": {},
   "source": [
    "### 2. Q2. Write a Python program to convert more than one list to nested\t\t\t\t\t\t\n",
    "dictionary.\t\t\t\t\t\t\n"
   ]
  },
  {
   "cell_type": "code",
   "execution_count": 4,
   "id": "71092cae",
   "metadata": {},
   "outputs": [
    {
     "data": {
      "text/plain": [
       "{'priya': 'latur', 'neha': 'kolhapur', 'priti': 'pune'}"
      ]
     },
     "execution_count": 4,
     "metadata": {},
     "output_type": "execute_result"
    }
   ],
   "source": [
    "a=['priya','neha','priti']           # created 2 list and fist convert it into dict and zip with a and b\n",
    "b=['latur','kolhapur','pune']\n",
    "\n",
    "\n",
    "dict1=dict(zip(a,b))\n",
    "dict1"
   ]
  },
  {
   "cell_type": "code",
   "execution_count": 1,
   "id": "1c961be7",
   "metadata": {},
   "outputs": [
    {
     "name": "stdout",
     "output_type": "stream",
     "text": [
      "[{'priya': {'latur': 12}}, {'neha': {'kolhapur': 13}}, {'priti': {'pune': 14}}]\n"
     ]
    }
   ],
   "source": [
    "# created 3 list \n",
    "a=['priya','neha','priti']\n",
    "b=['latur','kolhapur','pune']\n",
    "c=[12,13,14]\n",
    "\n",
    "\n",
    "def dict1(l1, l2, l3):\n",
    "    result = [{x: {y: z}} for (x, y, z) in zip(l1, l2, l3)]   # using for loop zip 3 list togather \n",
    "    \n",
    "    return result\n",
    "\n",
    "\n",
    "print(dict1(a,b,c))\n"
   ]
  },
  {
   "cell_type": "markdown",
   "id": "ae52af81",
   "metadata": {},
   "source": [
    "### Q3.Write a Python program to filter a dictionary based on values\t\t\t\t\t\t\n"
   ]
  },
  {
   "cell_type": "code",
   "execution_count": 15,
   "id": "6e19788f",
   "metadata": {},
   "outputs": [
    {
     "name": "stdout",
     "output_type": "stream",
     "text": [
      "{'b': 23}\n"
     ]
    }
   ],
   "source": [
    "dict1={'a':12,'b':23,'c':20,'d':15} # create dict\n",
    "dict2={}                         # filter  value grater then 20\n",
    "for key,value in dict1.items():   \n",
    "    if value>20:\n",
    "        dict2[key]=value\n",
    "print(dict2)"
   ]
  },
  {
   "cell_type": "markdown",
   "id": "84431da2",
   "metadata": {},
   "source": [
    "### Q4.Write a Python program to drop empty Items from a given Dictionary\t\t\t\t\t\t\t\n"
   ]
  },
  {
   "cell_type": "code",
   "execution_count": 16,
   "id": "9f7ef6d6",
   "metadata": {},
   "outputs": [
    {
     "name": "stdout",
     "output_type": "stream",
     "text": [
      "{'a': 1, 'c': 3}\n"
     ]
    }
   ],
   "source": [
    "dict1 = {'a': 1, 'b': '', 'c': 3, 'd': None, 'e': []}  # created dict with empty,none values\n",
    "\n",
    "# drop empty items\n",
    "dict2 = {}\n",
    "\n",
    "for key, value in dict1.items():\n",
    "    if value:  # value is empty\n",
    "        dict2[key] = value\n",
    "\n",
    "print(dict2)"
   ]
  },
  {
   "cell_type": "code",
   "execution_count": 4,
   "id": "b3df7393",
   "metadata": {},
   "outputs": [
    {
     "name": "stdout",
     "output_type": "stream",
     "text": [
      "{'a': 1, 'c': 3}\n"
     ]
    }
   ],
   "source": [
    "dict1 = {'a': 1, 'b': '', 'c': 3, 'd': None, 'e': []}\n",
    "dict2={}\n",
    "for key,value in dict1.items():\n",
    "    if value:\n",
    "        dict2[key]=value\n",
    "print(dict2)"
   ]
  },
  {
   "cell_type": "code",
   "execution_count": null,
   "id": "708e803d",
   "metadata": {},
   "outputs": [],
   "source": []
  },
  {
   "cell_type": "markdown",
   "id": "c5240b1c",
   "metadata": {},
   "source": [
    "### Q5.Write a Python program to create a dictionary of keys x, y, and z where\t\t\t\t\t\t\t\n",
    "each key has as value a list from 11-20, 21-30, and 31-40 respectively. Access\t\t\t\t\t\t\t\n",
    "the fifth value of each key from the dictionary.\t\t\t\t\t\t\t\n"
   ]
  },
  {
   "cell_type": "code",
   "execution_count": 26,
   "id": "d945ff95",
   "metadata": {},
   "outputs": [
    {
     "name": "stdout",
     "output_type": "stream",
     "text": [
      "{'a': [11, 12, 13, 14, 15, 16, 17, 18, 19], 'b': [21, 22, 23, 24, 25, 26, 27, 28, 29], 'c': [31, 32, 33, 34, 35, 36, 37, 38, 39]}\n",
      "15\n",
      "25\n",
      "35\n"
     ]
    }
   ],
   "source": [
    "dict1={'a':list(range(11,20)),'b':list(range(21,30)),'c':list(range(31,40))}  # create dict with range aand list \n",
    "print(dict1)\n",
    "print(dict1['a'][4])    # using indexing access element \n",
    "print(dict1['b'][4])\n",
    "print(dict1['c'][4])"
   ]
  },
  {
   "cell_type": "code",
   "execution_count": null,
   "id": "f89bc093",
   "metadata": {},
   "outputs": [],
   "source": []
  }
 ],
 "metadata": {
  "kernelspec": {
   "display_name": "Python 3 (ipykernel)",
   "language": "python",
   "name": "python3"
  },
  "language_info": {
   "codemirror_mode": {
    "name": "ipython",
    "version": 3
   },
   "file_extension": ".py",
   "mimetype": "text/x-python",
   "name": "python",
   "nbconvert_exporter": "python",
   "pygments_lexer": "ipython3",
   "version": "3.10.9"
  }
 },
 "nbformat": 4,
 "nbformat_minor": 5
}
