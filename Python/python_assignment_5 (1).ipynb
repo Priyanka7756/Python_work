{
 "cells": [
  {
   "cell_type": "markdown",
   "id": "b7b0c85d",
   "metadata": {},
   "source": [
    "### Exercise 1: Print First 10 natural numbers using while loop"
   ]
  },
  {
   "cell_type": "code",
   "execution_count": 30,
   "id": "667a6033",
   "metadata": {},
   "outputs": [
    {
     "name": "stdout",
     "output_type": "stream",
     "text": [
      "1\n",
      "2\n",
      "3\n",
      "4\n",
      "5\n",
      "6\n",
      "7\n",
      "8\n",
      "9\n",
      "10\n"
     ]
    }
   ],
   "source": [
    "   \n",
    "# Using a while loop\n",
    "num = 1                   #  variable num with the value 1\n",
    "while num <=10:         # use while loop and mention <10 print the value of num and increment 1,until num will greater then 10\n",
    "    print(num)\n",
    "    num += 1"
   ]
  },
  {
   "cell_type": "code",
   "execution_count": 26,
   "id": "25ed09ed",
   "metadata": {},
   "outputs": [
    {
     "name": "stdout",
     "output_type": "stream",
     "text": [
      "1\n",
      "2\n",
      "3\n",
      "4\n",
      "5\n",
      "6\n",
      "7\n",
      "8\n",
      "9\n",
      "10\n"
     ]
    }
   ],
   "source": [
    "for i in range(1,11):#useing for loop and mention range\n",
    "    print(i)"
   ]
  },
  {
   "attachments": {
    "image.png": {
     "image/png": "[encoded data removed]"
    }
   },
   "cell_type": "markdown",
   "id": "7abcc9a7",
   "metadata": {},
   "source": [
    "### Exercise 2: Print the following pattern Write a program to print the following number pattern using a loop.\n",
    "Expected output:\n",
    "1\n",
    "1 2 \n",
    "1 2 3 \n",
    "1 2 3 4 \n",
    "1 2 3 4 5\n",
    "![image.png](attachment:image.png)"
   ]
  },
  {
   "cell_type": "code",
   "execution_count": 32,
   "id": "8c2cc707",
   "metadata": {},
   "outputs": [
    {
     "name": "stdout",
     "output_type": "stream",
     "text": [
      "1 \n",
      "1 2 \n",
      "1 2 3 \n",
      "1 2 3 4 \n",
      "1 2 3 4 5 \n"
     ]
    }
   ],
   "source": [
    "n=5                        # define variable give input\n",
    "for i in range(n):          # used nested for loop for rows and columnn\n",
    "    for j in range(i+1):          # which value need to add\n",
    "        print(j+1,end=\" \")\n",
    "    print()"
   ]
  },
  {
   "cell_type": "markdown",
   "id": "1711b378",
   "metadata": {},
   "source": [
    "### Exercise 3: Calculate the sum of all numbers from 1 to a given number ,Write a program to accept a number from a user and calculate the sum of all numbers from 1 to a given number\t\t\t\t\n",
    "For example, if the user entered 10 the output should be 55 (1+2+3+4+5+6+7+8+9+10)\t\t\t\t\n",
    "Expected Output:\t\t\t\t\n",
    "Enter number 10\t\t\t\t\n",
    "Sum is:  55\t\t\t\t\n"
   ]
  },
  {
   "cell_type": "code",
   "execution_count": 33,
   "id": "d78264cc",
   "metadata": {},
   "outputs": [
    {
     "name": "stdout",
     "output_type": "stream",
     "text": [
      "enter number: 10\n",
      "55\n"
     ]
    }
   ],
   "source": [
    "n=int(input('enter number: '))   # give input\n",
    "sum=0                             #  initialize a sum variable to 0.\n",
    "for i in range(1,n+1):            #  for loop to iterate through the numbers from 1 to num+1\n",
    "    sum+=i                           # range() function, and add each number to the sum\n",
    "print(sum)"
   ]
  },
  {
   "attachments": {
    "image.png": {
     "image/png": "[encoded data removed]"
    }
   },
   "cell_type": "markdown",
   "id": "57166ea4",
   "metadata": {},
   "source": [
    "### Exercise 4: Write a program to print multiplication table of a given number\t\t\t\t\n",
    "For example, num = 2 so the output should be\t\t\t\t\n",
    "2\t\t\t\t\n",
    "4\t\t\t\t\n",
    "6\t\t\t\t\n",
    "8\t\t\t\t\n",
    "10\t\t\t\t\n",
    "12\t\t\t\t\n",
    "14\t\t\t\t\n",
    "16\t\t\t\t\n",
    "18\t\t\t\t\n",
    "20\t\t\t\t\n",
    "![image.png](attachment:image.png)"
   ]
  },
  {
   "cell_type": "code",
   "execution_count": 11,
   "id": "5ee2cbb1",
   "metadata": {},
   "outputs": [
    {
     "name": "stdout",
     "output_type": "stream",
     "text": [
      "2\n",
      "4\n",
      "6\n",
      "8\n",
      "10\n",
      "12\n",
      "14\n",
      "16\n",
      "18\n",
      "20\n"
     ]
    }
   ],
   "source": [
    "n=2                 #input\n",
    "for i in range(1,11):  # for loop mesntion 1 to 11\n",
    "    print(n*i)          # mutiply number with range"
   ]
  },
  {
   "attachments": {
    "image.png": {
     "image/png": "[encoded data removed]"
    }
   },
   "cell_type": "markdown",
   "id": "e7f27e4f",
   "metadata": {},
   "source": [
    "### Exercise 5: Display numbers from a list using loop\t\n",
    "The number must be divisible by five\t\n",
    "If the number is greater than 150, then skip it and move to the next number\t\n",
    "If the number is greater than 500, then stop the loop\t\n",
    "Given:\t\n",
    "numbers = [12, 75, 150, 180, 145, 525, 50]\t\n",
    "Expected output:\t\n",
    "75\t\n",
    "150\t\n",
    "145\t\n",
    "![image.png](attachment:image.png)"
   ]
  },
  {
   "cell_type": "code",
   "execution_count": 20,
   "id": "860f73ef",
   "metadata": {},
   "outputs": [
    {
     "name": "stdout",
     "output_type": "stream",
     "text": [
      "75\n",
      "150\n",
      "145\n"
     ]
    }
   ],
   "source": [
    "numbers = [12, 75, 150, 180, 145, 525, 50]\n",
    "\n",
    "for num in numbers:          # Using a for loop\n",
    "    if num > 500:\n",
    "        break                # Stop the loop if number is greater than 500\n",
    "    if num > 150:\n",
    "        continue              # Skip the number if it's greater than 150\n",
    "    if num % 5 == 0:\n",
    "        print(num)            # Display the number if it's divisible by 5"
   ]
  },
  {
   "cell_type": "markdown",
   "id": "26f74077",
   "metadata": {},
   "source": [
    "### Exercise 6: Count the total number of digits in a number\t\t\n",
    "Write a program to count the total number of digits in a number using a while loop.\t\t\n",
    "For example, the number is 75869, so the output should be 5.\t\t\n"
   ]
  },
  {
   "cell_type": "code",
   "execution_count": 36,
   "id": "eeaf8f49",
   "metadata": {},
   "outputs": [
    {
     "name": "stdout",
     "output_type": "stream",
     "text": [
      "enter number: 75889\n",
      "Total: 5\n"
     ]
    }
   ],
   "source": [
    "# Input the number\n",
    "num = int(input('enter number: '))\n",
    "\n",
    "# Initialize  variable\n",
    "count = 0\n",
    "\n",
    "                         # Count the number of digits\n",
    "while num > 0:\n",
    "    count += 1\n",
    "    num //= 10\n",
    "\n",
    "# Display the result\n",
    "print(\"Total:\", count)\n"
   ]
  },
  {
   "cell_type": "code",
   "execution_count": 5,
   "id": "13317e0c",
   "metadata": {},
   "outputs": [
    {
     "name": "stdout",
     "output_type": "stream",
     "text": [
      "4\n"
     ]
    }
   ],
   "source": [
    "n=1234\n",
    "count=0\n",
    "while n>0:\n",
    "    count=count+1\n",
    "    n=n//10\n",
    "print(count)"
   ]
  },
  {
   "cell_type": "code",
   "execution_count": 4,
   "id": "b5f4d404",
   "metadata": {},
   "outputs": [
    {
     "data": {
      "text/plain": [
       "2"
      ]
     },
     "execution_count": 4,
     "metadata": {},
     "output_type": "execute_result"
    }
   ],
   "source": [
    "a=str(12334)\n",
    "a.count('3')"
   ]
  },
  {
   "attachments": {
    "image.png": {
     "image/png": "[encoded data removed]"
    }
   },
   "cell_type": "markdown",
   "id": "50ad05da",
   "metadata": {},
   "source": [
    "### Exercise 7: Print the following pattern\t\n",
    "Write a program to use for loop to print the following reverse number pattern\t\n",
    "5 4 3 2 1 \t\n",
    "4 3 2 1 \t\n",
    "3 2 1 \t\n",
    "2 1 \t\n",
    "1\t\n",
    "![image.png](attachment:image.png)"
   ]
  },
  {
   "cell_type": "code",
   "execution_count": 53,
   "id": "d654a8e3",
   "metadata": {},
   "outputs": [
    {
     "name": "stdout",
     "output_type": "stream",
     "text": [
      "5 4 3 2 1 \n",
      "4 3 2 1 \n",
      "3 2 1 \n",
      "2 1 \n",
      "1 \n"
     ]
    }
   ],
   "source": [
    "num_rows = 5\n",
    "                                      # Loop each row\n",
    "for i in range(num_rows, 0, -1):\n",
    "                                          # Loop to print numbers in each row\n",
    "    for j in range(i, 0, -1):\n",
    "        print(j, end=' ')\n",
    "    print()                          # Print each row"
   ]
  },
  {
   "cell_type": "markdown",
   "id": "df72b9e5",
   "metadata": {},
   "source": [
    "### Exercise 8: Print list in reverse order using a loop\t\n",
    "Given:\t\n",
    "list1 = [10, 20, 30, 40, 50]\t\n",
    "Expected output:\t\n",
    "50\t\n",
    "40\t\n",
    "30\t\n",
    "20\t\n",
    "10\t\n"
   ]
  },
  {
   "cell_type": "code",
   "execution_count": 38,
   "id": "8fcebe05",
   "metadata": {},
   "outputs": [
    {
     "name": "stdout",
     "output_type": "stream",
     "text": [
      "50\n",
      "40\n",
      "30\n",
      "20\n",
      "10\n"
     ]
    }
   ],
   "source": [
    "list1 = [10, 20, 30, 40, 50]  \n",
    "for i in list1[::-1]:  # using for loop do slicing in reverse \n",
    "    print(i)"
   ]
  },
  {
   "cell_type": "markdown",
   "id": "14f64a04",
   "metadata": {},
   "source": [
    "### Exercise 9: Display numbers from -10 to -1 using for loop\t\t\n",
    "Expected output:\t\t\n",
    "-10\t\t\n",
    "-9\t\t\n",
    "-8\t\t\n",
    "-7\t\t\n",
    "-6\t\t\n",
    "-5\t\t\n",
    "-4\t\t\n",
    "-3\t\t\n",
    "-2\t\t\n",
    "-1\t\t\n"
   ]
  },
  {
   "cell_type": "code",
   "execution_count": 40,
   "id": "fa425649",
   "metadata": {},
   "outputs": [
    {
     "name": "stdout",
     "output_type": "stream",
     "text": [
      "-10\n",
      "-9\n",
      "-8\n",
      "-7\n",
      "-6\n",
      "-5\n",
      "-4\n",
      "-3\n",
      "-2\n"
     ]
    }
   ],
   "source": [
    "for i in range(-10,-1): # using for loop inisitlize range from -10 to -0\n",
    "    print(i)"
   ]
  },
  {
   "cell_type": "markdown",
   "id": "ee97bd0f",
   "metadata": {},
   "source": [
    "### Exercise 10: Use else block to display a message “Done” after successful execution of for loop\t\t\t\t\t\t\n",
    "For example, the following loop will execute without any error.\t\t\t\t\t\t\n",
    "Given:\t\t\t\t\t\t\n",
    "for i in range(5):\t\t\t\t\t\t\n",
    "    print(i)\t\t\t\t\t\t\n",
    "Expected output:\t\t\t\t\t\t\n",
    "0\t\t\t\t\t\t\n",
    "1\t\t\t\t\t\t\n",
    "2\t\t\t\t\t\t\n",
    "3\t\t\t\t\t\t\n",
    "4\t\t\t\t\t\t\n",
    "Done!\t\t\t\t\t\t\n"
   ]
  },
  {
   "cell_type": "code",
   "execution_count": 44,
   "id": "8c719539",
   "metadata": {},
   "outputs": [
    {
     "name": "stdout",
     "output_type": "stream",
     "text": [
      "0\n",
      "1\n",
      "2\n",
      "3\n",
      "4\n",
      "done\n"
     ]
    }
   ],
   "source": [
    "for i  in range(5):\n",
    "    print(i)\n",
    "else:\n",
    "    print('done')"
   ]
  },
  {
   "attachments": {
    "image.png": {
     "image/png": "[encoded data removed]"
    }
   },
   "cell_type": "markdown",
   "id": "7b28f253",
   "metadata": {},
   "source": [
    "### Exercise 11: Write a program to display all prime numbers within a range\t\t\t\t\t\t\t\t\t\t\t\t\n",
    "Note: A Prime Number is a number that cannot be made by multiplying other whole numbers. A prime number is a natural number greater than 1 that is not a product of two smaller natural numbers\t\t\t\t\t\t\t\t\t\t\t\t\n",
    "Examples:\t\t\t\t\t\t\t\t\t\t\t\t\n",
    "6 is not a prime mumber because it can be made by 2×3 = 6\t\t\t\t\t\t\t\t\t\t\t\t\n",
    "37 is a prime number because no other whole numbers multiply together to make it.\t\t\t\t\t\t\t\t\t\t\t\t\n",
    "Given:\t\t\t\t\t\t\t\t\t\t\t\t\n",
    "#### range\t\t\t\t\t\t\t\t\t\t\t\t\n",
    "start = 25\t\t\t\t\t\t\t\t\t\t\t\t\n",
    "end = 50\t\t\t\t\t\t\t\t\t\t\t\t\n",
    "Expected output:\t\t\t\t\t\t\t\t\t\t\t\t\n",
    "Prime numbers between 25 and 50 are:\t\t\t\t\t\t\t\t\t\t\t\t\n",
    "29\t\t\t\t\t\t\t\t\t\t\t\t\n",
    "31\t\t\t\t\t\t\t\t\t\t\t\t\n",
    "37\t\t\t\t\t\t\t\t\t\t\t\t\n",
    "41\t\t\t\t\t\t\t\t\t\t\t\t\n",
    "43\t\t\t\t\t\t\t\t\t\t\t\t\n",
    "47\t\t\t\t\t\t\t\t\t\t\t\t\n",
    "![image.png](attachment:image.png)"
   ]
  },
  {
   "cell_type": "code",
   "execution_count": 57,
   "id": "1d29c705",
   "metadata": {},
   "outputs": [
    {
     "name": "stdout",
     "output_type": "stream",
     "text": [
      "Enter start : 25\n",
      "Enter end num : 50\n",
      "29 31 37 41 43 47 "
     ]
    }
   ],
   "source": [
    "a = int(input(\"Enter start : \"))    # mention start and end \n",
    "b = int(input(\"Enter end num : \"))\n",
    "\n",
    "for j in range(a, b):                 # useing for loop define range strat and end \n",
    "    if j > 1:\n",
    "        for i in range(2, j):\n",
    "            if (j % i) == 0:               \n",
    "                break\n",
    "        else:\n",
    "            print(j, end=\" \")"
   ]
  },
  {
   "attachments": {
    "image.png": {
     "image/png": "[encoded data removed]"
    }
   },
   "cell_type": "markdown",
   "id": "123b253a",
   "metadata": {},
   "source": [
    "### Exercise 12: Display Fibonacci series up to 10 terms\t\t\t\t\t\t\t\n",
    "The Fibonacci Sequence is a series of numbers. The next number is found by adding up the two numbers before it. The first two numbers are 0 and 1.\t\t\t\t\t\t\t\n",
    "For example, 0, 1, 1, 2, 3, 5, 8, 13, 21. The next number in this series above is 13+21 = 34.\t\t\t\t\t\t\t\n",
    "Expected output:\t\t\t\t\t\t\t\n",
    "Fibonacci sequence:\t\t\t\t\t\t\t\n",
    "0  1  1  2  3  5  8  13  21  34\t\t\t\t\t\t\t\n",
    "![image.png](attachment:image.png)"
   ]
  },
  {
   "cell_type": "code",
   "execution_count": 45,
   "id": "24c4c0bc",
   "metadata": {},
   "outputs": [
    {
     "name": "stdout",
     "output_type": "stream",
     "text": [
      "0\n",
      "1\n",
      "1\n",
      "2\n",
      "3\n",
      "5\n",
      "8\n",
      "13\n",
      "21\n",
      "34\n"
     ]
    }
   ],
   "source": [
    "a, b = 0, 1               # 1,1,2,3,5\n",
    "\n",
    "for i in range(10):     # using for loop define range\n",
    "    print(a)\n",
    "    a, b = b, a + b"
   ]
  },
  {
   "cell_type": "markdown",
   "id": "956fb1c2",
   "metadata": {},
   "source": [
    "### Exercise 13: Find the factorial of a given number\t\t\t\t\n",
    "Write a program to use the loop to find the factorial of a given number.\t\t\t\t\n",
    "The factorial (symbol: !) means to multiply all whole numbers from the chosen number down to 1.\t\t\t\t\n",
    "For example: calculate the factorial of 5\t\t\t\t\n",
    "5! = 5 × 4 × 3 × 2 × 1 = 120\t\t\t\t\n",
    "Expected output:\t\t\t\t\n",
    "120\t\t\t\t\n"
   ]
  },
  {
   "cell_type": "code",
   "execution_count": 47,
   "id": "8aa2660b",
   "metadata": {},
   "outputs": [
    {
     "name": "stdout",
     "output_type": "stream",
     "text": [
      "120\n"
     ]
    }
   ],
   "source": [
    "import math\n",
    "from math import factorial\n",
    "fac=factorial(5)\n",
    "print(fac)"
   ]
  },
  {
   "cell_type": "markdown",
   "id": "d91436ae",
   "metadata": {},
   "source": [
    "### Exercise 14: Reverse a given integer number\n",
    "Given:\n",
    "76542\n",
    "Expected output:\n",
    "24567\n"
   ]
  },
  {
   "cell_type": "code",
   "execution_count": 51,
   "id": "78399d43",
   "metadata": {},
   "outputs": [
    {
     "name": "stdout",
     "output_type": "stream",
     "text": [
      "Enter number: 76542\n",
      "24567\n"
     ]
    }
   ],
   "source": [
    "# Function to \n",
    "def rev_int(num):\n",
    "    rev = 0                                 # Initialize the reverse variable to 0\n",
    "\n",
    "                                            # Loop to reverse the integer\n",
    "    while num > 0:\n",
    "        a = num % 10                      # Extract the last digit\n",
    "        rev = rev * 10 + a                # Append the digit to the reverse variable\n",
    "        num //= 10                              # Remove the last digit from the original number\n",
    "\n",
    "    return rev\n",
    "\n",
    "                                            # number to be reversed\n",
    "num = int(input(\"Enter number: \"))\n",
    "\n",
    "                                                # Call the function to reverse the integer\n",
    "rev_num= rev_int(num)\n",
    "\n",
    "print( rev_num)   # print output"
   ]
  },
  {
   "cell_type": "code",
   "execution_count": 7,
   "id": "4a99f47d",
   "metadata": {},
   "outputs": [
    {
     "data": {
      "text/plain": [
       "7654"
      ]
     },
     "execution_count": 7,
     "metadata": {},
     "output_type": "execute_result"
    }
   ],
   "source": [
    "76542//10"
   ]
  },
  {
   "cell_type": "markdown",
   "id": "9b98362e",
   "metadata": {},
   "source": [
    "### Exercise 15: Use a loop to display elements from a given list present at odd index positions\t\t\t\t\t\t\n",
    "Given:\t\t\t\t\t\t\n",
    "my_list = [10, 20, 30, 40, 50, 60, 70, 80, 90, 100]\t\t\t\t\t\t\n"
   ]
  },
  {
   "cell_type": "code",
   "execution_count": 52,
   "id": "302ea14d",
   "metadata": {},
   "outputs": [
    {
     "name": "stdout",
     "output_type": "stream",
     "text": [
      "20\n",
      "40\n",
      "60\n",
      "80\n",
      "100\n"
     ]
    }
   ],
   "source": [
    "my_list = [10, 20, 30, 40, 50, 60, 70, 80, 90, 100]\n",
    "\n",
    "for i in range(len(my_list)):\n",
    "    if i % 2 == 1:  # Check if index is odd\n",
    "        print(my_list[i])"
   ]
  },
  {
   "cell_type": "code",
   "execution_count": null,
   "id": "cf02c5cf",
   "metadata": {},
   "outputs": [],
   "source": []
  },
  {
   "cell_type": "code",
   "execution_count": null,
   "id": "3943341d",
   "metadata": {},
   "outputs": [],
   "source": []
  },
  {
   "cell_type": "code",
   "execution_count": null,
   "id": "e5019c87",
   "metadata": {},
   "outputs": [],
   "source": []
  }
 ],
 "metadata": {
  "kernelspec": {
   "display_name": "Python 3 (ipykernel)",
   "language": "python",
   "name": "python3"
  },
  "language_info": {
   "codemirror_mode": {
    "name": "ipython",
    "version": 3
   },
   "file_extension": ".py",
   "mimetype": "text/x-python",
   "name": "python",
   "nbconvert_exporter": "python",
   "pygments_lexer": "ipython3",
   "version": "3.10.9"
  }
 },
 "nbformat": 4,
 "nbformat_minor": 5
}
